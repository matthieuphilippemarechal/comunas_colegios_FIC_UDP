{
 "cells": [
  {
   "cell_type": "code",
   "execution_count": 2,
   "id": "6f09917b",
   "metadata": {},
   "outputs": [],
   "source": [
    "import pandas as pd\n",
    "import numpy as np\n",
    "import plotly.express as px\n",
    "import os\n",
    "import plotly.io as pio"
   ]
  },
  {
   "cell_type": "code",
   "execution_count": 22,
   "id": "4daaed51",
   "metadata": {},
   "outputs": [],
   "source": [
    "pio.kaleido.scope.default_format = \"png\"\n",
    "pio.kaleido.scope.default_width = 800\n",
    "pio.kaleido.scope.default_height = 600"
   ]
  },
  {
   "cell_type": "code",
   "execution_count": null,
   "id": "11b42fdf",
   "metadata": {},
   "outputs": [],
   "source": []
  },
  {
   "cell_type": "code",
   "execution_count": null,
   "id": "f27e661d",
   "metadata": {},
   "outputs": [],
   "source": []
  },
  {
   "cell_type": "code",
   "execution_count": 3,
   "id": "966b2da6",
   "metadata": {},
   "outputs": [],
   "source": [
    "df = pd.read_excel(\"Datos_Alumnos2000_2016.xlsx\",index_col = 0)\n",
    "\n",
    "df_comunas = pd.read_excel('Coordenadas_comunas.xlsx',index_col = 0)"
   ]
  },
  {
   "cell_type": "code",
   "execution_count": 4,
   "id": "c3b6c84a",
   "metadata": {},
   "outputs": [
    {
     "data": {
      "text/html": [
       "<div>\n",
       "<style scoped>\n",
       "    .dataframe tbody tr th:only-of-type {\n",
       "        vertical-align: middle;\n",
       "    }\n",
       "\n",
       "    .dataframe tbody tr th {\n",
       "        vertical-align: top;\n",
       "    }\n",
       "\n",
       "    .dataframe thead th {\n",
       "        text-align: right;\n",
       "    }\n",
       "</style>\n",
       "<table border=\"1\" class=\"dataframe\">\n",
       "  <thead>\n",
       "    <tr style=\"text-align: right;\">\n",
       "      <th></th>\n",
       "      <th>lat</th>\n",
       "      <th>lon</th>\n",
       "    </tr>\n",
       "  </thead>\n",
       "  <tbody>\n",
       "    <tr>\n",
       "      <th>LAS CONDES</th>\n",
       "      <td>-33.4167</td>\n",
       "      <td>-70.5833</td>\n",
       "    </tr>\n",
       "    <tr>\n",
       "      <th>PROVIDENCIA</th>\n",
       "      <td>-33.4350</td>\n",
       "      <td>-70.6158</td>\n",
       "    </tr>\n",
       "    <tr>\n",
       "      <th>LO BARNECHEA</th>\n",
       "      <td>-33.3500</td>\n",
       "      <td>-70.5167</td>\n",
       "    </tr>\n",
       "    <tr>\n",
       "      <th>SANTIAGO</th>\n",
       "      <td>-33.4372</td>\n",
       "      <td>-70.6572</td>\n",
       "    </tr>\n",
       "    <tr>\n",
       "      <th>LA FLORIDA</th>\n",
       "      <td>-33.5250</td>\n",
       "      <td>-70.5378</td>\n",
       "    </tr>\n",
       "  </tbody>\n",
       "</table>\n",
       "</div>"
      ],
      "text/plain": [
       "                  lat      lon\n",
       "LAS CONDES   -33.4167 -70.5833\n",
       "PROVIDENCIA  -33.4350 -70.6158\n",
       "LO BARNECHEA -33.3500 -70.5167\n",
       "SANTIAGO     -33.4372 -70.6572\n",
       "LA FLORIDA   -33.5250 -70.5378"
      ]
     },
     "execution_count": 4,
     "metadata": {},
     "output_type": "execute_result"
    }
   ],
   "source": [
    "df_comunas.head()"
   ]
  },
  {
   "cell_type": "code",
   "execution_count": 5,
   "id": "18e9e436",
   "metadata": {},
   "outputs": [
    {
     "data": {
      "text/plain": [
       "Index(['pers_ap_paterno', 'pers_ap_materno', 'pers_nom1', 'pers_nom2',\n",
       "       'facultad', 'carr_codigo', 'carrera', 'carr_codigo_cambio',\n",
       "       'seme_codigo_cambio', 'ano_cambio', 'sem_cambio', 'carrera_cambio',\n",
       "       'plal_codigo', 'seme_codigo_inicio_carr', 'ano_ingreso', 'sem_ingreso',\n",
       "       'nota_final', 'pais', 'region', 'comuna', 'direccion', 'psu_ver',\n",
       "       'psu_mat', 'psu_cien', 'psu_hyg', 'psu_nem', 'notas_em', 'ponderado',\n",
       "       'rbd', 'dep', 'sexo', 'PTJE_RANKING', 'fecha_nacimiento',\n",
       "       'cod_reg_colegio', 'reg_colegio', 'comuna_colegio', 'nombre_colegio',\n",
       "       'ncur', 'naprob', 'taprob', 'nreprob', 'treprob', 'ESPA_CODIGO',\n",
       "       'seme_codigo_inicio', 'ESPA_DESCRIPCION', 'DV', 'ESCI_CODIGO',\n",
       "       'ESTADO_CIVIL', 'PAIS_CODIGO', 'REGION_CODIGO', 'CIUD_CODIGO', 'CIUDAD',\n",
       "       'COMUNA_CODIGO', 'E_MAIL', 'E_MAIL_UDP', 'TELEFONOS', 'matriculado',\n",
       "       'tipo_admision2', 'rut_apoderado', 'nombre1_apoderado',\n",
       "       'nombre2_apoderado', 'ap_paterno_apoderado', 'ap_materno_apoderado',\n",
       "       'quintil', 'decil', 'n_ayudantias', 'semexp_ayu'],\n",
       "      dtype='object')"
      ]
     },
     "execution_count": 5,
     "metadata": {},
     "output_type": "execute_result"
    }
   ],
   "source": [
    "df.columns"
   ]
  },
  {
   "cell_type": "code",
   "execution_count": 6,
   "id": "9d162ddf",
   "metadata": {},
   "outputs": [],
   "source": [
    "comunas_RM = ['Cerrillos','Cerro Navia','Colina','Conchalí','El Bosque','Estación Central','Huechuraba',\\\n",
    "              'Independencia','La Cisterna','La Florida', 'La Granja', 'La Pintana','La Reina','Las Condes',\\\n",
    "              'Lo Barnechea','Lo Espejo','Lo Prado','Macul','Maipú','Ñuñoa','Pedro Aguirre Cerda','Peñalolén',\\\n",
    "              'Providencia','Pudahuel','Puente Alto','Quilicura','Quinta Normal',\\\n",
    "              'Recoleta','Renca','San Joaquín','San Miguel','San Ramón','Santiago','Vitacura']"
   ]
  },
  {
   "cell_type": "code",
   "execution_count": 7,
   "id": "1a252919",
   "metadata": {},
   "outputs": [],
   "source": [
    "df_comunas_RM = df_comunas.loc[[comuna.upper() for comuna in comunas_RM]]"
   ]
  },
  {
   "cell_type": "code",
   "execution_count": null,
   "id": "003d7c7d",
   "metadata": {},
   "outputs": [],
   "source": []
  },
  {
   "cell_type": "code",
   "execution_count": 8,
   "id": "7ce4c3b6",
   "metadata": {},
   "outputs": [],
   "source": [
    "for ano in df.ano_ingreso.unique():\n",
    "    for comuna in list(df_comunas_RM.index):\n",
    "        df_comunas_RM.loc[comuna,ano] = ((df.ano_ingreso == ano) & (df.comuna_colegio == comuna)).sum()"
   ]
  },
  {
   "cell_type": "code",
   "execution_count": 9,
   "id": "e32ad916",
   "metadata": {},
   "outputs": [
    {
     "data": {
      "text/html": [
       "<div>\n",
       "<style scoped>\n",
       "    .dataframe tbody tr th:only-of-type {\n",
       "        vertical-align: middle;\n",
       "    }\n",
       "\n",
       "    .dataframe tbody tr th {\n",
       "        vertical-align: top;\n",
       "    }\n",
       "\n",
       "    .dataframe thead th {\n",
       "        text-align: right;\n",
       "    }\n",
       "</style>\n",
       "<table border=\"1\" class=\"dataframe\">\n",
       "  <thead>\n",
       "    <tr style=\"text-align: right;\">\n",
       "      <th></th>\n",
       "      <th>lat</th>\n",
       "      <th>lon</th>\n",
       "      <th>2007</th>\n",
       "      <th>2016</th>\n",
       "      <th>2011</th>\n",
       "      <th>2002</th>\n",
       "      <th>2006</th>\n",
       "      <th>2009</th>\n",
       "      <th>2008</th>\n",
       "      <th>2015</th>\n",
       "      <th>2004</th>\n",
       "      <th>2010</th>\n",
       "      <th>2005</th>\n",
       "      <th>2000</th>\n",
       "      <th>2012</th>\n",
       "      <th>2003</th>\n",
       "      <th>2001</th>\n",
       "      <th>2013</th>\n",
       "      <th>2014</th>\n",
       "    </tr>\n",
       "  </thead>\n",
       "  <tbody>\n",
       "    <tr>\n",
       "      <th>CERRILLOS</th>\n",
       "      <td>-33.5000</td>\n",
       "      <td>-70.7167</td>\n",
       "      <td>2.0</td>\n",
       "      <td>5.0</td>\n",
       "      <td>4.0</td>\n",
       "      <td>1.0</td>\n",
       "      <td>0.0</td>\n",
       "      <td>0.0</td>\n",
       "      <td>6.0</td>\n",
       "      <td>1.0</td>\n",
       "      <td>1.0</td>\n",
       "      <td>2.0</td>\n",
       "      <td>0.0</td>\n",
       "      <td>0.0</td>\n",
       "      <td>3.0</td>\n",
       "      <td>0.0</td>\n",
       "      <td>0.0</td>\n",
       "      <td>5.0</td>\n",
       "      <td>1.0</td>\n",
       "    </tr>\n",
       "    <tr>\n",
       "      <th>CERRO NAVIA</th>\n",
       "      <td>-33.4219</td>\n",
       "      <td>-70.7350</td>\n",
       "      <td>0.0</td>\n",
       "      <td>0.0</td>\n",
       "      <td>0.0</td>\n",
       "      <td>0.0</td>\n",
       "      <td>1.0</td>\n",
       "      <td>0.0</td>\n",
       "      <td>0.0</td>\n",
       "      <td>0.0</td>\n",
       "      <td>0.0</td>\n",
       "      <td>0.0</td>\n",
       "      <td>0.0</td>\n",
       "      <td>0.0</td>\n",
       "      <td>0.0</td>\n",
       "      <td>0.0</td>\n",
       "      <td>0.0</td>\n",
       "      <td>0.0</td>\n",
       "      <td>0.0</td>\n",
       "    </tr>\n",
       "    <tr>\n",
       "      <th>COLINA</th>\n",
       "      <td>-33.1939</td>\n",
       "      <td>-70.6678</td>\n",
       "      <td>4.0</td>\n",
       "      <td>3.0</td>\n",
       "      <td>3.0</td>\n",
       "      <td>1.0</td>\n",
       "      <td>2.0</td>\n",
       "      <td>1.0</td>\n",
       "      <td>0.0</td>\n",
       "      <td>2.0</td>\n",
       "      <td>1.0</td>\n",
       "      <td>3.0</td>\n",
       "      <td>1.0</td>\n",
       "      <td>0.0</td>\n",
       "      <td>1.0</td>\n",
       "      <td>0.0</td>\n",
       "      <td>0.0</td>\n",
       "      <td>2.0</td>\n",
       "      <td>2.0</td>\n",
       "    </tr>\n",
       "    <tr>\n",
       "      <th>CONCHALÍ</th>\n",
       "      <td>-33.3800</td>\n",
       "      <td>-70.6750</td>\n",
       "      <td>2.0</td>\n",
       "      <td>0.0</td>\n",
       "      <td>1.0</td>\n",
       "      <td>0.0</td>\n",
       "      <td>1.0</td>\n",
       "      <td>1.0</td>\n",
       "      <td>0.0</td>\n",
       "      <td>1.0</td>\n",
       "      <td>0.0</td>\n",
       "      <td>0.0</td>\n",
       "      <td>0.0</td>\n",
       "      <td>0.0</td>\n",
       "      <td>1.0</td>\n",
       "      <td>0.0</td>\n",
       "      <td>0.0</td>\n",
       "      <td>1.0</td>\n",
       "      <td>0.0</td>\n",
       "    </tr>\n",
       "    <tr>\n",
       "      <th>EL BOSQUE</th>\n",
       "      <td>-33.5669</td>\n",
       "      <td>-70.6750</td>\n",
       "      <td>9.0</td>\n",
       "      <td>11.0</td>\n",
       "      <td>4.0</td>\n",
       "      <td>0.0</td>\n",
       "      <td>3.0</td>\n",
       "      <td>4.0</td>\n",
       "      <td>6.0</td>\n",
       "      <td>4.0</td>\n",
       "      <td>0.0</td>\n",
       "      <td>8.0</td>\n",
       "      <td>3.0</td>\n",
       "      <td>0.0</td>\n",
       "      <td>6.0</td>\n",
       "      <td>0.0</td>\n",
       "      <td>0.0</td>\n",
       "      <td>7.0</td>\n",
       "      <td>7.0</td>\n",
       "    </tr>\n",
       "    <tr>\n",
       "      <th>ESTACIÓN CENTRAL</th>\n",
       "      <td>-33.4589</td>\n",
       "      <td>-70.6989</td>\n",
       "      <td>10.0</td>\n",
       "      <td>10.0</td>\n",
       "      <td>7.0</td>\n",
       "      <td>1.0</td>\n",
       "      <td>6.0</td>\n",
       "      <td>8.0</td>\n",
       "      <td>15.0</td>\n",
       "      <td>8.0</td>\n",
       "      <td>4.0</td>\n",
       "      <td>16.0</td>\n",
       "      <td>4.0</td>\n",
       "      <td>0.0</td>\n",
       "      <td>7.0</td>\n",
       "      <td>1.0</td>\n",
       "      <td>0.0</td>\n",
       "      <td>10.0</td>\n",
       "      <td>8.0</td>\n",
       "    </tr>\n",
       "    <tr>\n",
       "      <th>HUECHURABA</th>\n",
       "      <td>-33.3678</td>\n",
       "      <td>-70.6339</td>\n",
       "      <td>0.0</td>\n",
       "      <td>9.0</td>\n",
       "      <td>2.0</td>\n",
       "      <td>0.0</td>\n",
       "      <td>0.0</td>\n",
       "      <td>2.0</td>\n",
       "      <td>1.0</td>\n",
       "      <td>4.0</td>\n",
       "      <td>2.0</td>\n",
       "      <td>2.0</td>\n",
       "      <td>0.0</td>\n",
       "      <td>0.0</td>\n",
       "      <td>3.0</td>\n",
       "      <td>0.0</td>\n",
       "      <td>0.0</td>\n",
       "      <td>4.0</td>\n",
       "      <td>4.0</td>\n",
       "    </tr>\n",
       "    <tr>\n",
       "      <th>INDEPENDENCIA</th>\n",
       "      <td>-33.4128</td>\n",
       "      <td>-70.6658</td>\n",
       "      <td>7.0</td>\n",
       "      <td>4.0</td>\n",
       "      <td>8.0</td>\n",
       "      <td>0.0</td>\n",
       "      <td>8.0</td>\n",
       "      <td>3.0</td>\n",
       "      <td>5.0</td>\n",
       "      <td>3.0</td>\n",
       "      <td>8.0</td>\n",
       "      <td>5.0</td>\n",
       "      <td>0.0</td>\n",
       "      <td>2.0</td>\n",
       "      <td>7.0</td>\n",
       "      <td>1.0</td>\n",
       "      <td>0.0</td>\n",
       "      <td>7.0</td>\n",
       "      <td>3.0</td>\n",
       "    </tr>\n",
       "    <tr>\n",
       "      <th>LA CISTERNA</th>\n",
       "      <td>-33.5289</td>\n",
       "      <td>-70.6628</td>\n",
       "      <td>24.0</td>\n",
       "      <td>10.0</td>\n",
       "      <td>11.0</td>\n",
       "      <td>2.0</td>\n",
       "      <td>16.0</td>\n",
       "      <td>20.0</td>\n",
       "      <td>10.0</td>\n",
       "      <td>11.0</td>\n",
       "      <td>5.0</td>\n",
       "      <td>13.0</td>\n",
       "      <td>4.0</td>\n",
       "      <td>0.0</td>\n",
       "      <td>15.0</td>\n",
       "      <td>8.0</td>\n",
       "      <td>4.0</td>\n",
       "      <td>17.0</td>\n",
       "      <td>17.0</td>\n",
       "    </tr>\n",
       "    <tr>\n",
       "      <th>LA FLORIDA</th>\n",
       "      <td>-33.5250</td>\n",
       "      <td>-70.5378</td>\n",
       "      <td>53.0</td>\n",
       "      <td>41.0</td>\n",
       "      <td>65.0</td>\n",
       "      <td>16.0</td>\n",
       "      <td>33.0</td>\n",
       "      <td>37.0</td>\n",
       "      <td>42.0</td>\n",
       "      <td>37.0</td>\n",
       "      <td>32.0</td>\n",
       "      <td>55.0</td>\n",
       "      <td>23.0</td>\n",
       "      <td>2.0</td>\n",
       "      <td>43.0</td>\n",
       "      <td>23.0</td>\n",
       "      <td>0.0</td>\n",
       "      <td>37.0</td>\n",
       "      <td>35.0</td>\n",
       "    </tr>\n",
       "    <tr>\n",
       "      <th>LA GRANJA</th>\n",
       "      <td>-33.5833</td>\n",
       "      <td>-70.5833</td>\n",
       "      <td>1.0</td>\n",
       "      <td>6.0</td>\n",
       "      <td>0.0</td>\n",
       "      <td>0.0</td>\n",
       "      <td>1.0</td>\n",
       "      <td>0.0</td>\n",
       "      <td>0.0</td>\n",
       "      <td>4.0</td>\n",
       "      <td>2.0</td>\n",
       "      <td>1.0</td>\n",
       "      <td>0.0</td>\n",
       "      <td>0.0</td>\n",
       "      <td>3.0</td>\n",
       "      <td>0.0</td>\n",
       "      <td>0.0</td>\n",
       "      <td>2.0</td>\n",
       "      <td>2.0</td>\n",
       "    </tr>\n",
       "    <tr>\n",
       "      <th>LA PINTANA</th>\n",
       "      <td>-33.5828</td>\n",
       "      <td>-70.6339</td>\n",
       "      <td>0.0</td>\n",
       "      <td>1.0</td>\n",
       "      <td>1.0</td>\n",
       "      <td>0.0</td>\n",
       "      <td>0.0</td>\n",
       "      <td>0.0</td>\n",
       "      <td>2.0</td>\n",
       "      <td>1.0</td>\n",
       "      <td>0.0</td>\n",
       "      <td>1.0</td>\n",
       "      <td>0.0</td>\n",
       "      <td>0.0</td>\n",
       "      <td>2.0</td>\n",
       "      <td>0.0</td>\n",
       "      <td>0.0</td>\n",
       "      <td>0.0</td>\n",
       "      <td>1.0</td>\n",
       "    </tr>\n",
       "    <tr>\n",
       "      <th>LA REINA</th>\n",
       "      <td>-33.4428</td>\n",
       "      <td>-70.5319</td>\n",
       "      <td>24.0</td>\n",
       "      <td>8.0</td>\n",
       "      <td>21.0</td>\n",
       "      <td>12.0</td>\n",
       "      <td>31.0</td>\n",
       "      <td>24.0</td>\n",
       "      <td>24.0</td>\n",
       "      <td>3.0</td>\n",
       "      <td>43.0</td>\n",
       "      <td>21.0</td>\n",
       "      <td>18.0</td>\n",
       "      <td>0.0</td>\n",
       "      <td>6.0</td>\n",
       "      <td>23.0</td>\n",
       "      <td>6.0</td>\n",
       "      <td>10.0</td>\n",
       "      <td>13.0</td>\n",
       "    </tr>\n",
       "    <tr>\n",
       "      <th>LAS CONDES</th>\n",
       "      <td>-33.4167</td>\n",
       "      <td>-70.5833</td>\n",
       "      <td>66.0</td>\n",
       "      <td>25.0</td>\n",
       "      <td>54.0</td>\n",
       "      <td>77.0</td>\n",
       "      <td>71.0</td>\n",
       "      <td>56.0</td>\n",
       "      <td>85.0</td>\n",
       "      <td>22.0</td>\n",
       "      <td>58.0</td>\n",
       "      <td>53.0</td>\n",
       "      <td>54.0</td>\n",
       "      <td>26.0</td>\n",
       "      <td>30.0</td>\n",
       "      <td>79.0</td>\n",
       "      <td>17.0</td>\n",
       "      <td>26.0</td>\n",
       "      <td>21.0</td>\n",
       "    </tr>\n",
       "    <tr>\n",
       "      <th>LO BARNECHEA</th>\n",
       "      <td>-33.3500</td>\n",
       "      <td>-70.5167</td>\n",
       "      <td>8.0</td>\n",
       "      <td>1.0</td>\n",
       "      <td>1.0</td>\n",
       "      <td>12.0</td>\n",
       "      <td>10.0</td>\n",
       "      <td>7.0</td>\n",
       "      <td>12.0</td>\n",
       "      <td>4.0</td>\n",
       "      <td>14.0</td>\n",
       "      <td>5.0</td>\n",
       "      <td>6.0</td>\n",
       "      <td>7.0</td>\n",
       "      <td>5.0</td>\n",
       "      <td>11.0</td>\n",
       "      <td>5.0</td>\n",
       "      <td>5.0</td>\n",
       "      <td>2.0</td>\n",
       "    </tr>\n",
       "    <tr>\n",
       "      <th>LO ESPEJO</th>\n",
       "      <td>-33.5219</td>\n",
       "      <td>-70.6869</td>\n",
       "      <td>0.0</td>\n",
       "      <td>2.0</td>\n",
       "      <td>1.0</td>\n",
       "      <td>0.0</td>\n",
       "      <td>0.0</td>\n",
       "      <td>0.0</td>\n",
       "      <td>0.0</td>\n",
       "      <td>0.0</td>\n",
       "      <td>0.0</td>\n",
       "      <td>0.0</td>\n",
       "      <td>0.0</td>\n",
       "      <td>0.0</td>\n",
       "      <td>0.0</td>\n",
       "      <td>0.0</td>\n",
       "      <td>0.0</td>\n",
       "      <td>0.0</td>\n",
       "      <td>0.0</td>\n",
       "    </tr>\n",
       "    <tr>\n",
       "      <th>LO PRADO</th>\n",
       "      <td>-33.4450</td>\n",
       "      <td>-70.7258</td>\n",
       "      <td>0.0</td>\n",
       "      <td>0.0</td>\n",
       "      <td>1.0</td>\n",
       "      <td>0.0</td>\n",
       "      <td>0.0</td>\n",
       "      <td>1.0</td>\n",
       "      <td>0.0</td>\n",
       "      <td>0.0</td>\n",
       "      <td>0.0</td>\n",
       "      <td>0.0</td>\n",
       "      <td>0.0</td>\n",
       "      <td>0.0</td>\n",
       "      <td>0.0</td>\n",
       "      <td>0.0</td>\n",
       "      <td>0.0</td>\n",
       "      <td>0.0</td>\n",
       "      <td>2.0</td>\n",
       "    </tr>\n",
       "    <tr>\n",
       "      <th>MACUL</th>\n",
       "      <td>-33.4869</td>\n",
       "      <td>-70.6039</td>\n",
       "      <td>19.0</td>\n",
       "      <td>7.0</td>\n",
       "      <td>8.0</td>\n",
       "      <td>14.0</td>\n",
       "      <td>17.0</td>\n",
       "      <td>13.0</td>\n",
       "      <td>19.0</td>\n",
       "      <td>7.0</td>\n",
       "      <td>12.0</td>\n",
       "      <td>13.0</td>\n",
       "      <td>2.0</td>\n",
       "      <td>1.0</td>\n",
       "      <td>9.0</td>\n",
       "      <td>1.0</td>\n",
       "      <td>1.0</td>\n",
       "      <td>9.0</td>\n",
       "      <td>6.0</td>\n",
       "    </tr>\n",
       "    <tr>\n",
       "      <th>MAIPÚ</th>\n",
       "      <td>-33.5167</td>\n",
       "      <td>-70.7667</td>\n",
       "      <td>31.0</td>\n",
       "      <td>41.0</td>\n",
       "      <td>35.0</td>\n",
       "      <td>15.0</td>\n",
       "      <td>30.0</td>\n",
       "      <td>29.0</td>\n",
       "      <td>41.0</td>\n",
       "      <td>42.0</td>\n",
       "      <td>18.0</td>\n",
       "      <td>29.0</td>\n",
       "      <td>17.0</td>\n",
       "      <td>1.0</td>\n",
       "      <td>32.0</td>\n",
       "      <td>8.0</td>\n",
       "      <td>0.0</td>\n",
       "      <td>47.0</td>\n",
       "      <td>41.0</td>\n",
       "    </tr>\n",
       "    <tr>\n",
       "      <th>ÑUÑOA</th>\n",
       "      <td>-33.4539</td>\n",
       "      <td>-70.6039</td>\n",
       "      <td>50.0</td>\n",
       "      <td>29.0</td>\n",
       "      <td>28.0</td>\n",
       "      <td>16.0</td>\n",
       "      <td>28.0</td>\n",
       "      <td>31.0</td>\n",
       "      <td>38.0</td>\n",
       "      <td>24.0</td>\n",
       "      <td>33.0</td>\n",
       "      <td>34.0</td>\n",
       "      <td>28.0</td>\n",
       "      <td>2.0</td>\n",
       "      <td>32.0</td>\n",
       "      <td>15.0</td>\n",
       "      <td>3.0</td>\n",
       "      <td>27.0</td>\n",
       "      <td>32.0</td>\n",
       "    </tr>\n",
       "    <tr>\n",
       "      <th>PEDRO AGUIRRE CERDA</th>\n",
       "      <td>-33.4661</td>\n",
       "      <td>-70.6336</td>\n",
       "      <td>0.0</td>\n",
       "      <td>2.0</td>\n",
       "      <td>0.0</td>\n",
       "      <td>0.0</td>\n",
       "      <td>0.0</td>\n",
       "      <td>1.0</td>\n",
       "      <td>1.0</td>\n",
       "      <td>1.0</td>\n",
       "      <td>0.0</td>\n",
       "      <td>1.0</td>\n",
       "      <td>0.0</td>\n",
       "      <td>0.0</td>\n",
       "      <td>0.0</td>\n",
       "      <td>0.0</td>\n",
       "      <td>0.0</td>\n",
       "      <td>2.0</td>\n",
       "      <td>0.0</td>\n",
       "    </tr>\n",
       "    <tr>\n",
       "      <th>PEÑALOLÉN</th>\n",
       "      <td>-33.4861</td>\n",
       "      <td>-70.5333</td>\n",
       "      <td>17.0</td>\n",
       "      <td>17.0</td>\n",
       "      <td>14.0</td>\n",
       "      <td>9.0</td>\n",
       "      <td>27.0</td>\n",
       "      <td>15.0</td>\n",
       "      <td>35.0</td>\n",
       "      <td>26.0</td>\n",
       "      <td>12.0</td>\n",
       "      <td>13.0</td>\n",
       "      <td>10.0</td>\n",
       "      <td>3.0</td>\n",
       "      <td>17.0</td>\n",
       "      <td>2.0</td>\n",
       "      <td>0.0</td>\n",
       "      <td>20.0</td>\n",
       "      <td>11.0</td>\n",
       "    </tr>\n",
       "    <tr>\n",
       "      <th>PROVIDENCIA</th>\n",
       "      <td>-33.4350</td>\n",
       "      <td>-70.6158</td>\n",
       "      <td>54.0</td>\n",
       "      <td>42.0</td>\n",
       "      <td>50.0</td>\n",
       "      <td>33.0</td>\n",
       "      <td>61.0</td>\n",
       "      <td>50.0</td>\n",
       "      <td>47.0</td>\n",
       "      <td>51.0</td>\n",
       "      <td>40.0</td>\n",
       "      <td>37.0</td>\n",
       "      <td>22.0</td>\n",
       "      <td>9.0</td>\n",
       "      <td>31.0</td>\n",
       "      <td>50.0</td>\n",
       "      <td>15.0</td>\n",
       "      <td>48.0</td>\n",
       "      <td>39.0</td>\n",
       "    </tr>\n",
       "    <tr>\n",
       "      <th>PUDAHUEL</th>\n",
       "      <td>-33.4333</td>\n",
       "      <td>-70.7167</td>\n",
       "      <td>1.0</td>\n",
       "      <td>7.0</td>\n",
       "      <td>1.0</td>\n",
       "      <td>0.0</td>\n",
       "      <td>2.0</td>\n",
       "      <td>1.0</td>\n",
       "      <td>2.0</td>\n",
       "      <td>3.0</td>\n",
       "      <td>0.0</td>\n",
       "      <td>1.0</td>\n",
       "      <td>0.0</td>\n",
       "      <td>0.0</td>\n",
       "      <td>4.0</td>\n",
       "      <td>0.0</td>\n",
       "      <td>0.0</td>\n",
       "      <td>3.0</td>\n",
       "      <td>5.0</td>\n",
       "    </tr>\n",
       "    <tr>\n",
       "      <th>PUENTE ALTO</th>\n",
       "      <td>-33.6158</td>\n",
       "      <td>-70.5700</td>\n",
       "      <td>28.0</td>\n",
       "      <td>25.0</td>\n",
       "      <td>20.0</td>\n",
       "      <td>6.0</td>\n",
       "      <td>20.0</td>\n",
       "      <td>12.0</td>\n",
       "      <td>15.0</td>\n",
       "      <td>22.0</td>\n",
       "      <td>8.0</td>\n",
       "      <td>21.0</td>\n",
       "      <td>4.0</td>\n",
       "      <td>0.0</td>\n",
       "      <td>21.0</td>\n",
       "      <td>1.0</td>\n",
       "      <td>0.0</td>\n",
       "      <td>35.0</td>\n",
       "      <td>38.0</td>\n",
       "    </tr>\n",
       "    <tr>\n",
       "      <th>QUILICURA</th>\n",
       "      <td>-33.3608</td>\n",
       "      <td>-70.7289</td>\n",
       "      <td>4.0</td>\n",
       "      <td>16.0</td>\n",
       "      <td>5.0</td>\n",
       "      <td>0.0</td>\n",
       "      <td>0.0</td>\n",
       "      <td>0.0</td>\n",
       "      <td>1.0</td>\n",
       "      <td>10.0</td>\n",
       "      <td>0.0</td>\n",
       "      <td>2.0</td>\n",
       "      <td>0.0</td>\n",
       "      <td>0.0</td>\n",
       "      <td>5.0</td>\n",
       "      <td>3.0</td>\n",
       "      <td>0.0</td>\n",
       "      <td>8.0</td>\n",
       "      <td>13.0</td>\n",
       "    </tr>\n",
       "    <tr>\n",
       "      <th>QUINTA NORMAL</th>\n",
       "      <td>-33.4269</td>\n",
       "      <td>-70.6989</td>\n",
       "      <td>5.0</td>\n",
       "      <td>6.0</td>\n",
       "      <td>2.0</td>\n",
       "      <td>0.0</td>\n",
       "      <td>6.0</td>\n",
       "      <td>4.0</td>\n",
       "      <td>4.0</td>\n",
       "      <td>4.0</td>\n",
       "      <td>2.0</td>\n",
       "      <td>3.0</td>\n",
       "      <td>2.0</td>\n",
       "      <td>0.0</td>\n",
       "      <td>3.0</td>\n",
       "      <td>0.0</td>\n",
       "      <td>0.0</td>\n",
       "      <td>2.0</td>\n",
       "      <td>5.0</td>\n",
       "    </tr>\n",
       "    <tr>\n",
       "      <th>RECOLETA</th>\n",
       "      <td>-33.4058</td>\n",
       "      <td>-70.6400</td>\n",
       "      <td>11.0</td>\n",
       "      <td>4.0</td>\n",
       "      <td>8.0</td>\n",
       "      <td>9.0</td>\n",
       "      <td>18.0</td>\n",
       "      <td>10.0</td>\n",
       "      <td>10.0</td>\n",
       "      <td>8.0</td>\n",
       "      <td>11.0</td>\n",
       "      <td>13.0</td>\n",
       "      <td>13.0</td>\n",
       "      <td>1.0</td>\n",
       "      <td>8.0</td>\n",
       "      <td>11.0</td>\n",
       "      <td>1.0</td>\n",
       "      <td>6.0</td>\n",
       "      <td>10.0</td>\n",
       "    </tr>\n",
       "    <tr>\n",
       "      <th>RENCA</th>\n",
       "      <td>-33.3978</td>\n",
       "      <td>-70.7228</td>\n",
       "      <td>4.0</td>\n",
       "      <td>4.0</td>\n",
       "      <td>2.0</td>\n",
       "      <td>0.0</td>\n",
       "      <td>3.0</td>\n",
       "      <td>0.0</td>\n",
       "      <td>3.0</td>\n",
       "      <td>2.0</td>\n",
       "      <td>0.0</td>\n",
       "      <td>0.0</td>\n",
       "      <td>0.0</td>\n",
       "      <td>0.0</td>\n",
       "      <td>2.0</td>\n",
       "      <td>0.0</td>\n",
       "      <td>0.0</td>\n",
       "      <td>1.0</td>\n",
       "      <td>2.0</td>\n",
       "    </tr>\n",
       "    <tr>\n",
       "      <th>SAN JOAQUÍN</th>\n",
       "      <td>-33.4908</td>\n",
       "      <td>-70.6278</td>\n",
       "      <td>1.0</td>\n",
       "      <td>1.0</td>\n",
       "      <td>1.0</td>\n",
       "      <td>1.0</td>\n",
       "      <td>0.0</td>\n",
       "      <td>0.0</td>\n",
       "      <td>3.0</td>\n",
       "      <td>1.0</td>\n",
       "      <td>2.0</td>\n",
       "      <td>2.0</td>\n",
       "      <td>0.0</td>\n",
       "      <td>0.0</td>\n",
       "      <td>0.0</td>\n",
       "      <td>0.0</td>\n",
       "      <td>0.0</td>\n",
       "      <td>0.0</td>\n",
       "      <td>1.0</td>\n",
       "    </tr>\n",
       "    <tr>\n",
       "      <th>SAN MIGUEL</th>\n",
       "      <td>-33.4858</td>\n",
       "      <td>-70.6494</td>\n",
       "      <td>14.0</td>\n",
       "      <td>17.0</td>\n",
       "      <td>17.0</td>\n",
       "      <td>8.0</td>\n",
       "      <td>17.0</td>\n",
       "      <td>21.0</td>\n",
       "      <td>9.0</td>\n",
       "      <td>16.0</td>\n",
       "      <td>5.0</td>\n",
       "      <td>14.0</td>\n",
       "      <td>5.0</td>\n",
       "      <td>0.0</td>\n",
       "      <td>11.0</td>\n",
       "      <td>4.0</td>\n",
       "      <td>0.0</td>\n",
       "      <td>11.0</td>\n",
       "      <td>12.0</td>\n",
       "    </tr>\n",
       "    <tr>\n",
       "      <th>SAN RAMÓN</th>\n",
       "      <td>-33.5428</td>\n",
       "      <td>-70.6439</td>\n",
       "      <td>0.0</td>\n",
       "      <td>6.0</td>\n",
       "      <td>2.0</td>\n",
       "      <td>0.0</td>\n",
       "      <td>1.0</td>\n",
       "      <td>1.0</td>\n",
       "      <td>1.0</td>\n",
       "      <td>0.0</td>\n",
       "      <td>0.0</td>\n",
       "      <td>0.0</td>\n",
       "      <td>0.0</td>\n",
       "      <td>0.0</td>\n",
       "      <td>3.0</td>\n",
       "      <td>0.0</td>\n",
       "      <td>0.0</td>\n",
       "      <td>3.0</td>\n",
       "      <td>1.0</td>\n",
       "    </tr>\n",
       "    <tr>\n",
       "      <th>SANTIAGO</th>\n",
       "      <td>-33.4372</td>\n",
       "      <td>-70.6572</td>\n",
       "      <td>144.0</td>\n",
       "      <td>117.0</td>\n",
       "      <td>104.0</td>\n",
       "      <td>31.0</td>\n",
       "      <td>107.0</td>\n",
       "      <td>93.0</td>\n",
       "      <td>113.0</td>\n",
       "      <td>89.0</td>\n",
       "      <td>62.0</td>\n",
       "      <td>77.0</td>\n",
       "      <td>54.0</td>\n",
       "      <td>4.0</td>\n",
       "      <td>67.0</td>\n",
       "      <td>32.0</td>\n",
       "      <td>6.0</td>\n",
       "      <td>71.0</td>\n",
       "      <td>102.0</td>\n",
       "    </tr>\n",
       "    <tr>\n",
       "      <th>VITACURA</th>\n",
       "      <td>-33.4000</td>\n",
       "      <td>-70.6000</td>\n",
       "      <td>23.0</td>\n",
       "      <td>10.0</td>\n",
       "      <td>17.0</td>\n",
       "      <td>8.0</td>\n",
       "      <td>25.0</td>\n",
       "      <td>19.0</td>\n",
       "      <td>34.0</td>\n",
       "      <td>9.0</td>\n",
       "      <td>38.0</td>\n",
       "      <td>17.0</td>\n",
       "      <td>19.0</td>\n",
       "      <td>13.0</td>\n",
       "      <td>8.0</td>\n",
       "      <td>32.0</td>\n",
       "      <td>8.0</td>\n",
       "      <td>10.0</td>\n",
       "      <td>7.0</td>\n",
       "    </tr>\n",
       "  </tbody>\n",
       "</table>\n",
       "</div>"
      ],
      "text/plain": [
       "                         lat      lon   2007   2016   2011  2002   2006  2009  \\\n",
       "CERRILLOS           -33.5000 -70.7167    2.0    5.0    4.0   1.0    0.0   0.0   \n",
       "CERRO NAVIA         -33.4219 -70.7350    0.0    0.0    0.0   0.0    1.0   0.0   \n",
       "COLINA              -33.1939 -70.6678    4.0    3.0    3.0   1.0    2.0   1.0   \n",
       "CONCHALÍ            -33.3800 -70.6750    2.0    0.0    1.0   0.0    1.0   1.0   \n",
       "EL BOSQUE           -33.5669 -70.6750    9.0   11.0    4.0   0.0    3.0   4.0   \n",
       "ESTACIÓN CENTRAL    -33.4589 -70.6989   10.0   10.0    7.0   1.0    6.0   8.0   \n",
       "HUECHURABA          -33.3678 -70.6339    0.0    9.0    2.0   0.0    0.0   2.0   \n",
       "INDEPENDENCIA       -33.4128 -70.6658    7.0    4.0    8.0   0.0    8.0   3.0   \n",
       "LA CISTERNA         -33.5289 -70.6628   24.0   10.0   11.0   2.0   16.0  20.0   \n",
       "LA FLORIDA          -33.5250 -70.5378   53.0   41.0   65.0  16.0   33.0  37.0   \n",
       "LA GRANJA           -33.5833 -70.5833    1.0    6.0    0.0   0.0    1.0   0.0   \n",
       "LA PINTANA          -33.5828 -70.6339    0.0    1.0    1.0   0.0    0.0   0.0   \n",
       "LA REINA            -33.4428 -70.5319   24.0    8.0   21.0  12.0   31.0  24.0   \n",
       "LAS CONDES          -33.4167 -70.5833   66.0   25.0   54.0  77.0   71.0  56.0   \n",
       "LO BARNECHEA        -33.3500 -70.5167    8.0    1.0    1.0  12.0   10.0   7.0   \n",
       "LO ESPEJO           -33.5219 -70.6869    0.0    2.0    1.0   0.0    0.0   0.0   \n",
       "LO PRADO            -33.4450 -70.7258    0.0    0.0    1.0   0.0    0.0   1.0   \n",
       "MACUL               -33.4869 -70.6039   19.0    7.0    8.0  14.0   17.0  13.0   \n",
       "MAIPÚ               -33.5167 -70.7667   31.0   41.0   35.0  15.0   30.0  29.0   \n",
       "ÑUÑOA               -33.4539 -70.6039   50.0   29.0   28.0  16.0   28.0  31.0   \n",
       "PEDRO AGUIRRE CERDA -33.4661 -70.6336    0.0    2.0    0.0   0.0    0.0   1.0   \n",
       "PEÑALOLÉN           -33.4861 -70.5333   17.0   17.0   14.0   9.0   27.0  15.0   \n",
       "PROVIDENCIA         -33.4350 -70.6158   54.0   42.0   50.0  33.0   61.0  50.0   \n",
       "PUDAHUEL            -33.4333 -70.7167    1.0    7.0    1.0   0.0    2.0   1.0   \n",
       "PUENTE ALTO         -33.6158 -70.5700   28.0   25.0   20.0   6.0   20.0  12.0   \n",
       "QUILICURA           -33.3608 -70.7289    4.0   16.0    5.0   0.0    0.0   0.0   \n",
       "QUINTA NORMAL       -33.4269 -70.6989    5.0    6.0    2.0   0.0    6.0   4.0   \n",
       "RECOLETA            -33.4058 -70.6400   11.0    4.0    8.0   9.0   18.0  10.0   \n",
       "RENCA               -33.3978 -70.7228    4.0    4.0    2.0   0.0    3.0   0.0   \n",
       "SAN JOAQUÍN         -33.4908 -70.6278    1.0    1.0    1.0   1.0    0.0   0.0   \n",
       "SAN MIGUEL          -33.4858 -70.6494   14.0   17.0   17.0   8.0   17.0  21.0   \n",
       "SAN RAMÓN           -33.5428 -70.6439    0.0    6.0    2.0   0.0    1.0   1.0   \n",
       "SANTIAGO            -33.4372 -70.6572  144.0  117.0  104.0  31.0  107.0  93.0   \n",
       "VITACURA            -33.4000 -70.6000   23.0   10.0   17.0   8.0   25.0  19.0   \n",
       "\n",
       "                      2008  2015  2004  2010  2005  2000  2012  2003  2001  \\\n",
       "CERRILLOS              6.0   1.0   1.0   2.0   0.0   0.0   3.0   0.0   0.0   \n",
       "CERRO NAVIA            0.0   0.0   0.0   0.0   0.0   0.0   0.0   0.0   0.0   \n",
       "COLINA                 0.0   2.0   1.0   3.0   1.0   0.0   1.0   0.0   0.0   \n",
       "CONCHALÍ               0.0   1.0   0.0   0.0   0.0   0.0   1.0   0.0   0.0   \n",
       "EL BOSQUE              6.0   4.0   0.0   8.0   3.0   0.0   6.0   0.0   0.0   \n",
       "ESTACIÓN CENTRAL      15.0   8.0   4.0  16.0   4.0   0.0   7.0   1.0   0.0   \n",
       "HUECHURABA             1.0   4.0   2.0   2.0   0.0   0.0   3.0   0.0   0.0   \n",
       "INDEPENDENCIA          5.0   3.0   8.0   5.0   0.0   2.0   7.0   1.0   0.0   \n",
       "LA CISTERNA           10.0  11.0   5.0  13.0   4.0   0.0  15.0   8.0   4.0   \n",
       "LA FLORIDA            42.0  37.0  32.0  55.0  23.0   2.0  43.0  23.0   0.0   \n",
       "LA GRANJA              0.0   4.0   2.0   1.0   0.0   0.0   3.0   0.0   0.0   \n",
       "LA PINTANA             2.0   1.0   0.0   1.0   0.0   0.0   2.0   0.0   0.0   \n",
       "LA REINA              24.0   3.0  43.0  21.0  18.0   0.0   6.0  23.0   6.0   \n",
       "LAS CONDES            85.0  22.0  58.0  53.0  54.0  26.0  30.0  79.0  17.0   \n",
       "LO BARNECHEA          12.0   4.0  14.0   5.0   6.0   7.0   5.0  11.0   5.0   \n",
       "LO ESPEJO              0.0   0.0   0.0   0.0   0.0   0.0   0.0   0.0   0.0   \n",
       "LO PRADO               0.0   0.0   0.0   0.0   0.0   0.0   0.0   0.0   0.0   \n",
       "MACUL                 19.0   7.0  12.0  13.0   2.0   1.0   9.0   1.0   1.0   \n",
       "MAIPÚ                 41.0  42.0  18.0  29.0  17.0   1.0  32.0   8.0   0.0   \n",
       "ÑUÑOA                 38.0  24.0  33.0  34.0  28.0   2.0  32.0  15.0   3.0   \n",
       "PEDRO AGUIRRE CERDA    1.0   1.0   0.0   1.0   0.0   0.0   0.0   0.0   0.0   \n",
       "PEÑALOLÉN             35.0  26.0  12.0  13.0  10.0   3.0  17.0   2.0   0.0   \n",
       "PROVIDENCIA           47.0  51.0  40.0  37.0  22.0   9.0  31.0  50.0  15.0   \n",
       "PUDAHUEL               2.0   3.0   0.0   1.0   0.0   0.0   4.0   0.0   0.0   \n",
       "PUENTE ALTO           15.0  22.0   8.0  21.0   4.0   0.0  21.0   1.0   0.0   \n",
       "QUILICURA              1.0  10.0   0.0   2.0   0.0   0.0   5.0   3.0   0.0   \n",
       "QUINTA NORMAL          4.0   4.0   2.0   3.0   2.0   0.0   3.0   0.0   0.0   \n",
       "RECOLETA              10.0   8.0  11.0  13.0  13.0   1.0   8.0  11.0   1.0   \n",
       "RENCA                  3.0   2.0   0.0   0.0   0.0   0.0   2.0   0.0   0.0   \n",
       "SAN JOAQUÍN            3.0   1.0   2.0   2.0   0.0   0.0   0.0   0.0   0.0   \n",
       "SAN MIGUEL             9.0  16.0   5.0  14.0   5.0   0.0  11.0   4.0   0.0   \n",
       "SAN RAMÓN              1.0   0.0   0.0   0.0   0.0   0.0   3.0   0.0   0.0   \n",
       "SANTIAGO             113.0  89.0  62.0  77.0  54.0   4.0  67.0  32.0   6.0   \n",
       "VITACURA              34.0   9.0  38.0  17.0  19.0  13.0   8.0  32.0   8.0   \n",
       "\n",
       "                     2013   2014  \n",
       "CERRILLOS             5.0    1.0  \n",
       "CERRO NAVIA           0.0    0.0  \n",
       "COLINA                2.0    2.0  \n",
       "CONCHALÍ              1.0    0.0  \n",
       "EL BOSQUE             7.0    7.0  \n",
       "ESTACIÓN CENTRAL     10.0    8.0  \n",
       "HUECHURABA            4.0    4.0  \n",
       "INDEPENDENCIA         7.0    3.0  \n",
       "LA CISTERNA          17.0   17.0  \n",
       "LA FLORIDA           37.0   35.0  \n",
       "LA GRANJA             2.0    2.0  \n",
       "LA PINTANA            0.0    1.0  \n",
       "LA REINA             10.0   13.0  \n",
       "LAS CONDES           26.0   21.0  \n",
       "LO BARNECHEA          5.0    2.0  \n",
       "LO ESPEJO             0.0    0.0  \n",
       "LO PRADO              0.0    2.0  \n",
       "MACUL                 9.0    6.0  \n",
       "MAIPÚ                47.0   41.0  \n",
       "ÑUÑOA                27.0   32.0  \n",
       "PEDRO AGUIRRE CERDA   2.0    0.0  \n",
       "PEÑALOLÉN            20.0   11.0  \n",
       "PROVIDENCIA          48.0   39.0  \n",
       "PUDAHUEL              3.0    5.0  \n",
       "PUENTE ALTO          35.0   38.0  \n",
       "QUILICURA             8.0   13.0  \n",
       "QUINTA NORMAL         2.0    5.0  \n",
       "RECOLETA              6.0   10.0  \n",
       "RENCA                 1.0    2.0  \n",
       "SAN JOAQUÍN           0.0    1.0  \n",
       "SAN MIGUEL           11.0   12.0  \n",
       "SAN RAMÓN             3.0    1.0  \n",
       "SANTIAGO             71.0  102.0  \n",
       "VITACURA             10.0    7.0  "
      ]
     },
     "execution_count": 9,
     "metadata": {},
     "output_type": "execute_result"
    }
   ],
   "source": [
    "df_comunas_RM"
   ]
  },
  {
   "cell_type": "code",
   "execution_count": 10,
   "id": "777ff710",
   "metadata": {},
   "outputs": [],
   "source": [
    "df_comunas_RM.iloc[:,2:] = (df_comunas_RM.iloc[:,2:]/df_comunas_RM.iloc[:,2:].sum())"
   ]
  },
  {
   "cell_type": "code",
   "execution_count": 25,
   "id": "7fa825e7",
   "metadata": {},
   "outputs": [],
   "source": [
    "def mapa_colegios_por_ano(ano):\n",
    "\n",
    " fig = px.scatter_mapbox(df_comunas_RM,\\\n",
    "                         lat=\"lat\", lon=\"lon\",  zoom=2, size = ano)\n",
    "\n",
    " fig.update_layout(\n",
    "    margin ={'l':0,'t':0,'b':0,'r':0},\n",
    "    mapbox = {\n",
    "        'center': {'lon': -70.73, 'lat': -33.45},\n",
    "        'style': \"open-street-map\",\n",
    "        'zoom': 10})\n",
    " \n",
    "\n",
    " return fig"
   ]
  },
  {
   "cell_type": "code",
   "execution_count": 26,
   "id": "81384ce4",
   "metadata": {},
   "outputs": [
    {
     "data": {
      "application/vnd.plotly.v1+json": {
       "config": {
        "plotlyServerURL": "https://plot.ly"
       },
       "data": [
        {
         "hovertemplate": "2015=%{marker.size}<br>lat=%{lat}<br>lon=%{lon}<extra></extra>",
         "lat": [
          -33.5,
          -33.4219,
          -33.1939,
          -33.38,
          -33.5669,
          -33.4589,
          -33.3678,
          -33.4128,
          -33.5289,
          -33.525,
          -33.5833,
          -33.5828,
          -33.4428,
          -33.4167,
          -33.35,
          -33.5219,
          -33.445,
          -33.4869,
          -33.5167,
          -33.4539,
          -33.4661,
          -33.4861,
          -33.435,
          -33.4333,
          -33.6158,
          -33.3608,
          -33.4269,
          -33.4058,
          -33.3978,
          -33.4908,
          -33.4858,
          -33.5428,
          -33.4372,
          -33.4
         ],
         "legendgroup": "",
         "lon": [
          -70.7167,
          -70.735,
          -70.6678,
          -70.675,
          -70.675,
          -70.6989,
          -70.6339,
          -70.6658,
          -70.6628,
          -70.5378,
          -70.5833,
          -70.6339,
          -70.5319,
          -70.5833,
          -70.5167,
          -70.6869,
          -70.7258,
          -70.6039,
          -70.7667,
          -70.6039,
          -70.6336,
          -70.5333,
          -70.6158,
          -70.7167,
          -70.57,
          -70.7289,
          -70.6989,
          -70.64,
          -70.7228,
          -70.6278,
          -70.6494,
          -70.6439,
          -70.6572,
          -70.6
         ],
         "marker": {
          "color": "#636efa",
          "size": [
           0.002380952380952381,
           0,
           0.004761904761904762,
           0.002380952380952381,
           0.009523809523809525,
           0.01904761904761905,
           0.009523809523809525,
           0.007142857142857143,
           0.02619047619047619,
           0.0880952380952381,
           0.009523809523809525,
           0.002380952380952381,
           0.007142857142857143,
           0.05238095238095238,
           0.009523809523809525,
           0,
           0,
           0.016666666666666666,
           0.1,
           0.05714285714285714,
           0.002380952380952381,
           0.06190476190476191,
           0.12142857142857143,
           0.007142857142857143,
           0.05238095238095238,
           0.023809523809523808,
           0.009523809523809525,
           0.01904761904761905,
           0.004761904761904762,
           0.002380952380952381,
           0.0380952380952381,
           0,
           0.2119047619047619,
           0.02142857142857143
          ],
          "sizemode": "area",
          "sizeref": 0.0005297619047619047
         },
         "mode": "markers",
         "name": "",
         "showlegend": false,
         "subplot": "mapbox",
         "type": "scattermapbox"
        }
       ],
       "layout": {
        "legend": {
         "itemsizing": "constant",
         "tracegroupgap": 0
        },
        "mapbox": {
         "center": {
          "lat": -33.45,
          "lon": -70.73
         },
         "domain": {
          "x": [
           0,
           1
          ],
          "y": [
           0,
           1
          ]
         },
         "style": "open-street-map",
         "zoom": 10
        },
        "margin": {
         "b": 0,
         "l": 0,
         "r": 0,
         "t": 0
        },
        "template": {
         "data": {
          "bar": [
           {
            "error_x": {
             "color": "#2a3f5f"
            },
            "error_y": {
             "color": "#2a3f5f"
            },
            "marker": {
             "line": {
              "color": "#E5ECF6",
              "width": 0.5
             },
             "pattern": {
              "fillmode": "overlay",
              "size": 10,
              "solidity": 0.2
             }
            },
            "type": "bar"
           }
          ],
          "barpolar": [
           {
            "marker": {
             "line": {
              "color": "#E5ECF6",
              "width": 0.5
             },
             "pattern": {
              "fillmode": "overlay",
              "size": 10,
              "solidity": 0.2
             }
            },
            "type": "barpolar"
           }
          ],
          "carpet": [
           {
            "aaxis": {
             "endlinecolor": "#2a3f5f",
             "gridcolor": "white",
             "linecolor": "white",
             "minorgridcolor": "white",
             "startlinecolor": "#2a3f5f"
            },
            "baxis": {
             "endlinecolor": "#2a3f5f",
             "gridcolor": "white",
             "linecolor": "white",
             "minorgridcolor": "white",
             "startlinecolor": "#2a3f5f"
            },
            "type": "carpet"
           }
          ],
          "choropleth": [
           {
            "colorbar": {
             "outlinewidth": 0,
             "ticks": ""
            },
            "type": "choropleth"
           }
          ],
          "contour": [
           {
            "colorbar": {
             "outlinewidth": 0,
             "ticks": ""
            },
            "colorscale": [
             [
              0,
              "#0d0887"
             ],
             [
              0.1111111111111111,
              "#46039f"
             ],
             [
              0.2222222222222222,
              "#7201a8"
             ],
             [
              0.3333333333333333,
              "#9c179e"
             ],
             [
              0.4444444444444444,
              "#bd3786"
             ],
             [
              0.5555555555555556,
              "#d8576b"
             ],
             [
              0.6666666666666666,
              "#ed7953"
             ],
             [
              0.7777777777777778,
              "#fb9f3a"
             ],
             [
              0.8888888888888888,
              "#fdca26"
             ],
             [
              1,
              "#f0f921"
             ]
            ],
            "type": "contour"
           }
          ],
          "contourcarpet": [
           {
            "colorbar": {
             "outlinewidth": 0,
             "ticks": ""
            },
            "type": "contourcarpet"
           }
          ],
          "heatmap": [
           {
            "colorbar": {
             "outlinewidth": 0,
             "ticks": ""
            },
            "colorscale": [
             [
              0,
              "#0d0887"
             ],
             [
              0.1111111111111111,
              "#46039f"
             ],
             [
              0.2222222222222222,
              "#7201a8"
             ],
             [
              0.3333333333333333,
              "#9c179e"
             ],
             [
              0.4444444444444444,
              "#bd3786"
             ],
             [
              0.5555555555555556,
              "#d8576b"
             ],
             [
              0.6666666666666666,
              "#ed7953"
             ],
             [
              0.7777777777777778,
              "#fb9f3a"
             ],
             [
              0.8888888888888888,
              "#fdca26"
             ],
             [
              1,
              "#f0f921"
             ]
            ],
            "type": "heatmap"
           }
          ],
          "heatmapgl": [
           {
            "colorbar": {
             "outlinewidth": 0,
             "ticks": ""
            },
            "colorscale": [
             [
              0,
              "#0d0887"
             ],
             [
              0.1111111111111111,
              "#46039f"
             ],
             [
              0.2222222222222222,
              "#7201a8"
             ],
             [
              0.3333333333333333,
              "#9c179e"
             ],
             [
              0.4444444444444444,
              "#bd3786"
             ],
             [
              0.5555555555555556,
              "#d8576b"
             ],
             [
              0.6666666666666666,
              "#ed7953"
             ],
             [
              0.7777777777777778,
              "#fb9f3a"
             ],
             [
              0.8888888888888888,
              "#fdca26"
             ],
             [
              1,
              "#f0f921"
             ]
            ],
            "type": "heatmapgl"
           }
          ],
          "histogram": [
           {
            "marker": {
             "pattern": {
              "fillmode": "overlay",
              "size": 10,
              "solidity": 0.2
             }
            },
            "type": "histogram"
           }
          ],
          "histogram2d": [
           {
            "colorbar": {
             "outlinewidth": 0,
             "ticks": ""
            },
            "colorscale": [
             [
              0,
              "#0d0887"
             ],
             [
              0.1111111111111111,
              "#46039f"
             ],
             [
              0.2222222222222222,
              "#7201a8"
             ],
             [
              0.3333333333333333,
              "#9c179e"
             ],
             [
              0.4444444444444444,
              "#bd3786"
             ],
             [
              0.5555555555555556,
              "#d8576b"
             ],
             [
              0.6666666666666666,
              "#ed7953"
             ],
             [
              0.7777777777777778,
              "#fb9f3a"
             ],
             [
              0.8888888888888888,
              "#fdca26"
             ],
             [
              1,
              "#f0f921"
             ]
            ],
            "type": "histogram2d"
           }
          ],
          "histogram2dcontour": [
           {
            "colorbar": {
             "outlinewidth": 0,
             "ticks": ""
            },
            "colorscale": [
             [
              0,
              "#0d0887"
             ],
             [
              0.1111111111111111,
              "#46039f"
             ],
             [
              0.2222222222222222,
              "#7201a8"
             ],
             [
              0.3333333333333333,
              "#9c179e"
             ],
             [
              0.4444444444444444,
              "#bd3786"
             ],
             [
              0.5555555555555556,
              "#d8576b"
             ],
             [
              0.6666666666666666,
              "#ed7953"
             ],
             [
              0.7777777777777778,
              "#fb9f3a"
             ],
             [
              0.8888888888888888,
              "#fdca26"
             ],
             [
              1,
              "#f0f921"
             ]
            ],
            "type": "histogram2dcontour"
           }
          ],
          "mesh3d": [
           {
            "colorbar": {
             "outlinewidth": 0,
             "ticks": ""
            },
            "type": "mesh3d"
           }
          ],
          "parcoords": [
           {
            "line": {
             "colorbar": {
              "outlinewidth": 0,
              "ticks": ""
             }
            },
            "type": "parcoords"
           }
          ],
          "pie": [
           {
            "automargin": true,
            "type": "pie"
           }
          ],
          "scatter": [
           {
            "marker": {
             "colorbar": {
              "outlinewidth": 0,
              "ticks": ""
             }
            },
            "type": "scatter"
           }
          ],
          "scatter3d": [
           {
            "line": {
             "colorbar": {
              "outlinewidth": 0,
              "ticks": ""
             }
            },
            "marker": {
             "colorbar": {
              "outlinewidth": 0,
              "ticks": ""
             }
            },
            "type": "scatter3d"
           }
          ],
          "scattercarpet": [
           {
            "marker": {
             "colorbar": {
              "outlinewidth": 0,
              "ticks": ""
             }
            },
            "type": "scattercarpet"
           }
          ],
          "scattergeo": [
           {
            "marker": {
             "colorbar": {
              "outlinewidth": 0,
              "ticks": ""
             }
            },
            "type": "scattergeo"
           }
          ],
          "scattergl": [
           {
            "marker": {
             "colorbar": {
              "outlinewidth": 0,
              "ticks": ""
             }
            },
            "type": "scattergl"
           }
          ],
          "scattermapbox": [
           {
            "marker": {
             "colorbar": {
              "outlinewidth": 0,
              "ticks": ""
             }
            },
            "type": "scattermapbox"
           }
          ],
          "scatterpolar": [
           {
            "marker": {
             "colorbar": {
              "outlinewidth": 0,
              "ticks": ""
             }
            },
            "type": "scatterpolar"
           }
          ],
          "scatterpolargl": [
           {
            "marker": {
             "colorbar": {
              "outlinewidth": 0,
              "ticks": ""
             }
            },
            "type": "scatterpolargl"
           }
          ],
          "scatterternary": [
           {
            "marker": {
             "colorbar": {
              "outlinewidth": 0,
              "ticks": ""
             }
            },
            "type": "scatterternary"
           }
          ],
          "surface": [
           {
            "colorbar": {
             "outlinewidth": 0,
             "ticks": ""
            },
            "colorscale": [
             [
              0,
              "#0d0887"
             ],
             [
              0.1111111111111111,
              "#46039f"
             ],
             [
              0.2222222222222222,
              "#7201a8"
             ],
             [
              0.3333333333333333,
              "#9c179e"
             ],
             [
              0.4444444444444444,
              "#bd3786"
             ],
             [
              0.5555555555555556,
              "#d8576b"
             ],
             [
              0.6666666666666666,
              "#ed7953"
             ],
             [
              0.7777777777777778,
              "#fb9f3a"
             ],
             [
              0.8888888888888888,
              "#fdca26"
             ],
             [
              1,
              "#f0f921"
             ]
            ],
            "type": "surface"
           }
          ],
          "table": [
           {
            "cells": {
             "fill": {
              "color": "#EBF0F8"
             },
             "line": {
              "color": "white"
             }
            },
            "header": {
             "fill": {
              "color": "#C8D4E3"
             },
             "line": {
              "color": "white"
             }
            },
            "type": "table"
           }
          ]
         },
         "layout": {
          "annotationdefaults": {
           "arrowcolor": "#2a3f5f",
           "arrowhead": 0,
           "arrowwidth": 1
          },
          "autotypenumbers": "strict",
          "coloraxis": {
           "colorbar": {
            "outlinewidth": 0,
            "ticks": ""
           }
          },
          "colorscale": {
           "diverging": [
            [
             0,
             "#8e0152"
            ],
            [
             0.1,
             "#c51b7d"
            ],
            [
             0.2,
             "#de77ae"
            ],
            [
             0.3,
             "#f1b6da"
            ],
            [
             0.4,
             "#fde0ef"
            ],
            [
             0.5,
             "#f7f7f7"
            ],
            [
             0.6,
             "#e6f5d0"
            ],
            [
             0.7,
             "#b8e186"
            ],
            [
             0.8,
             "#7fbc41"
            ],
            [
             0.9,
             "#4d9221"
            ],
            [
             1,
             "#276419"
            ]
           ],
           "sequential": [
            [
             0,
             "#0d0887"
            ],
            [
             0.1111111111111111,
             "#46039f"
            ],
            [
             0.2222222222222222,
             "#7201a8"
            ],
            [
             0.3333333333333333,
             "#9c179e"
            ],
            [
             0.4444444444444444,
             "#bd3786"
            ],
            [
             0.5555555555555556,
             "#d8576b"
            ],
            [
             0.6666666666666666,
             "#ed7953"
            ],
            [
             0.7777777777777778,
             "#fb9f3a"
            ],
            [
             0.8888888888888888,
             "#fdca26"
            ],
            [
             1,
             "#f0f921"
            ]
           ],
           "sequentialminus": [
            [
             0,
             "#0d0887"
            ],
            [
             0.1111111111111111,
             "#46039f"
            ],
            [
             0.2222222222222222,
             "#7201a8"
            ],
            [
             0.3333333333333333,
             "#9c179e"
            ],
            [
             0.4444444444444444,
             "#bd3786"
            ],
            [
             0.5555555555555556,
             "#d8576b"
            ],
            [
             0.6666666666666666,
             "#ed7953"
            ],
            [
             0.7777777777777778,
             "#fb9f3a"
            ],
            [
             0.8888888888888888,
             "#fdca26"
            ],
            [
             1,
             "#f0f921"
            ]
           ]
          },
          "colorway": [
           "#636efa",
           "#EF553B",
           "#00cc96",
           "#ab63fa",
           "#FFA15A",
           "#19d3f3",
           "#FF6692",
           "#B6E880",
           "#FF97FF",
           "#FECB52"
          ],
          "font": {
           "color": "#2a3f5f"
          },
          "geo": {
           "bgcolor": "white",
           "lakecolor": "white",
           "landcolor": "#E5ECF6",
           "showlakes": true,
           "showland": true,
           "subunitcolor": "white"
          },
          "hoverlabel": {
           "align": "left"
          },
          "hovermode": "closest",
          "mapbox": {
           "style": "light"
          },
          "paper_bgcolor": "white",
          "plot_bgcolor": "#E5ECF6",
          "polar": {
           "angularaxis": {
            "gridcolor": "white",
            "linecolor": "white",
            "ticks": ""
           },
           "bgcolor": "#E5ECF6",
           "radialaxis": {
            "gridcolor": "white",
            "linecolor": "white",
            "ticks": ""
           }
          },
          "scene": {
           "xaxis": {
            "backgroundcolor": "#E5ECF6",
            "gridcolor": "white",
            "gridwidth": 2,
            "linecolor": "white",
            "showbackground": true,
            "ticks": "",
            "zerolinecolor": "white"
           },
           "yaxis": {
            "backgroundcolor": "#E5ECF6",
            "gridcolor": "white",
            "gridwidth": 2,
            "linecolor": "white",
            "showbackground": true,
            "ticks": "",
            "zerolinecolor": "white"
           },
           "zaxis": {
            "backgroundcolor": "#E5ECF6",
            "gridcolor": "white",
            "gridwidth": 2,
            "linecolor": "white",
            "showbackground": true,
            "ticks": "",
            "zerolinecolor": "white"
           }
          },
          "shapedefaults": {
           "line": {
            "color": "#2a3f5f"
           }
          },
          "ternary": {
           "aaxis": {
            "gridcolor": "white",
            "linecolor": "white",
            "ticks": ""
           },
           "baxis": {
            "gridcolor": "white",
            "linecolor": "white",
            "ticks": ""
           },
           "bgcolor": "#E5ECF6",
           "caxis": {
            "gridcolor": "white",
            "linecolor": "white",
            "ticks": ""
           }
          },
          "title": {
           "x": 0.05
          },
          "xaxis": {
           "automargin": true,
           "gridcolor": "white",
           "linecolor": "white",
           "ticks": "",
           "title": {
            "standoff": 15
           },
           "zerolinecolor": "white",
           "zerolinewidth": 2
          },
          "yaxis": {
           "automargin": true,
           "gridcolor": "white",
           "linecolor": "white",
           "ticks": "",
           "title": {
            "standoff": 15
           },
           "zerolinecolor": "white",
           "zerolinewidth": 2
          }
         }
        }
       }
      },
      "text/html": [
       "<div>                            <div id=\"2dbc4b42-2148-436a-bb85-01e7824ef5fb\" class=\"plotly-graph-div\" style=\"height:525px; width:100%;\"></div>            <script type=\"text/javascript\">                require([\"plotly\"], function(Plotly) {                    window.PLOTLYENV=window.PLOTLYENV || {};                                    if (document.getElementById(\"2dbc4b42-2148-436a-bb85-01e7824ef5fb\")) {                    Plotly.newPlot(                        \"2dbc4b42-2148-436a-bb85-01e7824ef5fb\",                        [{\"hovertemplate\":\"2015=%{marker.size}<br>lat=%{lat}<br>lon=%{lon}<extra></extra>\",\"lat\":[-33.5,-33.4219,-33.1939,-33.38,-33.5669,-33.4589,-33.3678,-33.4128,-33.5289,-33.525,-33.5833,-33.5828,-33.4428,-33.4167,-33.35,-33.5219,-33.445,-33.4869,-33.5167,-33.4539,-33.4661,-33.4861,-33.435,-33.4333,-33.6158,-33.3608,-33.4269,-33.4058,-33.3978,-33.4908,-33.4858,-33.5428,-33.4372,-33.4],\"legendgroup\":\"\",\"lon\":[-70.7167,-70.735,-70.6678,-70.675,-70.675,-70.6989,-70.6339,-70.6658,-70.6628,-70.5378,-70.5833,-70.6339,-70.5319,-70.5833,-70.5167,-70.6869,-70.7258,-70.6039,-70.7667,-70.6039,-70.6336,-70.5333,-70.6158,-70.7167,-70.57,-70.7289,-70.6989,-70.64,-70.7228,-70.6278,-70.6494,-70.6439,-70.6572,-70.6],\"marker\":{\"color\":\"#636efa\",\"size\":[0.002380952380952381,0.0,0.004761904761904762,0.002380952380952381,0.009523809523809525,0.01904761904761905,0.009523809523809525,0.007142857142857143,0.02619047619047619,0.0880952380952381,0.009523809523809525,0.002380952380952381,0.007142857142857143,0.05238095238095238,0.009523809523809525,0.0,0.0,0.016666666666666666,0.1,0.05714285714285714,0.002380952380952381,0.06190476190476191,0.12142857142857143,0.007142857142857143,0.05238095238095238,0.023809523809523808,0.009523809523809525,0.01904761904761905,0.004761904761904762,0.002380952380952381,0.0380952380952381,0.0,0.2119047619047619,0.02142857142857143],\"sizemode\":\"area\",\"sizeref\":0.0005297619047619047},\"mode\":\"markers\",\"name\":\"\",\"showlegend\":false,\"subplot\":\"mapbox\",\"type\":\"scattermapbox\"}],                        {\"template\":{\"data\":{\"bar\":[{\"error_x\":{\"color\":\"#2a3f5f\"},\"error_y\":{\"color\":\"#2a3f5f\"},\"marker\":{\"line\":{\"color\":\"#E5ECF6\",\"width\":0.5},\"pattern\":{\"fillmode\":\"overlay\",\"size\":10,\"solidity\":0.2}},\"type\":\"bar\"}],\"barpolar\":[{\"marker\":{\"line\":{\"color\":\"#E5ECF6\",\"width\":0.5},\"pattern\":{\"fillmode\":\"overlay\",\"size\":10,\"solidity\":0.2}},\"type\":\"barpolar\"}],\"carpet\":[{\"aaxis\":{\"endlinecolor\":\"#2a3f5f\",\"gridcolor\":\"white\",\"linecolor\":\"white\",\"minorgridcolor\":\"white\",\"startlinecolor\":\"#2a3f5f\"},\"baxis\":{\"endlinecolor\":\"#2a3f5f\",\"gridcolor\":\"white\",\"linecolor\":\"white\",\"minorgridcolor\":\"white\",\"startlinecolor\":\"#2a3f5f\"},\"type\":\"carpet\"}],\"choropleth\":[{\"colorbar\":{\"outlinewidth\":0,\"ticks\":\"\"},\"type\":\"choropleth\"}],\"contour\":[{\"colorbar\":{\"outlinewidth\":0,\"ticks\":\"\"},\"colorscale\":[[0.0,\"#0d0887\"],[0.1111111111111111,\"#46039f\"],[0.2222222222222222,\"#7201a8\"],[0.3333333333333333,\"#9c179e\"],[0.4444444444444444,\"#bd3786\"],[0.5555555555555556,\"#d8576b\"],[0.6666666666666666,\"#ed7953\"],[0.7777777777777778,\"#fb9f3a\"],[0.8888888888888888,\"#fdca26\"],[1.0,\"#f0f921\"]],\"type\":\"contour\"}],\"contourcarpet\":[{\"colorbar\":{\"outlinewidth\":0,\"ticks\":\"\"},\"type\":\"contourcarpet\"}],\"heatmap\":[{\"colorbar\":{\"outlinewidth\":0,\"ticks\":\"\"},\"colorscale\":[[0.0,\"#0d0887\"],[0.1111111111111111,\"#46039f\"],[0.2222222222222222,\"#7201a8\"],[0.3333333333333333,\"#9c179e\"],[0.4444444444444444,\"#bd3786\"],[0.5555555555555556,\"#d8576b\"],[0.6666666666666666,\"#ed7953\"],[0.7777777777777778,\"#fb9f3a\"],[0.8888888888888888,\"#fdca26\"],[1.0,\"#f0f921\"]],\"type\":\"heatmap\"}],\"heatmapgl\":[{\"colorbar\":{\"outlinewidth\":0,\"ticks\":\"\"},\"colorscale\":[[0.0,\"#0d0887\"],[0.1111111111111111,\"#46039f\"],[0.2222222222222222,\"#7201a8\"],[0.3333333333333333,\"#9c179e\"],[0.4444444444444444,\"#bd3786\"],[0.5555555555555556,\"#d8576b\"],[0.6666666666666666,\"#ed7953\"],[0.7777777777777778,\"#fb9f3a\"],[0.8888888888888888,\"#fdca26\"],[1.0,\"#f0f921\"]],\"type\":\"heatmapgl\"}],\"histogram\":[{\"marker\":{\"pattern\":{\"fillmode\":\"overlay\",\"size\":10,\"solidity\":0.2}},\"type\":\"histogram\"}],\"histogram2d\":[{\"colorbar\":{\"outlinewidth\":0,\"ticks\":\"\"},\"colorscale\":[[0.0,\"#0d0887\"],[0.1111111111111111,\"#46039f\"],[0.2222222222222222,\"#7201a8\"],[0.3333333333333333,\"#9c179e\"],[0.4444444444444444,\"#bd3786\"],[0.5555555555555556,\"#d8576b\"],[0.6666666666666666,\"#ed7953\"],[0.7777777777777778,\"#fb9f3a\"],[0.8888888888888888,\"#fdca26\"],[1.0,\"#f0f921\"]],\"type\":\"histogram2d\"}],\"histogram2dcontour\":[{\"colorbar\":{\"outlinewidth\":0,\"ticks\":\"\"},\"colorscale\":[[0.0,\"#0d0887\"],[0.1111111111111111,\"#46039f\"],[0.2222222222222222,\"#7201a8\"],[0.3333333333333333,\"#9c179e\"],[0.4444444444444444,\"#bd3786\"],[0.5555555555555556,\"#d8576b\"],[0.6666666666666666,\"#ed7953\"],[0.7777777777777778,\"#fb9f3a\"],[0.8888888888888888,\"#fdca26\"],[1.0,\"#f0f921\"]],\"type\":\"histogram2dcontour\"}],\"mesh3d\":[{\"colorbar\":{\"outlinewidth\":0,\"ticks\":\"\"},\"type\":\"mesh3d\"}],\"parcoords\":[{\"line\":{\"colorbar\":{\"outlinewidth\":0,\"ticks\":\"\"}},\"type\":\"parcoords\"}],\"pie\":[{\"automargin\":true,\"type\":\"pie\"}],\"scatter\":[{\"marker\":{\"colorbar\":{\"outlinewidth\":0,\"ticks\":\"\"}},\"type\":\"scatter\"}],\"scatter3d\":[{\"line\":{\"colorbar\":{\"outlinewidth\":0,\"ticks\":\"\"}},\"marker\":{\"colorbar\":{\"outlinewidth\":0,\"ticks\":\"\"}},\"type\":\"scatter3d\"}],\"scattercarpet\":[{\"marker\":{\"colorbar\":{\"outlinewidth\":0,\"ticks\":\"\"}},\"type\":\"scattercarpet\"}],\"scattergeo\":[{\"marker\":{\"colorbar\":{\"outlinewidth\":0,\"ticks\":\"\"}},\"type\":\"scattergeo\"}],\"scattergl\":[{\"marker\":{\"colorbar\":{\"outlinewidth\":0,\"ticks\":\"\"}},\"type\":\"scattergl\"}],\"scattermapbox\":[{\"marker\":{\"colorbar\":{\"outlinewidth\":0,\"ticks\":\"\"}},\"type\":\"scattermapbox\"}],\"scatterpolar\":[{\"marker\":{\"colorbar\":{\"outlinewidth\":0,\"ticks\":\"\"}},\"type\":\"scatterpolar\"}],\"scatterpolargl\":[{\"marker\":{\"colorbar\":{\"outlinewidth\":0,\"ticks\":\"\"}},\"type\":\"scatterpolargl\"}],\"scatterternary\":[{\"marker\":{\"colorbar\":{\"outlinewidth\":0,\"ticks\":\"\"}},\"type\":\"scatterternary\"}],\"surface\":[{\"colorbar\":{\"outlinewidth\":0,\"ticks\":\"\"},\"colorscale\":[[0.0,\"#0d0887\"],[0.1111111111111111,\"#46039f\"],[0.2222222222222222,\"#7201a8\"],[0.3333333333333333,\"#9c179e\"],[0.4444444444444444,\"#bd3786\"],[0.5555555555555556,\"#d8576b\"],[0.6666666666666666,\"#ed7953\"],[0.7777777777777778,\"#fb9f3a\"],[0.8888888888888888,\"#fdca26\"],[1.0,\"#f0f921\"]],\"type\":\"surface\"}],\"table\":[{\"cells\":{\"fill\":{\"color\":\"#EBF0F8\"},\"line\":{\"color\":\"white\"}},\"header\":{\"fill\":{\"color\":\"#C8D4E3\"},\"line\":{\"color\":\"white\"}},\"type\":\"table\"}]},\"layout\":{\"annotationdefaults\":{\"arrowcolor\":\"#2a3f5f\",\"arrowhead\":0,\"arrowwidth\":1},\"autotypenumbers\":\"strict\",\"coloraxis\":{\"colorbar\":{\"outlinewidth\":0,\"ticks\":\"\"}},\"colorscale\":{\"diverging\":[[0,\"#8e0152\"],[0.1,\"#c51b7d\"],[0.2,\"#de77ae\"],[0.3,\"#f1b6da\"],[0.4,\"#fde0ef\"],[0.5,\"#f7f7f7\"],[0.6,\"#e6f5d0\"],[0.7,\"#b8e186\"],[0.8,\"#7fbc41\"],[0.9,\"#4d9221\"],[1,\"#276419\"]],\"sequential\":[[0.0,\"#0d0887\"],[0.1111111111111111,\"#46039f\"],[0.2222222222222222,\"#7201a8\"],[0.3333333333333333,\"#9c179e\"],[0.4444444444444444,\"#bd3786\"],[0.5555555555555556,\"#d8576b\"],[0.6666666666666666,\"#ed7953\"],[0.7777777777777778,\"#fb9f3a\"],[0.8888888888888888,\"#fdca26\"],[1.0,\"#f0f921\"]],\"sequentialminus\":[[0.0,\"#0d0887\"],[0.1111111111111111,\"#46039f\"],[0.2222222222222222,\"#7201a8\"],[0.3333333333333333,\"#9c179e\"],[0.4444444444444444,\"#bd3786\"],[0.5555555555555556,\"#d8576b\"],[0.6666666666666666,\"#ed7953\"],[0.7777777777777778,\"#fb9f3a\"],[0.8888888888888888,\"#fdca26\"],[1.0,\"#f0f921\"]]},\"colorway\":[\"#636efa\",\"#EF553B\",\"#00cc96\",\"#ab63fa\",\"#FFA15A\",\"#19d3f3\",\"#FF6692\",\"#B6E880\",\"#FF97FF\",\"#FECB52\"],\"font\":{\"color\":\"#2a3f5f\"},\"geo\":{\"bgcolor\":\"white\",\"lakecolor\":\"white\",\"landcolor\":\"#E5ECF6\",\"showlakes\":true,\"showland\":true,\"subunitcolor\":\"white\"},\"hoverlabel\":{\"align\":\"left\"},\"hovermode\":\"closest\",\"mapbox\":{\"style\":\"light\"},\"paper_bgcolor\":\"white\",\"plot_bgcolor\":\"#E5ECF6\",\"polar\":{\"angularaxis\":{\"gridcolor\":\"white\",\"linecolor\":\"white\",\"ticks\":\"\"},\"bgcolor\":\"#E5ECF6\",\"radialaxis\":{\"gridcolor\":\"white\",\"linecolor\":\"white\",\"ticks\":\"\"}},\"scene\":{\"xaxis\":{\"backgroundcolor\":\"#E5ECF6\",\"gridcolor\":\"white\",\"gridwidth\":2,\"linecolor\":\"white\",\"showbackground\":true,\"ticks\":\"\",\"zerolinecolor\":\"white\"},\"yaxis\":{\"backgroundcolor\":\"#E5ECF6\",\"gridcolor\":\"white\",\"gridwidth\":2,\"linecolor\":\"white\",\"showbackground\":true,\"ticks\":\"\",\"zerolinecolor\":\"white\"},\"zaxis\":{\"backgroundcolor\":\"#E5ECF6\",\"gridcolor\":\"white\",\"gridwidth\":2,\"linecolor\":\"white\",\"showbackground\":true,\"ticks\":\"\",\"zerolinecolor\":\"white\"}},\"shapedefaults\":{\"line\":{\"color\":\"#2a3f5f\"}},\"ternary\":{\"aaxis\":{\"gridcolor\":\"white\",\"linecolor\":\"white\",\"ticks\":\"\"},\"baxis\":{\"gridcolor\":\"white\",\"linecolor\":\"white\",\"ticks\":\"\"},\"bgcolor\":\"#E5ECF6\",\"caxis\":{\"gridcolor\":\"white\",\"linecolor\":\"white\",\"ticks\":\"\"}},\"title\":{\"x\":0.05},\"xaxis\":{\"automargin\":true,\"gridcolor\":\"white\",\"linecolor\":\"white\",\"ticks\":\"\",\"title\":{\"standoff\":15},\"zerolinecolor\":\"white\",\"zerolinewidth\":2},\"yaxis\":{\"automargin\":true,\"gridcolor\":\"white\",\"linecolor\":\"white\",\"ticks\":\"\",\"title\":{\"standoff\":15},\"zerolinecolor\":\"white\",\"zerolinewidth\":2}}},\"mapbox\":{\"domain\":{\"x\":[0.0,1.0],\"y\":[0.0,1.0]},\"center\":{\"lat\":-33.45,\"lon\":-70.73},\"zoom\":10,\"style\":\"open-street-map\"},\"legend\":{\"tracegroupgap\":0,\"itemsizing\":\"constant\"},\"margin\":{\"t\":0,\"l\":0,\"b\":0,\"r\":0}},                        {\"responsive\": true}                    ).then(function(){\n",
       "                            \n",
       "var gd = document.getElementById('2dbc4b42-2148-436a-bb85-01e7824ef5fb');\n",
       "var x = new MutationObserver(function (mutations, observer) {{\n",
       "        var display = window.getComputedStyle(gd).display;\n",
       "        if (!display || display === 'none') {{\n",
       "            console.log([gd, 'removed!']);\n",
       "            Plotly.purge(gd);\n",
       "            observer.disconnect();\n",
       "        }}\n",
       "}});\n",
       "\n",
       "// Listen for the removal of the full notebook cells\n",
       "var notebookContainer = gd.closest('#notebook-container');\n",
       "if (notebookContainer) {{\n",
       "    x.observe(notebookContainer, {childList: true});\n",
       "}}\n",
       "\n",
       "// Listen for the clearing of the current output cell\n",
       "var outputEl = gd.closest('.output');\n",
       "if (outputEl) {{\n",
       "    x.observe(outputEl, {childList: true});\n",
       "}}\n",
       "\n",
       "                        })                };                });            </script>        </div>"
      ]
     },
     "metadata": {},
     "output_type": "display_data"
    }
   ],
   "source": [
    "mapa_colegios_por_ano(2015).show()"
   ]
  },
  {
   "cell_type": "code",
   "execution_count": 27,
   "id": "4d0f73bd",
   "metadata": {},
   "outputs": [],
   "source": [
    "mapa_colegios_por_ano(2015).write_image(f\"images_comunas/mapa_comunas_2015.png\")"
   ]
  },
  {
   "cell_type": "code",
   "execution_count": null,
   "id": "8907fc3e",
   "metadata": {},
   "outputs": [],
   "source": []
  },
  {
   "cell_type": "code",
   "execution_count": null,
   "id": "dba45a3e",
   "metadata": {},
   "outputs": [],
   "source": [
    "df.ano_ingreso.unique()"
   ]
  },
  {
   "cell_type": "code",
   "execution_count": 16,
   "id": "64952393",
   "metadata": {},
   "outputs": [],
   "source": [
    "if not os.path.exists(\"images_comunas\"):\n",
    "    os.mkdir(\"images_comunas\")"
   ]
  },
  {
   "cell_type": "code",
   "execution_count": 28,
   "id": "f6cc88ac",
   "metadata": {},
   "outputs": [
    {
     "name": "stdout",
     "output_type": "stream",
     "text": [
      "2007\n",
      "2016\n",
      "2011\n",
      "2002\n",
      "2006\n",
      "2009\n",
      "2008\n",
      "2015\n",
      "2004\n",
      "2010\n",
      "2005\n",
      "2000\n",
      "2012\n",
      "2003\n",
      "2001\n",
      "2013\n",
      "2014\n"
     ]
    }
   ],
   "source": [
    "for ano in df.ano_ingreso.unique():\n",
    "    print(ano)\n",
    "    fig = mapa_colegios_por_ano(ano)\n",
    "    fig.write_image(f\"images_comunas/mapa_comunas_{ano}.png\")"
   ]
  },
  {
   "cell_type": "code",
   "execution_count": 34,
   "id": "6994c097",
   "metadata": {},
   "outputs": [],
   "source": [
    "dict_comunas_colegios = {ano : df_comunas_RM[[\"lat\",\"lon\",ano]].rename(columns={ano:\"Proporción\"}) for ano in range(2000,2017)}"
   ]
  },
  {
   "cell_type": "code",
   "execution_count": 35,
   "id": "09121827",
   "metadata": {},
   "outputs": [],
   "source": [
    "for ano,df in dict_comunas_colegios.items():\n",
    "    df[\"año\"] = ano\n",
    "    dict_comunas_colegios[ano]=df"
   ]
  },
  {
   "cell_type": "code",
   "execution_count": 39,
   "id": "aeb7e0e9",
   "metadata": {},
   "outputs": [],
   "source": [
    "comunas_colegios_todos_anos = pd.DataFrame(columns = dict_comunas_colegios[2000].columns)\n",
    "\n",
    "for df in dict_comunas_colegios.values():\n",
    "    comunas_colegios_todos_anos = pd.concat([comunas_colegios_todos_anos,df])"
   ]
  },
  {
   "cell_type": "code",
   "execution_count": 41,
   "id": "47ec676c",
   "metadata": {},
   "outputs": [],
   "source": [
    "comunas_colegios_todos_anos.index = range(len(comunas_colegios_todos_anos))"
   ]
  },
  {
   "cell_type": "code",
   "execution_count": 42,
   "id": "e5e6e413",
   "metadata": {},
   "outputs": [
    {
     "data": {
      "text/html": [
       "<div>\n",
       "<style scoped>\n",
       "    .dataframe tbody tr th:only-of-type {\n",
       "        vertical-align: middle;\n",
       "    }\n",
       "\n",
       "    .dataframe tbody tr th {\n",
       "        vertical-align: top;\n",
       "    }\n",
       "\n",
       "    .dataframe thead th {\n",
       "        text-align: right;\n",
       "    }\n",
       "</style>\n",
       "<table border=\"1\" class=\"dataframe\">\n",
       "  <thead>\n",
       "    <tr style=\"text-align: right;\">\n",
       "      <th></th>\n",
       "      <th>lat</th>\n",
       "      <th>lon</th>\n",
       "      <th>Proporción</th>\n",
       "      <th>año</th>\n",
       "    </tr>\n",
       "  </thead>\n",
       "  <tbody>\n",
       "    <tr>\n",
       "      <th>0</th>\n",
       "      <td>-33.5</td>\n",
       "      <td>-70.7167</td>\n",
       "      <td>0.0</td>\n",
       "      <td>2000</td>\n",
       "    </tr>\n",
       "    <tr>\n",
       "      <th>1</th>\n",
       "      <td>-33.4219</td>\n",
       "      <td>-70.735</td>\n",
       "      <td>0.0</td>\n",
       "      <td>2000</td>\n",
       "    </tr>\n",
       "    <tr>\n",
       "      <th>2</th>\n",
       "      <td>-33.1939</td>\n",
       "      <td>-70.6678</td>\n",
       "      <td>0.0</td>\n",
       "      <td>2000</td>\n",
       "    </tr>\n",
       "    <tr>\n",
       "      <th>3</th>\n",
       "      <td>-33.38</td>\n",
       "      <td>-70.675</td>\n",
       "      <td>0.0</td>\n",
       "      <td>2000</td>\n",
       "    </tr>\n",
       "    <tr>\n",
       "      <th>4</th>\n",
       "      <td>-33.5669</td>\n",
       "      <td>-70.675</td>\n",
       "      <td>0.0</td>\n",
       "      <td>2000</td>\n",
       "    </tr>\n",
       "    <tr>\n",
       "      <th>...</th>\n",
       "      <td>...</td>\n",
       "      <td>...</td>\n",
       "      <td>...</td>\n",
       "      <td>...</td>\n",
       "    </tr>\n",
       "    <tr>\n",
       "      <th>573</th>\n",
       "      <td>-33.4908</td>\n",
       "      <td>-70.6278</td>\n",
       "      <td>0.002053</td>\n",
       "      <td>2016</td>\n",
       "    </tr>\n",
       "    <tr>\n",
       "      <th>574</th>\n",
       "      <td>-33.4858</td>\n",
       "      <td>-70.6494</td>\n",
       "      <td>0.034908</td>\n",
       "      <td>2016</td>\n",
       "    </tr>\n",
       "    <tr>\n",
       "      <th>575</th>\n",
       "      <td>-33.5428</td>\n",
       "      <td>-70.6439</td>\n",
       "      <td>0.01232</td>\n",
       "      <td>2016</td>\n",
       "    </tr>\n",
       "    <tr>\n",
       "      <th>576</th>\n",
       "      <td>-33.4372</td>\n",
       "      <td>-70.6572</td>\n",
       "      <td>0.240246</td>\n",
       "      <td>2016</td>\n",
       "    </tr>\n",
       "    <tr>\n",
       "      <th>577</th>\n",
       "      <td>-33.4</td>\n",
       "      <td>-70.6</td>\n",
       "      <td>0.020534</td>\n",
       "      <td>2016</td>\n",
       "    </tr>\n",
       "  </tbody>\n",
       "</table>\n",
       "<p>578 rows × 4 columns</p>\n",
       "</div>"
      ],
      "text/plain": [
       "         lat      lon Proporción   año\n",
       "0      -33.5 -70.7167        0.0  2000\n",
       "1   -33.4219  -70.735        0.0  2000\n",
       "2   -33.1939 -70.6678        0.0  2000\n",
       "3     -33.38  -70.675        0.0  2000\n",
       "4   -33.5669  -70.675        0.0  2000\n",
       "..       ...      ...        ...   ...\n",
       "573 -33.4908 -70.6278   0.002053  2016\n",
       "574 -33.4858 -70.6494   0.034908  2016\n",
       "575 -33.5428 -70.6439    0.01232  2016\n",
       "576 -33.4372 -70.6572   0.240246  2016\n",
       "577    -33.4    -70.6   0.020534  2016\n",
       "\n",
       "[578 rows x 4 columns]"
      ]
     },
     "execution_count": 42,
     "metadata": {},
     "output_type": "execute_result"
    }
   ],
   "source": [
    "comunas_colegios_todos_anos"
   ]
  },
  {
   "cell_type": "code",
   "execution_count": 46,
   "id": "23b194fc",
   "metadata": {},
   "outputs": [
    {
     "data": {
      "application/vnd.plotly.v1+json": {
       "config": {
        "plotlyServerURL": "https://plot.ly"
       },
       "data": [
        {
         "hovertemplate": "año=2000<br>Proporción=%{marker.size}<br>lat=%{lat}<br>lon=%{lon}<extra></extra>",
         "lat": [
          -33.5,
          -33.4219,
          -33.1939,
          -33.38,
          -33.5669,
          -33.4589,
          -33.3678,
          -33.4128,
          -33.5289,
          -33.525,
          -33.5833,
          -33.5828,
          -33.4428,
          -33.4167,
          -33.35,
          -33.5219,
          -33.445,
          -33.4869,
          -33.5167,
          -33.4539,
          -33.4661,
          -33.4861,
          -33.435,
          -33.4333,
          -33.6158,
          -33.3608,
          -33.4269,
          -33.4058,
          -33.3978,
          -33.4908,
          -33.4858,
          -33.5428,
          -33.4372,
          -33.4
         ],
         "legendgroup": "",
         "lon": [
          -70.7167,
          -70.735,
          -70.6678,
          -70.675,
          -70.675,
          -70.6989,
          -70.6339,
          -70.6658,
          -70.6628,
          -70.5378,
          -70.5833,
          -70.6339,
          -70.5319,
          -70.5833,
          -70.5167,
          -70.6869,
          -70.7258,
          -70.6039,
          -70.7667,
          -70.6039,
          -70.6336,
          -70.5333,
          -70.6158,
          -70.7167,
          -70.57,
          -70.7289,
          -70.6989,
          -70.64,
          -70.7228,
          -70.6278,
          -70.6494,
          -70.6439,
          -70.6572,
          -70.6
         ],
         "marker": {
          "color": "#636efa",
          "size": [
           1e-05,
           1e-05,
           1e-05,
           1e-05,
           1e-05,
           1e-05,
           1e-05,
           0.028169014084507043,
           1e-05,
           0.028169014084507043,
           1e-05,
           1e-05,
           1e-05,
           0.36619718309859156,
           0.09859154929577464,
           1e-05,
           1e-05,
           0.014084507042253521,
           0.014084507042253521,
           0.028169014084507043,
           1e-05,
           0.04225352112676056,
           0.1267605633802817,
           1e-05,
           1e-05,
           1e-05,
           1e-05,
           0.014084507042253521,
           1e-05,
           1e-05,
           1e-05,
           1e-05,
           0.056338028169014086,
           0.18309859154929578
          ],
          "sizemode": "area",
          "sizeref": 0.0009154929577464789
         },
         "mode": "markers",
         "name": "",
         "showlegend": false,
         "subplot": "mapbox",
         "type": "scattermapbox"
        }
       ],
       "frames": [
        {
         "data": [
          {
           "hovertemplate": "año=2000<br>Proporción=%{marker.size}<br>lat=%{lat}<br>lon=%{lon}<extra></extra>",
           "lat": [
            -33.5,
            -33.4219,
            -33.1939,
            -33.38,
            -33.5669,
            -33.4589,
            -33.3678,
            -33.4128,
            -33.5289,
            -33.525,
            -33.5833,
            -33.5828,
            -33.4428,
            -33.4167,
            -33.35,
            -33.5219,
            -33.445,
            -33.4869,
            -33.5167,
            -33.4539,
            -33.4661,
            -33.4861,
            -33.435,
            -33.4333,
            -33.6158,
            -33.3608,
            -33.4269,
            -33.4058,
            -33.3978,
            -33.4908,
            -33.4858,
            -33.5428,
            -33.4372,
            -33.4
           ],
           "legendgroup": "",
           "lon": [
            -70.7167,
            -70.735,
            -70.6678,
            -70.675,
            -70.675,
            -70.6989,
            -70.6339,
            -70.6658,
            -70.6628,
            -70.5378,
            -70.5833,
            -70.6339,
            -70.5319,
            -70.5833,
            -70.5167,
            -70.6869,
            -70.7258,
            -70.6039,
            -70.7667,
            -70.6039,
            -70.6336,
            -70.5333,
            -70.6158,
            -70.7167,
            -70.57,
            -70.7289,
            -70.6989,
            -70.64,
            -70.7228,
            -70.6278,
            -70.6494,
            -70.6439,
            -70.6572,
            -70.6
           ],
           "marker": {
            "color": "#636efa",
            "size": [
             1e-05,
             1e-05,
             1e-05,
             1e-05,
             1e-05,
             1e-05,
             1e-05,
             0.028169014084507043,
             1e-05,
             0.028169014084507043,
             1e-05,
             1e-05,
             1e-05,
             0.36619718309859156,
             0.09859154929577464,
             1e-05,
             1e-05,
             0.014084507042253521,
             0.014084507042253521,
             0.028169014084507043,
             1e-05,
             0.04225352112676056,
             0.1267605633802817,
             1e-05,
             1e-05,
             1e-05,
             1e-05,
             0.014084507042253521,
             1e-05,
             1e-05,
             1e-05,
             1e-05,
             0.056338028169014086,
             0.18309859154929578
            ],
            "sizemode": "area",
            "sizeref": 0.0009154929577464789
           },
           "mode": "markers",
           "name": "",
           "showlegend": false,
           "subplot": "mapbox",
           "type": "scattermapbox"
          }
         ],
         "name": "2000"
        },
        {
         "data": [
          {
           "hovertemplate": "año=2001<br>Proporción=%{marker.size}<br>lat=%{lat}<br>lon=%{lon}<extra></extra>",
           "lat": [
            -33.5,
            -33.4219,
            -33.1939,
            -33.38,
            -33.5669,
            -33.4589,
            -33.3678,
            -33.4128,
            -33.5289,
            -33.525,
            -33.5833,
            -33.5828,
            -33.4428,
            -33.4167,
            -33.35,
            -33.5219,
            -33.445,
            -33.4869,
            -33.5167,
            -33.4539,
            -33.4661,
            -33.4861,
            -33.435,
            -33.4333,
            -33.6158,
            -33.3608,
            -33.4269,
            -33.4058,
            -33.3978,
            -33.4908,
            -33.4858,
            -33.5428,
            -33.4372,
            -33.4
           ],
           "legendgroup": "",
           "lon": [
            -70.7167,
            -70.735,
            -70.6678,
            -70.675,
            -70.675,
            -70.6989,
            -70.6339,
            -70.6658,
            -70.6628,
            -70.5378,
            -70.5833,
            -70.6339,
            -70.5319,
            -70.5833,
            -70.5167,
            -70.6869,
            -70.7258,
            -70.6039,
            -70.7667,
            -70.6039,
            -70.6336,
            -70.5333,
            -70.6158,
            -70.7167,
            -70.57,
            -70.7289,
            -70.6989,
            -70.64,
            -70.7228,
            -70.6278,
            -70.6494,
            -70.6439,
            -70.6572,
            -70.6
           ],
           "marker": {
            "color": "#636efa",
            "size": [
             1e-05,
             1e-05,
             1e-05,
             1e-05,
             1e-05,
             1e-05,
             1e-05,
             1e-05,
             0.06060606060606061,
             1e-05,
             1e-05,
             1e-05,
             0.09090909090909091,
             0.25757575757575757,
             0.07575757575757576,
             1e-05,
             1e-05,
             0.015151515151515152,
             1e-05,
             0.045454545454545456,
             1e-05,
             1e-05,
             0.22727272727272727,
             1e-05,
             1e-05,
             1e-05,
             1e-05,
             0.015151515151515152,
             1e-05,
             1e-05,
             1e-05,
             1e-05,
             0.09090909090909091,
             0.12121212121212122
            ],
            "sizemode": "area",
            "sizeref": 0.0009154929577464789
           },
           "mode": "markers",
           "name": "",
           "showlegend": false,
           "subplot": "mapbox",
           "type": "scattermapbox"
          }
         ],
         "name": "2001"
        },
        {
         "data": [
          {
           "hovertemplate": "año=2002<br>Proporción=%{marker.size}<br>lat=%{lat}<br>lon=%{lon}<extra></extra>",
           "lat": [
            -33.5,
            -33.4219,
            -33.1939,
            -33.38,
            -33.5669,
            -33.4589,
            -33.3678,
            -33.4128,
            -33.5289,
            -33.525,
            -33.5833,
            -33.5828,
            -33.4428,
            -33.4167,
            -33.35,
            -33.5219,
            -33.445,
            -33.4869,
            -33.5167,
            -33.4539,
            -33.4661,
            -33.4861,
            -33.435,
            -33.4333,
            -33.6158,
            -33.3608,
            -33.4269,
            -33.4058,
            -33.3978,
            -33.4908,
            -33.4858,
            -33.5428,
            -33.4372,
            -33.4
           ],
           "legendgroup": "",
           "lon": [
            -70.7167,
            -70.735,
            -70.6678,
            -70.675,
            -70.675,
            -70.6989,
            -70.6339,
            -70.6658,
            -70.6628,
            -70.5378,
            -70.5833,
            -70.6339,
            -70.5319,
            -70.5833,
            -70.5167,
            -70.6869,
            -70.7258,
            -70.6039,
            -70.7667,
            -70.6039,
            -70.6336,
            -70.5333,
            -70.6158,
            -70.7167,
            -70.57,
            -70.7289,
            -70.6989,
            -70.64,
            -70.7228,
            -70.6278,
            -70.6494,
            -70.6439,
            -70.6572,
            -70.6
           ],
           "marker": {
            "color": "#636efa",
            "size": [
             0.003676470588235294,
             1e-05,
             0.003676470588235294,
             1e-05,
             1e-05,
             0.003676470588235294,
             1e-05,
             1e-05,
             0.007352941176470588,
             0.058823529411764705,
             1e-05,
             1e-05,
             0.04411764705882353,
             0.28308823529411764,
             0.04411764705882353,
             1e-05,
             1e-05,
             0.051470588235294115,
             0.05514705882352941,
             0.058823529411764705,
             1e-05,
             0.03308823529411765,
             0.1213235294117647,
             1e-05,
             0.022058823529411766,
             1e-05,
             1e-05,
             0.03308823529411765,
             1e-05,
             0.003676470588235294,
             0.029411764705882353,
             1e-05,
             0.11397058823529412,
             0.029411764705882353
            ],
            "sizemode": "area",
            "sizeref": 0.0009154929577464789
           },
           "mode": "markers",
           "name": "",
           "showlegend": false,
           "subplot": "mapbox",
           "type": "scattermapbox"
          }
         ],
         "name": "2002"
        },
        {
         "data": [
          {
           "hovertemplate": "año=2003<br>Proporción=%{marker.size}<br>lat=%{lat}<br>lon=%{lon}<extra></extra>",
           "lat": [
            -33.5,
            -33.4219,
            -33.1939,
            -33.38,
            -33.5669,
            -33.4589,
            -33.3678,
            -33.4128,
            -33.5289,
            -33.525,
            -33.5833,
            -33.5828,
            -33.4428,
            -33.4167,
            -33.35,
            -33.5219,
            -33.445,
            -33.4869,
            -33.5167,
            -33.4539,
            -33.4661,
            -33.4861,
            -33.435,
            -33.4333,
            -33.6158,
            -33.3608,
            -33.4269,
            -33.4058,
            -33.3978,
            -33.4908,
            -33.4858,
            -33.5428,
            -33.4372,
            -33.4
           ],
           "legendgroup": "",
           "lon": [
            -70.7167,
            -70.735,
            -70.6678,
            -70.675,
            -70.675,
            -70.6989,
            -70.6339,
            -70.6658,
            -70.6628,
            -70.5378,
            -70.5833,
            -70.6339,
            -70.5319,
            -70.5833,
            -70.5167,
            -70.6869,
            -70.7258,
            -70.6039,
            -70.7667,
            -70.6039,
            -70.6336,
            -70.5333,
            -70.6158,
            -70.7167,
            -70.57,
            -70.7289,
            -70.6989,
            -70.64,
            -70.7228,
            -70.6278,
            -70.6494,
            -70.6439,
            -70.6572,
            -70.6
           ],
           "marker": {
            "color": "#636efa",
            "size": [
             1e-05,
             1e-05,
             1e-05,
             1e-05,
             1e-05,
             0.003278688524590164,
             1e-05,
             0.003278688524590164,
             0.02622950819672131,
             0.07540983606557378,
             1e-05,
             1e-05,
             0.07540983606557378,
             0.25901639344262295,
             0.036065573770491806,
             1e-05,
             1e-05,
             0.003278688524590164,
             0.02622950819672131,
             0.04918032786885246,
             1e-05,
             0.006557377049180328,
             0.16393442622950818,
             1e-05,
             0.003278688524590164,
             0.009836065573770493,
             1e-05,
             0.036065573770491806,
             1e-05,
             1e-05,
             0.013114754098360656,
             1e-05,
             0.10491803278688525,
             0.10491803278688525
            ],
            "sizemode": "area",
            "sizeref": 0.0009154929577464789
           },
           "mode": "markers",
           "name": "",
           "showlegend": false,
           "subplot": "mapbox",
           "type": "scattermapbox"
          }
         ],
         "name": "2003"
        },
        {
         "data": [
          {
           "hovertemplate": "año=2004<br>Proporción=%{marker.size}<br>lat=%{lat}<br>lon=%{lon}<extra></extra>",
           "lat": [
            -33.5,
            -33.4219,
            -33.1939,
            -33.38,
            -33.5669,
            -33.4589,
            -33.3678,
            -33.4128,
            -33.5289,
            -33.525,
            -33.5833,
            -33.5828,
            -33.4428,
            -33.4167,
            -33.35,
            -33.5219,
            -33.445,
            -33.4869,
            -33.5167,
            -33.4539,
            -33.4661,
            -33.4861,
            -33.435,
            -33.4333,
            -33.6158,
            -33.3608,
            -33.4269,
            -33.4058,
            -33.3978,
            -33.4908,
            -33.4858,
            -33.5428,
            -33.4372,
            -33.4
           ],
           "legendgroup": "",
           "lon": [
            -70.7167,
            -70.735,
            -70.6678,
            -70.675,
            -70.675,
            -70.6989,
            -70.6339,
            -70.6658,
            -70.6628,
            -70.5378,
            -70.5833,
            -70.6339,
            -70.5319,
            -70.5833,
            -70.5167,
            -70.6869,
            -70.7258,
            -70.6039,
            -70.7667,
            -70.6039,
            -70.6336,
            -70.5333,
            -70.6158,
            -70.7167,
            -70.57,
            -70.7289,
            -70.6989,
            -70.64,
            -70.7228,
            -70.6278,
            -70.6494,
            -70.6439,
            -70.6572,
            -70.6
           ],
           "marker": {
            "color": "#636efa",
            "size": [
             0.002421307506053269,
             1e-05,
             0.002421307506053269,
             1e-05,
             1e-05,
             0.009685230024213076,
             0.004842615012106538,
             0.01937046004842615,
             0.012106537530266344,
             0.0774818401937046,
             0.004842615012106538,
             1e-05,
             0.10411622276029056,
             0.14043583535108958,
             0.03389830508474576,
             1e-05,
             1e-05,
             0.029055690072639227,
             0.043583535108958835,
             0.07990314769975787,
             1e-05,
             0.029055690072639227,
             0.09685230024213075,
             1e-05,
             0.01937046004842615,
             1e-05,
             0.004842615012106538,
             0.026634382566585957,
             1e-05,
             0.004842615012106538,
             0.012106537530266344,
             1e-05,
             0.15012106537530268,
             0.09200968523002422
            ],
            "sizemode": "area",
            "sizeref": 0.0009154929577464789
           },
           "mode": "markers",
           "name": "",
           "showlegend": false,
           "subplot": "mapbox",
           "type": "scattermapbox"
          }
         ],
         "name": "2004"
        },
        {
         "data": [
          {
           "hovertemplate": "año=2005<br>Proporción=%{marker.size}<br>lat=%{lat}<br>lon=%{lon}<extra></extra>",
           "lat": [
            -33.5,
            -33.4219,
            -33.1939,
            -33.38,
            -33.5669,
            -33.4589,
            -33.3678,
            -33.4128,
            -33.5289,
            -33.525,
            -33.5833,
            -33.5828,
            -33.4428,
            -33.4167,
            -33.35,
            -33.5219,
            -33.445,
            -33.4869,
            -33.5167,
            -33.4539,
            -33.4661,
            -33.4861,
            -33.435,
            -33.4333,
            -33.6158,
            -33.3608,
            -33.4269,
            -33.4058,
            -33.3978,
            -33.4908,
            -33.4858,
            -33.5428,
            -33.4372,
            -33.4
           ],
           "legendgroup": "",
           "lon": [
            -70.7167,
            -70.735,
            -70.6678,
            -70.675,
            -70.675,
            -70.6989,
            -70.6339,
            -70.6658,
            -70.6628,
            -70.5378,
            -70.5833,
            -70.6339,
            -70.5319,
            -70.5833,
            -70.5167,
            -70.6869,
            -70.7258,
            -70.6039,
            -70.7667,
            -70.6039,
            -70.6336,
            -70.5333,
            -70.6158,
            -70.7167,
            -70.57,
            -70.7289,
            -70.6989,
            -70.64,
            -70.7228,
            -70.6278,
            -70.6494,
            -70.6439,
            -70.6572,
            -70.6
           ],
           "marker": {
            "color": "#636efa",
            "size": [
             1e-05,
             1e-05,
             0.0034602076124567475,
             1e-05,
             0.010380622837370242,
             0.01384083044982699,
             1e-05,
             1e-05,
             0.01384083044982699,
             0.07958477508650519,
             1e-05,
             1e-05,
             0.06228373702422145,
             0.18685121107266436,
             0.020761245674740483,
             1e-05,
             1e-05,
             0.006920415224913495,
             0.058823529411764705,
             0.09688581314878893,
             1e-05,
             0.03460207612456748,
             0.07612456747404844,
             1e-05,
             0.01384083044982699,
             1e-05,
             0.006920415224913495,
             0.04498269896193772,
             1e-05,
             1e-05,
             0.01730103806228374,
             1e-05,
             0.18685121107266436,
             0.0657439446366782
            ],
            "sizemode": "area",
            "sizeref": 0.0009154929577464789
           },
           "mode": "markers",
           "name": "",
           "showlegend": false,
           "subplot": "mapbox",
           "type": "scattermapbox"
          }
         ],
         "name": "2005"
        },
        {
         "data": [
          {
           "hovertemplate": "año=2006<br>Proporción=%{marker.size}<br>lat=%{lat}<br>lon=%{lon}<extra></extra>",
           "lat": [
            -33.5,
            -33.4219,
            -33.1939,
            -33.38,
            -33.5669,
            -33.4589,
            -33.3678,
            -33.4128,
            -33.5289,
            -33.525,
            -33.5833,
            -33.5828,
            -33.4428,
            -33.4167,
            -33.35,
            -33.5219,
            -33.445,
            -33.4869,
            -33.5167,
            -33.4539,
            -33.4661,
            -33.4861,
            -33.435,
            -33.4333,
            -33.6158,
            -33.3608,
            -33.4269,
            -33.4058,
            -33.3978,
            -33.4908,
            -33.4858,
            -33.5428,
            -33.4372,
            -33.4
           ],
           "legendgroup": "",
           "lon": [
            -70.7167,
            -70.735,
            -70.6678,
            -70.675,
            -70.675,
            -70.6989,
            -70.6339,
            -70.6658,
            -70.6628,
            -70.5378,
            -70.5833,
            -70.6339,
            -70.5319,
            -70.5833,
            -70.5167,
            -70.6869,
            -70.7258,
            -70.6039,
            -70.7667,
            -70.6039,
            -70.6336,
            -70.5333,
            -70.6158,
            -70.7167,
            -70.57,
            -70.7289,
            -70.6989,
            -70.64,
            -70.7228,
            -70.6278,
            -70.6494,
            -70.6439,
            -70.6572,
            -70.6
           ],
           "marker": {
            "color": "#636efa",
            "size": [
             1e-05,
             0.001834862385321101,
             0.003669724770642202,
             0.001834862385321101,
             0.005504587155963303,
             0.011009174311926606,
             1e-05,
             0.014678899082568808,
             0.029357798165137616,
             0.060550458715596334,
             0.001834862385321101,
             1e-05,
             0.05688073394495413,
             0.13027522935779817,
             0.01834862385321101,
             1e-05,
             1e-05,
             0.031192660550458717,
             0.05504587155963303,
             0.05137614678899083,
             1e-05,
             0.04954128440366973,
             0.11192660550458716,
             0.003669724770642202,
             0.03669724770642202,
             1e-05,
             0.011009174311926606,
             0.03302752293577982,
             0.005504587155963303,
             1e-05,
             0.031192660550458717,
             0.001834862385321101,
             0.1963302752293578,
             0.045871559633027525
            ],
            "sizemode": "area",
            "sizeref": 0.0009154929577464789
           },
           "mode": "markers",
           "name": "",
           "showlegend": false,
           "subplot": "mapbox",
           "type": "scattermapbox"
          }
         ],
         "name": "2006"
        },
        {
         "data": [
          {
           "hovertemplate": "año=2007<br>Proporción=%{marker.size}<br>lat=%{lat}<br>lon=%{lon}<extra></extra>",
           "lat": [
            -33.5,
            -33.4219,
            -33.1939,
            -33.38,
            -33.5669,
            -33.4589,
            -33.3678,
            -33.4128,
            -33.5289,
            -33.525,
            -33.5833,
            -33.5828,
            -33.4428,
            -33.4167,
            -33.35,
            -33.5219,
            -33.445,
            -33.4869,
            -33.5167,
            -33.4539,
            -33.4661,
            -33.4861,
            -33.435,
            -33.4333,
            -33.6158,
            -33.3608,
            -33.4269,
            -33.4058,
            -33.3978,
            -33.4908,
            -33.4858,
            -33.5428,
            -33.4372,
            -33.4
           ],
           "legendgroup": "",
           "lon": [
            -70.7167,
            -70.735,
            -70.6678,
            -70.675,
            -70.675,
            -70.6989,
            -70.6339,
            -70.6658,
            -70.6628,
            -70.5378,
            -70.5833,
            -70.6339,
            -70.5319,
            -70.5833,
            -70.5167,
            -70.6869,
            -70.7258,
            -70.6039,
            -70.7667,
            -70.6039,
            -70.6336,
            -70.5333,
            -70.6158,
            -70.7167,
            -70.57,
            -70.7289,
            -70.6989,
            -70.64,
            -70.7228,
            -70.6278,
            -70.6494,
            -70.6439,
            -70.6572,
            -70.6
           ],
           "marker": {
            "color": "#636efa",
            "size": [
             0.003246753246753247,
             1e-05,
             0.006493506493506494,
             0.003246753246753247,
             0.01461038961038961,
             0.016233766233766232,
             1e-05,
             0.011363636363636364,
             0.03896103896103896,
             0.08603896103896104,
             0.0016233766233766235,
             1e-05,
             0.03896103896103896,
             0.10714285714285714,
             0.012987012987012988,
             1e-05,
             1e-05,
             0.030844155844155844,
             0.05032467532467533,
             0.08116883116883117,
             1e-05,
             0.027597402597402596,
             0.08766233766233766,
             0.0016233766233766235,
             0.045454545454545456,
             0.006493506493506494,
             0.008116883116883116,
             0.017857142857142856,
             0.006493506493506494,
             0.0016233766233766235,
             0.022727272727272728,
             1e-05,
             0.23376623376623376,
             0.037337662337662336
            ],
            "sizemode": "area",
            "sizeref": 0.0009154929577464789
           },
           "mode": "markers",
           "name": "",
           "showlegend": false,
           "subplot": "mapbox",
           "type": "scattermapbox"
          }
         ],
         "name": "2007"
        },
        {
         "data": [
          {
           "hovertemplate": "año=2008<br>Proporción=%{marker.size}<br>lat=%{lat}<br>lon=%{lon}<extra></extra>",
           "lat": [
            -33.5,
            -33.4219,
            -33.1939,
            -33.38,
            -33.5669,
            -33.4589,
            -33.3678,
            -33.4128,
            -33.5289,
            -33.525,
            -33.5833,
            -33.5828,
            -33.4428,
            -33.4167,
            -33.35,
            -33.5219,
            -33.445,
            -33.4869,
            -33.5167,
            -33.4539,
            -33.4661,
            -33.4861,
            -33.435,
            -33.4333,
            -33.6158,
            -33.3608,
            -33.4269,
            -33.4058,
            -33.3978,
            -33.4908,
            -33.4858,
            -33.5428,
            -33.4372,
            -33.4
           ],
           "legendgroup": "",
           "lon": [
            -70.7167,
            -70.735,
            -70.6678,
            -70.675,
            -70.675,
            -70.6989,
            -70.6339,
            -70.6658,
            -70.6628,
            -70.5378,
            -70.5833,
            -70.6339,
            -70.5319,
            -70.5833,
            -70.5167,
            -70.6869,
            -70.7258,
            -70.6039,
            -70.7667,
            -70.6039,
            -70.6336,
            -70.5333,
            -70.6158,
            -70.7167,
            -70.57,
            -70.7289,
            -70.6989,
            -70.64,
            -70.7228,
            -70.6278,
            -70.6494,
            -70.6439,
            -70.6572,
            -70.6
           ],
           "marker": {
            "color": "#636efa",
            "size": [
             0.010273972602739725,
             1e-05,
             1e-05,
             1e-05,
             0.010273972602739725,
             0.025684931506849314,
             0.0017123287671232876,
             0.008561643835616438,
             0.017123287671232876,
             0.07191780821917808,
             1e-05,
             0.003424657534246575,
             0.0410958904109589,
             0.14554794520547945,
             0.02054794520547945,
             1e-05,
             1e-05,
             0.032534246575342464,
             0.0702054794520548,
             0.06506849315068493,
             0.0017123287671232876,
             0.059931506849315065,
             0.08047945205479452,
             0.003424657534246575,
             0.025684931506849314,
             0.0017123287671232876,
             0.00684931506849315,
             0.017123287671232876,
             0.005136986301369863,
             0.005136986301369863,
             0.015410958904109588,
             0.0017123287671232876,
             0.1934931506849315,
             0.05821917808219178
            ],
            "sizemode": "area",
            "sizeref": 0.0009154929577464789
           },
           "mode": "markers",
           "name": "",
           "showlegend": false,
           "subplot": "mapbox",
           "type": "scattermapbox"
          }
         ],
         "name": "2008"
        },
        {
         "data": [
          {
           "hovertemplate": "año=2009<br>Proporción=%{marker.size}<br>lat=%{lat}<br>lon=%{lon}<extra></extra>",
           "lat": [
            -33.5,
            -33.4219,
            -33.1939,
            -33.38,
            -33.5669,
            -33.4589,
            -33.3678,
            -33.4128,
            -33.5289,
            -33.525,
            -33.5833,
            -33.5828,
            -33.4428,
            -33.4167,
            -33.35,
            -33.5219,
            -33.445,
            -33.4869,
            -33.5167,
            -33.4539,
            -33.4661,
            -33.4861,
            -33.435,
            -33.4333,
            -33.6158,
            -33.3608,
            -33.4269,
            -33.4058,
            -33.3978,
            -33.4908,
            -33.4858,
            -33.5428,
            -33.4372,
            -33.4
           ],
           "legendgroup": "",
           "lon": [
            -70.7167,
            -70.735,
            -70.6678,
            -70.675,
            -70.675,
            -70.6989,
            -70.6339,
            -70.6658,
            -70.6628,
            -70.5378,
            -70.5833,
            -70.6339,
            -70.5319,
            -70.5833,
            -70.5167,
            -70.6869,
            -70.7258,
            -70.6039,
            -70.7667,
            -70.6039,
            -70.6336,
            -70.5333,
            -70.6158,
            -70.7167,
            -70.57,
            -70.7289,
            -70.6989,
            -70.64,
            -70.7228,
            -70.6278,
            -70.6494,
            -70.6439,
            -70.6572,
            -70.6
           ],
           "marker": {
            "color": "#636efa",
            "size": [
             1e-05,
             1e-05,
             0.0021551724137931034,
             0.0021551724137931034,
             0.008620689655172414,
             0.017241379310344827,
             0.004310344827586207,
             0.00646551724137931,
             0.04310344827586207,
             0.07974137931034483,
             1e-05,
             1e-05,
             0.05172413793103448,
             0.1206896551724138,
             0.015086206896551725,
             1e-05,
             0.0021551724137931034,
             0.028017241379310345,
             0.0625,
             0.0668103448275862,
             0.0021551724137931034,
             0.032327586206896554,
             0.10775862068965517,
             0.0021551724137931034,
             0.02586206896551724,
             1e-05,
             0.008620689655172414,
             0.021551724137931036,
             1e-05,
             1e-05,
             0.04525862068965517,
             0.0021551724137931034,
             0.20043103448275862,
             0.040948275862068964
            ],
            "sizemode": "area",
            "sizeref": 0.0009154929577464789
           },
           "mode": "markers",
           "name": "",
           "showlegend": false,
           "subplot": "mapbox",
           "type": "scattermapbox"
          }
         ],
         "name": "2009"
        },
        {
         "data": [
          {
           "hovertemplate": "año=2010<br>Proporción=%{marker.size}<br>lat=%{lat}<br>lon=%{lon}<extra></extra>",
           "lat": [
            -33.5,
            -33.4219,
            -33.1939,
            -33.38,
            -33.5669,
            -33.4589,
            -33.3678,
            -33.4128,
            -33.5289,
            -33.525,
            -33.5833,
            -33.5828,
            -33.4428,
            -33.4167,
            -33.35,
            -33.5219,
            -33.445,
            -33.4869,
            -33.5167,
            -33.4539,
            -33.4661,
            -33.4861,
            -33.435,
            -33.4333,
            -33.6158,
            -33.3608,
            -33.4269,
            -33.4058,
            -33.3978,
            -33.4908,
            -33.4858,
            -33.5428,
            -33.4372,
            -33.4
           ],
           "legendgroup": "",
           "lon": [
            -70.7167,
            -70.735,
            -70.6678,
            -70.675,
            -70.675,
            -70.6989,
            -70.6339,
            -70.6658,
            -70.6628,
            -70.5378,
            -70.5833,
            -70.6339,
            -70.5319,
            -70.5833,
            -70.5167,
            -70.6869,
            -70.7258,
            -70.6039,
            -70.7667,
            -70.6039,
            -70.6336,
            -70.5333,
            -70.6158,
            -70.7167,
            -70.57,
            -70.7289,
            -70.6989,
            -70.64,
            -70.7228,
            -70.6278,
            -70.6494,
            -70.6439,
            -70.6572,
            -70.6
           ],
           "marker": {
            "color": "#636efa",
            "size": [
             0.004329004329004329,
             1e-05,
             0.006493506493506494,
             1e-05,
             0.017316017316017316,
             0.03463203463203463,
             0.004329004329004329,
             0.010822510822510822,
             0.02813852813852814,
             0.11904761904761904,
             0.0021645021645021645,
             0.0021645021645021645,
             0.045454545454545456,
             0.11471861471861472,
             0.010822510822510822,
             1e-05,
             1e-05,
             0.02813852813852814,
             0.06277056277056277,
             0.0735930735930736,
             0.0021645021645021645,
             0.02813852813852814,
             0.08008658008658008,
             0.0021645021645021645,
             0.045454545454545456,
             0.004329004329004329,
             0.006493506493506494,
             0.02813852813852814,
             1e-05,
             0.004329004329004329,
             0.030303030303030304,
             1e-05,
             0.16666666666666666,
             0.0367965367965368
            ],
            "sizemode": "area",
            "sizeref": 0.0009154929577464789
           },
           "mode": "markers",
           "name": "",
           "showlegend": false,
           "subplot": "mapbox",
           "type": "scattermapbox"
          }
         ],
         "name": "2010"
        },
        {
         "data": [
          {
           "hovertemplate": "año=2011<br>Proporción=%{marker.size}<br>lat=%{lat}<br>lon=%{lon}<extra></extra>",
           "lat": [
            -33.5,
            -33.4219,
            -33.1939,
            -33.38,
            -33.5669,
            -33.4589,
            -33.3678,
            -33.4128,
            -33.5289,
            -33.525,
            -33.5833,
            -33.5828,
            -33.4428,
            -33.4167,
            -33.35,
            -33.5219,
            -33.445,
            -33.4869,
            -33.5167,
            -33.4539,
            -33.4661,
            -33.4861,
            -33.435,
            -33.4333,
            -33.6158,
            -33.3608,
            -33.4269,
            -33.4058,
            -33.3978,
            -33.4908,
            -33.4858,
            -33.5428,
            -33.4372,
            -33.4
           ],
           "legendgroup": "",
           "lon": [
            -70.7167,
            -70.735,
            -70.6678,
            -70.675,
            -70.675,
            -70.6989,
            -70.6339,
            -70.6658,
            -70.6628,
            -70.5378,
            -70.5833,
            -70.6339,
            -70.5319,
            -70.5833,
            -70.5167,
            -70.6869,
            -70.7258,
            -70.6039,
            -70.7667,
            -70.6039,
            -70.6336,
            -70.5333,
            -70.6158,
            -70.7167,
            -70.57,
            -70.7289,
            -70.6989,
            -70.64,
            -70.7228,
            -70.6278,
            -70.6494,
            -70.6439,
            -70.6572,
            -70.6
           ],
           "marker": {
            "color": "#636efa",
            "size": [
             0.008032128514056224,
             1e-05,
             0.006024096385542169,
             0.002008032128514056,
             0.008032128514056224,
             0.014056224899598393,
             0.004016064257028112,
             0.01606425702811245,
             0.02208835341365462,
             0.13052208835341367,
             1e-05,
             0.002008032128514056,
             0.04216867469879518,
             0.10843373493975904,
             0.002008032128514056,
             0.002008032128514056,
             0.002008032128514056,
             0.01606425702811245,
             0.07028112449799197,
             0.05622489959839357,
             1e-05,
             0.028112449799196786,
             0.10040160642570281,
             0.002008032128514056,
             0.040160642570281124,
             0.010040160642570281,
             0.004016064257028112,
             0.01606425702811245,
             0.004016064257028112,
             0.002008032128514056,
             0.03413654618473896,
             0.004016064257028112,
             0.20883534136546184,
             0.03413654618473896
            ],
            "sizemode": "area",
            "sizeref": 0.0009154929577464789
           },
           "mode": "markers",
           "name": "",
           "showlegend": false,
           "subplot": "mapbox",
           "type": "scattermapbox"
          }
         ],
         "name": "2011"
        },
        {
         "data": [
          {
           "hovertemplate": "año=2012<br>Proporción=%{marker.size}<br>lat=%{lat}<br>lon=%{lon}<extra></extra>",
           "lat": [
            -33.5,
            -33.4219,
            -33.1939,
            -33.38,
            -33.5669,
            -33.4589,
            -33.3678,
            -33.4128,
            -33.5289,
            -33.525,
            -33.5833,
            -33.5828,
            -33.4428,
            -33.4167,
            -33.35,
            -33.5219,
            -33.445,
            -33.4869,
            -33.5167,
            -33.4539,
            -33.4661,
            -33.4861,
            -33.435,
            -33.4333,
            -33.6158,
            -33.3608,
            -33.4269,
            -33.4058,
            -33.3978,
            -33.4908,
            -33.4858,
            -33.5428,
            -33.4372,
            -33.4
           ],
           "legendgroup": "",
           "lon": [
            -70.7167,
            -70.735,
            -70.6678,
            -70.675,
            -70.675,
            -70.6989,
            -70.6339,
            -70.6658,
            -70.6628,
            -70.5378,
            -70.5833,
            -70.6339,
            -70.5319,
            -70.5833,
            -70.5167,
            -70.6869,
            -70.7258,
            -70.6039,
            -70.7667,
            -70.6039,
            -70.6336,
            -70.5333,
            -70.6158,
            -70.7167,
            -70.57,
            -70.7289,
            -70.6989,
            -70.64,
            -70.7228,
            -70.6278,
            -70.6494,
            -70.6439,
            -70.6572,
            -70.6
           ],
           "marker": {
            "color": "#636efa",
            "size": [
             0.007792207792207792,
             1e-05,
             0.0025974025974025974,
             0.0025974025974025974,
             0.015584415584415584,
             0.01818181818181818,
             0.007792207792207792,
             0.01818181818181818,
             0.03896103896103896,
             0.11168831168831168,
             0.007792207792207792,
             0.005194805194805195,
             0.015584415584415584,
             0.07792207792207792,
             0.012987012987012988,
             1e-05,
             1e-05,
             0.023376623376623377,
             0.08311688311688312,
             0.08311688311688312,
             1e-05,
             0.04415584415584416,
             0.08051948051948052,
             0.01038961038961039,
             0.05454545454545454,
             0.012987012987012988,
             0.007792207792207792,
             0.02077922077922078,
             0.005194805194805195,
             1e-05,
             0.02857142857142857,
             0.007792207792207792,
             0.17402597402597403,
             0.02077922077922078
            ],
            "sizemode": "area",
            "sizeref": 0.0009154929577464789
           },
           "mode": "markers",
           "name": "",
           "showlegend": false,
           "subplot": "mapbox",
           "type": "scattermapbox"
          }
         ],
         "name": "2012"
        },
        {
         "data": [
          {
           "hovertemplate": "año=2013<br>Proporción=%{marker.size}<br>lat=%{lat}<br>lon=%{lon}<extra></extra>",
           "lat": [
            -33.5,
            -33.4219,
            -33.1939,
            -33.38,
            -33.5669,
            -33.4589,
            -33.3678,
            -33.4128,
            -33.5289,
            -33.525,
            -33.5833,
            -33.5828,
            -33.4428,
            -33.4167,
            -33.35,
            -33.5219,
            -33.445,
            -33.4869,
            -33.5167,
            -33.4539,
            -33.4661,
            -33.4861,
            -33.435,
            -33.4333,
            -33.6158,
            -33.3608,
            -33.4269,
            -33.4058,
            -33.3978,
            -33.4908,
            -33.4858,
            -33.5428,
            -33.4372,
            -33.4
           ],
           "legendgroup": "",
           "lon": [
            -70.7167,
            -70.735,
            -70.6678,
            -70.675,
            -70.675,
            -70.6989,
            -70.6339,
            -70.6658,
            -70.6628,
            -70.5378,
            -70.5833,
            -70.6339,
            -70.5319,
            -70.5833,
            -70.5167,
            -70.6869,
            -70.7258,
            -70.6039,
            -70.7667,
            -70.6039,
            -70.6336,
            -70.5333,
            -70.6158,
            -70.7167,
            -70.57,
            -70.7289,
            -70.6989,
            -70.64,
            -70.7228,
            -70.6278,
            -70.6494,
            -70.6439,
            -70.6572,
            -70.6
           ],
           "marker": {
            "color": "#636efa",
            "size": [
             0.011467889908256881,
             1e-05,
             0.0045871559633027525,
             0.0022935779816513763,
             0.016055045871559634,
             0.022935779816513763,
             0.009174311926605505,
             0.016055045871559634,
             0.0389908256880734,
             0.08486238532110092,
             0.0045871559633027525,
             1e-05,
             0.022935779816513763,
             0.05963302752293578,
             0.011467889908256881,
             1e-05,
             1e-05,
             0.020642201834862386,
             0.10779816513761468,
             0.06192660550458716,
             0.0045871559633027525,
             0.045871559633027525,
             0.11009174311926606,
             0.006880733944954129,
             0.08027522935779817,
             0.01834862385321101,
             0.0045871559633027525,
             0.013761467889908258,
             0.0022935779816513763,
             1e-05,
             0.02522935779816514,
             0.006880733944954129,
             0.1628440366972477,
             0.022935779816513763
            ],
            "sizemode": "area",
            "sizeref": 0.0009154929577464789
           },
           "mode": "markers",
           "name": "",
           "showlegend": false,
           "subplot": "mapbox",
           "type": "scattermapbox"
          }
         ],
         "name": "2013"
        },
        {
         "data": [
          {
           "hovertemplate": "año=2014<br>Proporción=%{marker.size}<br>lat=%{lat}<br>lon=%{lon}<extra></extra>",
           "lat": [
            -33.5,
            -33.4219,
            -33.1939,
            -33.38,
            -33.5669,
            -33.4589,
            -33.3678,
            -33.4128,
            -33.5289,
            -33.525,
            -33.5833,
            -33.5828,
            -33.4428,
            -33.4167,
            -33.35,
            -33.5219,
            -33.445,
            -33.4869,
            -33.5167,
            -33.4539,
            -33.4661,
            -33.4861,
            -33.435,
            -33.4333,
            -33.6158,
            -33.3608,
            -33.4269,
            -33.4058,
            -33.3978,
            -33.4908,
            -33.4858,
            -33.5428,
            -33.4372,
            -33.4
           ],
           "legendgroup": "",
           "lon": [
            -70.7167,
            -70.735,
            -70.6678,
            -70.675,
            -70.675,
            -70.6989,
            -70.6339,
            -70.6658,
            -70.6628,
            -70.5378,
            -70.5833,
            -70.6339,
            -70.5319,
            -70.5833,
            -70.5167,
            -70.6869,
            -70.7258,
            -70.6039,
            -70.7667,
            -70.6039,
            -70.6336,
            -70.5333,
            -70.6158,
            -70.7167,
            -70.57,
            -70.7289,
            -70.6989,
            -70.64,
            -70.7228,
            -70.6278,
            -70.6494,
            -70.6439,
            -70.6572,
            -70.6
           ],
           "marker": {
            "color": "#636efa",
            "size": [
             0.002257336343115124,
             1e-05,
             0.004514672686230248,
             1e-05,
             0.01580135440180587,
             0.01805869074492099,
             0.009029345372460496,
             0.006772009029345372,
             0.03837471783295711,
             0.07900677200902935,
             0.004514672686230248,
             0.002257336343115124,
             0.029345372460496615,
             0.04740406320541761,
             0.004514672686230248,
             1e-05,
             0.004514672686230248,
             0.013544018058690745,
             0.09255079006772009,
             0.07223476297968397,
             1e-05,
             0.024830699774266364,
             0.08803611738148984,
             0.011286681715575621,
             0.08577878103837472,
             0.029345372460496615,
             0.011286681715575621,
             0.022573363431151242,
             0.004514672686230248,
             0.002257336343115124,
             0.02708803611738149,
             0.002257336343115124,
             0.23024830699774265,
             0.01580135440180587
            ],
            "sizemode": "area",
            "sizeref": 0.0009154929577464789
           },
           "mode": "markers",
           "name": "",
           "showlegend": false,
           "subplot": "mapbox",
           "type": "scattermapbox"
          }
         ],
         "name": "2014"
        },
        {
         "data": [
          {
           "hovertemplate": "año=2015<br>Proporción=%{marker.size}<br>lat=%{lat}<br>lon=%{lon}<extra></extra>",
           "lat": [
            -33.5,
            -33.4219,
            -33.1939,
            -33.38,
            -33.5669,
            -33.4589,
            -33.3678,
            -33.4128,
            -33.5289,
            -33.525,
            -33.5833,
            -33.5828,
            -33.4428,
            -33.4167,
            -33.35,
            -33.5219,
            -33.445,
            -33.4869,
            -33.5167,
            -33.4539,
            -33.4661,
            -33.4861,
            -33.435,
            -33.4333,
            -33.6158,
            -33.3608,
            -33.4269,
            -33.4058,
            -33.3978,
            -33.4908,
            -33.4858,
            -33.5428,
            -33.4372,
            -33.4
           ],
           "legendgroup": "",
           "lon": [
            -70.7167,
            -70.735,
            -70.6678,
            -70.675,
            -70.675,
            -70.6989,
            -70.6339,
            -70.6658,
            -70.6628,
            -70.5378,
            -70.5833,
            -70.6339,
            -70.5319,
            -70.5833,
            -70.5167,
            -70.6869,
            -70.7258,
            -70.6039,
            -70.7667,
            -70.6039,
            -70.6336,
            -70.5333,
            -70.6158,
            -70.7167,
            -70.57,
            -70.7289,
            -70.6989,
            -70.64,
            -70.7228,
            -70.6278,
            -70.6494,
            -70.6439,
            -70.6572,
            -70.6
           ],
           "marker": {
            "color": "#636efa",
            "size": [
             0.002380952380952381,
             1e-05,
             0.004761904761904762,
             0.002380952380952381,
             0.009523809523809525,
             0.01904761904761905,
             0.009523809523809525,
             0.007142857142857143,
             0.02619047619047619,
             0.0880952380952381,
             0.009523809523809525,
             0.002380952380952381,
             0.007142857142857143,
             0.05238095238095238,
             0.009523809523809525,
             1e-05,
             1e-05,
             0.016666666666666666,
             0.1,
             0.05714285714285714,
             0.002380952380952381,
             0.06190476190476191,
             0.12142857142857143,
             0.007142857142857143,
             0.05238095238095238,
             0.023809523809523808,
             0.009523809523809525,
             0.01904761904761905,
             0.004761904761904762,
             0.002380952380952381,
             0.0380952380952381,
             1e-05,
             0.2119047619047619,
             0.02142857142857143
            ],
            "sizemode": "area",
            "sizeref": 0.0009154929577464789
           },
           "mode": "markers",
           "name": "",
           "showlegend": false,
           "subplot": "mapbox",
           "type": "scattermapbox"
          }
         ],
         "name": "2015"
        },
        {
         "data": [
          {
           "hovertemplate": "año=2016<br>Proporción=%{marker.size}<br>lat=%{lat}<br>lon=%{lon}<extra></extra>",
           "lat": [
            -33.5,
            -33.4219,
            -33.1939,
            -33.38,
            -33.5669,
            -33.4589,
            -33.3678,
            -33.4128,
            -33.5289,
            -33.525,
            -33.5833,
            -33.5828,
            -33.4428,
            -33.4167,
            -33.35,
            -33.5219,
            -33.445,
            -33.4869,
            -33.5167,
            -33.4539,
            -33.4661,
            -33.4861,
            -33.435,
            -33.4333,
            -33.6158,
            -33.3608,
            -33.4269,
            -33.4058,
            -33.3978,
            -33.4908,
            -33.4858,
            -33.5428,
            -33.4372,
            -33.4
           ],
           "legendgroup": "",
           "lon": [
            -70.7167,
            -70.735,
            -70.6678,
            -70.675,
            -70.675,
            -70.6989,
            -70.6339,
            -70.6658,
            -70.6628,
            -70.5378,
            -70.5833,
            -70.6339,
            -70.5319,
            -70.5833,
            -70.5167,
            -70.6869,
            -70.7258,
            -70.6039,
            -70.7667,
            -70.6039,
            -70.6336,
            -70.5333,
            -70.6158,
            -70.7167,
            -70.57,
            -70.7289,
            -70.6989,
            -70.64,
            -70.7228,
            -70.6278,
            -70.6494,
            -70.6439,
            -70.6572,
            -70.6
           ],
           "marker": {
            "color": "#636efa",
            "size": [
             0.01026694045174538,
             1e-05,
             0.006160164271047228,
             1e-05,
             0.022587268993839837,
             0.02053388090349076,
             0.018480492813141684,
             0.008213552361396304,
             0.02053388090349076,
             0.08418891170431211,
             0.012320328542094456,
             0.002053388090349076,
             0.01642710472279261,
             0.0513347022587269,
             0.002053388090349076,
             0.004106776180698152,
             1e-05,
             0.014373716632443531,
             0.08418891170431211,
             0.059548254620123205,
             0.004106776180698152,
             0.03490759753593429,
             0.08624229979466119,
             0.014373716632443531,
             0.0513347022587269,
             0.03285420944558522,
             0.012320328542094456,
             0.008213552361396304,
             0.008213552361396304,
             0.002053388090349076,
             0.03490759753593429,
             0.012320328542094456,
             0.2402464065708419,
             0.02053388090349076
            ],
            "sizemode": "area",
            "sizeref": 0.0009154929577464789
           },
           "mode": "markers",
           "name": "",
           "showlegend": false,
           "subplot": "mapbox",
           "type": "scattermapbox"
          }
         ],
         "name": "2016"
        }
       ],
       "layout": {
        "legend": {
         "itemsizing": "constant",
         "tracegroupgap": 0
        },
        "mapbox": {
         "center": {
          "lat": -33.45,
          "lon": -70.73
         },
         "domain": {
          "x": [
           0,
           1
          ],
          "y": [
           0,
           1
          ]
         },
         "style": "open-street-map",
         "zoom": 10
        },
        "margin": {
         "b": 0,
         "l": 0,
         "r": 0,
         "t": 0
        },
        "sliders": [
         {
          "active": 0,
          "currentvalue": {
           "prefix": "año="
          },
          "len": 0.9,
          "pad": {
           "b": 10,
           "t": 60
          },
          "steps": [
           {
            "args": [
             [
              "2000"
             ],
             {
              "frame": {
               "duration": 0,
               "redraw": true
              },
              "fromcurrent": true,
              "mode": "immediate",
              "transition": {
               "duration": 0,
               "easing": "linear"
              }
             }
            ],
            "label": "2000",
            "method": "animate"
           },
           {
            "args": [
             [
              "2001"
             ],
             {
              "frame": {
               "duration": 0,
               "redraw": true
              },
              "fromcurrent": true,
              "mode": "immediate",
              "transition": {
               "duration": 0,
               "easing": "linear"
              }
             }
            ],
            "label": "2001",
            "method": "animate"
           },
           {
            "args": [
             [
              "2002"
             ],
             {
              "frame": {
               "duration": 0,
               "redraw": true
              },
              "fromcurrent": true,
              "mode": "immediate",
              "transition": {
               "duration": 0,
               "easing": "linear"
              }
             }
            ],
            "label": "2002",
            "method": "animate"
           },
           {
            "args": [
             [
              "2003"
             ],
             {
              "frame": {
               "duration": 0,
               "redraw": true
              },
              "fromcurrent": true,
              "mode": "immediate",
              "transition": {
               "duration": 0,
               "easing": "linear"
              }
             }
            ],
            "label": "2003",
            "method": "animate"
           },
           {
            "args": [
             [
              "2004"
             ],
             {
              "frame": {
               "duration": 0,
               "redraw": true
              },
              "fromcurrent": true,
              "mode": "immediate",
              "transition": {
               "duration": 0,
               "easing": "linear"
              }
             }
            ],
            "label": "2004",
            "method": "animate"
           },
           {
            "args": [
             [
              "2005"
             ],
             {
              "frame": {
               "duration": 0,
               "redraw": true
              },
              "fromcurrent": true,
              "mode": "immediate",
              "transition": {
               "duration": 0,
               "easing": "linear"
              }
             }
            ],
            "label": "2005",
            "method": "animate"
           },
           {
            "args": [
             [
              "2006"
             ],
             {
              "frame": {
               "duration": 0,
               "redraw": true
              },
              "fromcurrent": true,
              "mode": "immediate",
              "transition": {
               "duration": 0,
               "easing": "linear"
              }
             }
            ],
            "label": "2006",
            "method": "animate"
           },
           {
            "args": [
             [
              "2007"
             ],
             {
              "frame": {
               "duration": 0,
               "redraw": true
              },
              "fromcurrent": true,
              "mode": "immediate",
              "transition": {
               "duration": 0,
               "easing": "linear"
              }
             }
            ],
            "label": "2007",
            "method": "animate"
           },
           {
            "args": [
             [
              "2008"
             ],
             {
              "frame": {
               "duration": 0,
               "redraw": true
              },
              "fromcurrent": true,
              "mode": "immediate",
              "transition": {
               "duration": 0,
               "easing": "linear"
              }
             }
            ],
            "label": "2008",
            "method": "animate"
           },
           {
            "args": [
             [
              "2009"
             ],
             {
              "frame": {
               "duration": 0,
               "redraw": true
              },
              "fromcurrent": true,
              "mode": "immediate",
              "transition": {
               "duration": 0,
               "easing": "linear"
              }
             }
            ],
            "label": "2009",
            "method": "animate"
           },
           {
            "args": [
             [
              "2010"
             ],
             {
              "frame": {
               "duration": 0,
               "redraw": true
              },
              "fromcurrent": true,
              "mode": "immediate",
              "transition": {
               "duration": 0,
               "easing": "linear"
              }
             }
            ],
            "label": "2010",
            "method": "animate"
           },
           {
            "args": [
             [
              "2011"
             ],
             {
              "frame": {
               "duration": 0,
               "redraw": true
              },
              "fromcurrent": true,
              "mode": "immediate",
              "transition": {
               "duration": 0,
               "easing": "linear"
              }
             }
            ],
            "label": "2011",
            "method": "animate"
           },
           {
            "args": [
             [
              "2012"
             ],
             {
              "frame": {
               "duration": 0,
               "redraw": true
              },
              "fromcurrent": true,
              "mode": "immediate",
              "transition": {
               "duration": 0,
               "easing": "linear"
              }
             }
            ],
            "label": "2012",
            "method": "animate"
           },
           {
            "args": [
             [
              "2013"
             ],
             {
              "frame": {
               "duration": 0,
               "redraw": true
              },
              "fromcurrent": true,
              "mode": "immediate",
              "transition": {
               "duration": 0,
               "easing": "linear"
              }
             }
            ],
            "label": "2013",
            "method": "animate"
           },
           {
            "args": [
             [
              "2014"
             ],
             {
              "frame": {
               "duration": 0,
               "redraw": true
              },
              "fromcurrent": true,
              "mode": "immediate",
              "transition": {
               "duration": 0,
               "easing": "linear"
              }
             }
            ],
            "label": "2014",
            "method": "animate"
           },
           {
            "args": [
             [
              "2015"
             ],
             {
              "frame": {
               "duration": 0,
               "redraw": true
              },
              "fromcurrent": true,
              "mode": "immediate",
              "transition": {
               "duration": 0,
               "easing": "linear"
              }
             }
            ],
            "label": "2015",
            "method": "animate"
           },
           {
            "args": [
             [
              "2016"
             ],
             {
              "frame": {
               "duration": 0,
               "redraw": true
              },
              "fromcurrent": true,
              "mode": "immediate",
              "transition": {
               "duration": 0,
               "easing": "linear"
              }
             }
            ],
            "label": "2016",
            "method": "animate"
           }
          ],
          "x": 0.1,
          "xanchor": "left",
          "y": 0,
          "yanchor": "top"
         }
        ],
        "template": {
         "data": {
          "bar": [
           {
            "error_x": {
             "color": "#2a3f5f"
            },
            "error_y": {
             "color": "#2a3f5f"
            },
            "marker": {
             "line": {
              "color": "#E5ECF6",
              "width": 0.5
             },
             "pattern": {
              "fillmode": "overlay",
              "size": 10,
              "solidity": 0.2
             }
            },
            "type": "bar"
           }
          ],
          "barpolar": [
           {
            "marker": {
             "line": {
              "color": "#E5ECF6",
              "width": 0.5
             },
             "pattern": {
              "fillmode": "overlay",
              "size": 10,
              "solidity": 0.2
             }
            },
            "type": "barpolar"
           }
          ],
          "carpet": [
           {
            "aaxis": {
             "endlinecolor": "#2a3f5f",
             "gridcolor": "white",
             "linecolor": "white",
             "minorgridcolor": "white",
             "startlinecolor": "#2a3f5f"
            },
            "baxis": {
             "endlinecolor": "#2a3f5f",
             "gridcolor": "white",
             "linecolor": "white",
             "minorgridcolor": "white",
             "startlinecolor": "#2a3f5f"
            },
            "type": "carpet"
           }
          ],
          "choropleth": [
           {
            "colorbar": {
             "outlinewidth": 0,
             "ticks": ""
            },
            "type": "choropleth"
           }
          ],
          "contour": [
           {
            "colorbar": {
             "outlinewidth": 0,
             "ticks": ""
            },
            "colorscale": [
             [
              0,
              "#0d0887"
             ],
             [
              0.1111111111111111,
              "#46039f"
             ],
             [
              0.2222222222222222,
              "#7201a8"
             ],
             [
              0.3333333333333333,
              "#9c179e"
             ],
             [
              0.4444444444444444,
              "#bd3786"
             ],
             [
              0.5555555555555556,
              "#d8576b"
             ],
             [
              0.6666666666666666,
              "#ed7953"
             ],
             [
              0.7777777777777778,
              "#fb9f3a"
             ],
             [
              0.8888888888888888,
              "#fdca26"
             ],
             [
              1,
              "#f0f921"
             ]
            ],
            "type": "contour"
           }
          ],
          "contourcarpet": [
           {
            "colorbar": {
             "outlinewidth": 0,
             "ticks": ""
            },
            "type": "contourcarpet"
           }
          ],
          "heatmap": [
           {
            "colorbar": {
             "outlinewidth": 0,
             "ticks": ""
            },
            "colorscale": [
             [
              0,
              "#0d0887"
             ],
             [
              0.1111111111111111,
              "#46039f"
             ],
             [
              0.2222222222222222,
              "#7201a8"
             ],
             [
              0.3333333333333333,
              "#9c179e"
             ],
             [
              0.4444444444444444,
              "#bd3786"
             ],
             [
              0.5555555555555556,
              "#d8576b"
             ],
             [
              0.6666666666666666,
              "#ed7953"
             ],
             [
              0.7777777777777778,
              "#fb9f3a"
             ],
             [
              0.8888888888888888,
              "#fdca26"
             ],
             [
              1,
              "#f0f921"
             ]
            ],
            "type": "heatmap"
           }
          ],
          "heatmapgl": [
           {
            "colorbar": {
             "outlinewidth": 0,
             "ticks": ""
            },
            "colorscale": [
             [
              0,
              "#0d0887"
             ],
             [
              0.1111111111111111,
              "#46039f"
             ],
             [
              0.2222222222222222,
              "#7201a8"
             ],
             [
              0.3333333333333333,
              "#9c179e"
             ],
             [
              0.4444444444444444,
              "#bd3786"
             ],
             [
              0.5555555555555556,
              "#d8576b"
             ],
             [
              0.6666666666666666,
              "#ed7953"
             ],
             [
              0.7777777777777778,
              "#fb9f3a"
             ],
             [
              0.8888888888888888,
              "#fdca26"
             ],
             [
              1,
              "#f0f921"
             ]
            ],
            "type": "heatmapgl"
           }
          ],
          "histogram": [
           {
            "marker": {
             "pattern": {
              "fillmode": "overlay",
              "size": 10,
              "solidity": 0.2
             }
            },
            "type": "histogram"
           }
          ],
          "histogram2d": [
           {
            "colorbar": {
             "outlinewidth": 0,
             "ticks": ""
            },
            "colorscale": [
             [
              0,
              "#0d0887"
             ],
             [
              0.1111111111111111,
              "#46039f"
             ],
             [
              0.2222222222222222,
              "#7201a8"
             ],
             [
              0.3333333333333333,
              "#9c179e"
             ],
             [
              0.4444444444444444,
              "#bd3786"
             ],
             [
              0.5555555555555556,
              "#d8576b"
             ],
             [
              0.6666666666666666,
              "#ed7953"
             ],
             [
              0.7777777777777778,
              "#fb9f3a"
             ],
             [
              0.8888888888888888,
              "#fdca26"
             ],
             [
              1,
              "#f0f921"
             ]
            ],
            "type": "histogram2d"
           }
          ],
          "histogram2dcontour": [
           {
            "colorbar": {
             "outlinewidth": 0,
             "ticks": ""
            },
            "colorscale": [
             [
              0,
              "#0d0887"
             ],
             [
              0.1111111111111111,
              "#46039f"
             ],
             [
              0.2222222222222222,
              "#7201a8"
             ],
             [
              0.3333333333333333,
              "#9c179e"
             ],
             [
              0.4444444444444444,
              "#bd3786"
             ],
             [
              0.5555555555555556,
              "#d8576b"
             ],
             [
              0.6666666666666666,
              "#ed7953"
             ],
             [
              0.7777777777777778,
              "#fb9f3a"
             ],
             [
              0.8888888888888888,
              "#fdca26"
             ],
             [
              1,
              "#f0f921"
             ]
            ],
            "type": "histogram2dcontour"
           }
          ],
          "mesh3d": [
           {
            "colorbar": {
             "outlinewidth": 0,
             "ticks": ""
            },
            "type": "mesh3d"
           }
          ],
          "parcoords": [
           {
            "line": {
             "colorbar": {
              "outlinewidth": 0,
              "ticks": ""
             }
            },
            "type": "parcoords"
           }
          ],
          "pie": [
           {
            "automargin": true,
            "type": "pie"
           }
          ],
          "scatter": [
           {
            "marker": {
             "colorbar": {
              "outlinewidth": 0,
              "ticks": ""
             }
            },
            "type": "scatter"
           }
          ],
          "scatter3d": [
           {
            "line": {
             "colorbar": {
              "outlinewidth": 0,
              "ticks": ""
             }
            },
            "marker": {
             "colorbar": {
              "outlinewidth": 0,
              "ticks": ""
             }
            },
            "type": "scatter3d"
           }
          ],
          "scattercarpet": [
           {
            "marker": {
             "colorbar": {
              "outlinewidth": 0,
              "ticks": ""
             }
            },
            "type": "scattercarpet"
           }
          ],
          "scattergeo": [
           {
            "marker": {
             "colorbar": {
              "outlinewidth": 0,
              "ticks": ""
             }
            },
            "type": "scattergeo"
           }
          ],
          "scattergl": [
           {
            "marker": {
             "colorbar": {
              "outlinewidth": 0,
              "ticks": ""
             }
            },
            "type": "scattergl"
           }
          ],
          "scattermapbox": [
           {
            "marker": {
             "colorbar": {
              "outlinewidth": 0,
              "ticks": ""
             }
            },
            "type": "scattermapbox"
           }
          ],
          "scatterpolar": [
           {
            "marker": {
             "colorbar": {
              "outlinewidth": 0,
              "ticks": ""
             }
            },
            "type": "scatterpolar"
           }
          ],
          "scatterpolargl": [
           {
            "marker": {
             "colorbar": {
              "outlinewidth": 0,
              "ticks": ""
             }
            },
            "type": "scatterpolargl"
           }
          ],
          "scatterternary": [
           {
            "marker": {
             "colorbar": {
              "outlinewidth": 0,
              "ticks": ""
             }
            },
            "type": "scatterternary"
           }
          ],
          "surface": [
           {
            "colorbar": {
             "outlinewidth": 0,
             "ticks": ""
            },
            "colorscale": [
             [
              0,
              "#0d0887"
             ],
             [
              0.1111111111111111,
              "#46039f"
             ],
             [
              0.2222222222222222,
              "#7201a8"
             ],
             [
              0.3333333333333333,
              "#9c179e"
             ],
             [
              0.4444444444444444,
              "#bd3786"
             ],
             [
              0.5555555555555556,
              "#d8576b"
             ],
             [
              0.6666666666666666,
              "#ed7953"
             ],
             [
              0.7777777777777778,
              "#fb9f3a"
             ],
             [
              0.8888888888888888,
              "#fdca26"
             ],
             [
              1,
              "#f0f921"
             ]
            ],
            "type": "surface"
           }
          ],
          "table": [
           {
            "cells": {
             "fill": {
              "color": "#EBF0F8"
             },
             "line": {
              "color": "white"
             }
            },
            "header": {
             "fill": {
              "color": "#C8D4E3"
             },
             "line": {
              "color": "white"
             }
            },
            "type": "table"
           }
          ]
         },
         "layout": {
          "annotationdefaults": {
           "arrowcolor": "#2a3f5f",
           "arrowhead": 0,
           "arrowwidth": 1
          },
          "autotypenumbers": "strict",
          "coloraxis": {
           "colorbar": {
            "outlinewidth": 0,
            "ticks": ""
           }
          },
          "colorscale": {
           "diverging": [
            [
             0,
             "#8e0152"
            ],
            [
             0.1,
             "#c51b7d"
            ],
            [
             0.2,
             "#de77ae"
            ],
            [
             0.3,
             "#f1b6da"
            ],
            [
             0.4,
             "#fde0ef"
            ],
            [
             0.5,
             "#f7f7f7"
            ],
            [
             0.6,
             "#e6f5d0"
            ],
            [
             0.7,
             "#b8e186"
            ],
            [
             0.8,
             "#7fbc41"
            ],
            [
             0.9,
             "#4d9221"
            ],
            [
             1,
             "#276419"
            ]
           ],
           "sequential": [
            [
             0,
             "#0d0887"
            ],
            [
             0.1111111111111111,
             "#46039f"
            ],
            [
             0.2222222222222222,
             "#7201a8"
            ],
            [
             0.3333333333333333,
             "#9c179e"
            ],
            [
             0.4444444444444444,
             "#bd3786"
            ],
            [
             0.5555555555555556,
             "#d8576b"
            ],
            [
             0.6666666666666666,
             "#ed7953"
            ],
            [
             0.7777777777777778,
             "#fb9f3a"
            ],
            [
             0.8888888888888888,
             "#fdca26"
            ],
            [
             1,
             "#f0f921"
            ]
           ],
           "sequentialminus": [
            [
             0,
             "#0d0887"
            ],
            [
             0.1111111111111111,
             "#46039f"
            ],
            [
             0.2222222222222222,
             "#7201a8"
            ],
            [
             0.3333333333333333,
             "#9c179e"
            ],
            [
             0.4444444444444444,
             "#bd3786"
            ],
            [
             0.5555555555555556,
             "#d8576b"
            ],
            [
             0.6666666666666666,
             "#ed7953"
            ],
            [
             0.7777777777777778,
             "#fb9f3a"
            ],
            [
             0.8888888888888888,
             "#fdca26"
            ],
            [
             1,
             "#f0f921"
            ]
           ]
          },
          "colorway": [
           "#636efa",
           "#EF553B",
           "#00cc96",
           "#ab63fa",
           "#FFA15A",
           "#19d3f3",
           "#FF6692",
           "#B6E880",
           "#FF97FF",
           "#FECB52"
          ],
          "font": {
           "color": "#2a3f5f"
          },
          "geo": {
           "bgcolor": "white",
           "lakecolor": "white",
           "landcolor": "#E5ECF6",
           "showlakes": true,
           "showland": true,
           "subunitcolor": "white"
          },
          "hoverlabel": {
           "align": "left"
          },
          "hovermode": "closest",
          "mapbox": {
           "style": "light"
          },
          "paper_bgcolor": "white",
          "plot_bgcolor": "#E5ECF6",
          "polar": {
           "angularaxis": {
            "gridcolor": "white",
            "linecolor": "white",
            "ticks": ""
           },
           "bgcolor": "#E5ECF6",
           "radialaxis": {
            "gridcolor": "white",
            "linecolor": "white",
            "ticks": ""
           }
          },
          "scene": {
           "xaxis": {
            "backgroundcolor": "#E5ECF6",
            "gridcolor": "white",
            "gridwidth": 2,
            "linecolor": "white",
            "showbackground": true,
            "ticks": "",
            "zerolinecolor": "white"
           },
           "yaxis": {
            "backgroundcolor": "#E5ECF6",
            "gridcolor": "white",
            "gridwidth": 2,
            "linecolor": "white",
            "showbackground": true,
            "ticks": "",
            "zerolinecolor": "white"
           },
           "zaxis": {
            "backgroundcolor": "#E5ECF6",
            "gridcolor": "white",
            "gridwidth": 2,
            "linecolor": "white",
            "showbackground": true,
            "ticks": "",
            "zerolinecolor": "white"
           }
          },
          "shapedefaults": {
           "line": {
            "color": "#2a3f5f"
           }
          },
          "ternary": {
           "aaxis": {
            "gridcolor": "white",
            "linecolor": "white",
            "ticks": ""
           },
           "baxis": {
            "gridcolor": "white",
            "linecolor": "white",
            "ticks": ""
           },
           "bgcolor": "#E5ECF6",
           "caxis": {
            "gridcolor": "white",
            "linecolor": "white",
            "ticks": ""
           }
          },
          "title": {
           "x": 0.05
          },
          "xaxis": {
           "automargin": true,
           "gridcolor": "white",
           "linecolor": "white",
           "ticks": "",
           "title": {
            "standoff": 15
           },
           "zerolinecolor": "white",
           "zerolinewidth": 2
          },
          "yaxis": {
           "automargin": true,
           "gridcolor": "white",
           "linecolor": "white",
           "ticks": "",
           "title": {
            "standoff": 15
           },
           "zerolinecolor": "white",
           "zerolinewidth": 2
          }
         }
        },
        "updatemenus": [
         {
          "buttons": [
           {
            "args": [
             null,
             {
              "frame": {
               "duration": 500,
               "redraw": true
              },
              "fromcurrent": true,
              "mode": "immediate",
              "transition": {
               "duration": 500,
               "easing": "linear"
              }
             }
            ],
            "label": "&#9654;",
            "method": "animate"
           },
           {
            "args": [
             [
              null
             ],
             {
              "frame": {
               "duration": 0,
               "redraw": true
              },
              "fromcurrent": true,
              "mode": "immediate",
              "transition": {
               "duration": 0,
               "easing": "linear"
              }
             }
            ],
            "label": "&#9724;",
            "method": "animate"
           }
          ],
          "direction": "left",
          "pad": {
           "r": 10,
           "t": 70
          },
          "showactive": false,
          "type": "buttons",
          "x": 0.1,
          "xanchor": "right",
          "y": 0,
          "yanchor": "top"
         }
        ]
       }
      },
      "text/html": [
       "<div>                            <div id=\"3a2bb849-5c46-405b-9a36-78e815024027\" class=\"plotly-graph-div\" style=\"height:525px; width:100%;\"></div>            <script type=\"text/javascript\">                require([\"plotly\"], function(Plotly) {                    window.PLOTLYENV=window.PLOTLYENV || {};                                    if (document.getElementById(\"3a2bb849-5c46-405b-9a36-78e815024027\")) {                    Plotly.newPlot(                        \"3a2bb849-5c46-405b-9a36-78e815024027\",                        [{\"hovertemplate\":\"a\\u00f1o=2000<br>Proporci\\u00f3n=%{marker.size}<br>lat=%{lat}<br>lon=%{lon}<extra></extra>\",\"lat\":[-33.5,-33.4219,-33.1939,-33.38,-33.5669,-33.4589,-33.3678,-33.4128,-33.5289,-33.525,-33.5833,-33.5828,-33.4428,-33.4167,-33.35,-33.5219,-33.445,-33.4869,-33.5167,-33.4539,-33.4661,-33.4861,-33.435,-33.4333,-33.6158,-33.3608,-33.4269,-33.4058,-33.3978,-33.4908,-33.4858,-33.5428,-33.4372,-33.4],\"legendgroup\":\"\",\"lon\":[-70.7167,-70.735,-70.6678,-70.675,-70.675,-70.6989,-70.6339,-70.6658,-70.6628,-70.5378,-70.5833,-70.6339,-70.5319,-70.5833,-70.5167,-70.6869,-70.7258,-70.6039,-70.7667,-70.6039,-70.6336,-70.5333,-70.6158,-70.7167,-70.57,-70.7289,-70.6989,-70.64,-70.7228,-70.6278,-70.6494,-70.6439,-70.6572,-70.6],\"marker\":{\"color\":\"#636efa\",\"size\":[1e-05,1e-05,1e-05,1e-05,1e-05,1e-05,1e-05,0.028169014084507043,1e-05,0.028169014084507043,1e-05,1e-05,1e-05,0.36619718309859156,0.09859154929577464,1e-05,1e-05,0.014084507042253521,0.014084507042253521,0.028169014084507043,1e-05,0.04225352112676056,0.1267605633802817,1e-05,1e-05,1e-05,1e-05,0.014084507042253521,1e-05,1e-05,1e-05,1e-05,0.056338028169014086,0.18309859154929578],\"sizemode\":\"area\",\"sizeref\":0.0009154929577464789},\"mode\":\"markers\",\"name\":\"\",\"showlegend\":false,\"subplot\":\"mapbox\",\"type\":\"scattermapbox\"}],                        {\"template\":{\"data\":{\"bar\":[{\"error_x\":{\"color\":\"#2a3f5f\"},\"error_y\":{\"color\":\"#2a3f5f\"},\"marker\":{\"line\":{\"color\":\"#E5ECF6\",\"width\":0.5},\"pattern\":{\"fillmode\":\"overlay\",\"size\":10,\"solidity\":0.2}},\"type\":\"bar\"}],\"barpolar\":[{\"marker\":{\"line\":{\"color\":\"#E5ECF6\",\"width\":0.5},\"pattern\":{\"fillmode\":\"overlay\",\"size\":10,\"solidity\":0.2}},\"type\":\"barpolar\"}],\"carpet\":[{\"aaxis\":{\"endlinecolor\":\"#2a3f5f\",\"gridcolor\":\"white\",\"linecolor\":\"white\",\"minorgridcolor\":\"white\",\"startlinecolor\":\"#2a3f5f\"},\"baxis\":{\"endlinecolor\":\"#2a3f5f\",\"gridcolor\":\"white\",\"linecolor\":\"white\",\"minorgridcolor\":\"white\",\"startlinecolor\":\"#2a3f5f\"},\"type\":\"carpet\"}],\"choropleth\":[{\"colorbar\":{\"outlinewidth\":0,\"ticks\":\"\"},\"type\":\"choropleth\"}],\"contour\":[{\"colorbar\":{\"outlinewidth\":0,\"ticks\":\"\"},\"colorscale\":[[0.0,\"#0d0887\"],[0.1111111111111111,\"#46039f\"],[0.2222222222222222,\"#7201a8\"],[0.3333333333333333,\"#9c179e\"],[0.4444444444444444,\"#bd3786\"],[0.5555555555555556,\"#d8576b\"],[0.6666666666666666,\"#ed7953\"],[0.7777777777777778,\"#fb9f3a\"],[0.8888888888888888,\"#fdca26\"],[1.0,\"#f0f921\"]],\"type\":\"contour\"}],\"contourcarpet\":[{\"colorbar\":{\"outlinewidth\":0,\"ticks\":\"\"},\"type\":\"contourcarpet\"}],\"heatmap\":[{\"colorbar\":{\"outlinewidth\":0,\"ticks\":\"\"},\"colorscale\":[[0.0,\"#0d0887\"],[0.1111111111111111,\"#46039f\"],[0.2222222222222222,\"#7201a8\"],[0.3333333333333333,\"#9c179e\"],[0.4444444444444444,\"#bd3786\"],[0.5555555555555556,\"#d8576b\"],[0.6666666666666666,\"#ed7953\"],[0.7777777777777778,\"#fb9f3a\"],[0.8888888888888888,\"#fdca26\"],[1.0,\"#f0f921\"]],\"type\":\"heatmap\"}],\"heatmapgl\":[{\"colorbar\":{\"outlinewidth\":0,\"ticks\":\"\"},\"colorscale\":[[0.0,\"#0d0887\"],[0.1111111111111111,\"#46039f\"],[0.2222222222222222,\"#7201a8\"],[0.3333333333333333,\"#9c179e\"],[0.4444444444444444,\"#bd3786\"],[0.5555555555555556,\"#d8576b\"],[0.6666666666666666,\"#ed7953\"],[0.7777777777777778,\"#fb9f3a\"],[0.8888888888888888,\"#fdca26\"],[1.0,\"#f0f921\"]],\"type\":\"heatmapgl\"}],\"histogram\":[{\"marker\":{\"pattern\":{\"fillmode\":\"overlay\",\"size\":10,\"solidity\":0.2}},\"type\":\"histogram\"}],\"histogram2d\":[{\"colorbar\":{\"outlinewidth\":0,\"ticks\":\"\"},\"colorscale\":[[0.0,\"#0d0887\"],[0.1111111111111111,\"#46039f\"],[0.2222222222222222,\"#7201a8\"],[0.3333333333333333,\"#9c179e\"],[0.4444444444444444,\"#bd3786\"],[0.5555555555555556,\"#d8576b\"],[0.6666666666666666,\"#ed7953\"],[0.7777777777777778,\"#fb9f3a\"],[0.8888888888888888,\"#fdca26\"],[1.0,\"#f0f921\"]],\"type\":\"histogram2d\"}],\"histogram2dcontour\":[{\"colorbar\":{\"outlinewidth\":0,\"ticks\":\"\"},\"colorscale\":[[0.0,\"#0d0887\"],[0.1111111111111111,\"#46039f\"],[0.2222222222222222,\"#7201a8\"],[0.3333333333333333,\"#9c179e\"],[0.4444444444444444,\"#bd3786\"],[0.5555555555555556,\"#d8576b\"],[0.6666666666666666,\"#ed7953\"],[0.7777777777777778,\"#fb9f3a\"],[0.8888888888888888,\"#fdca26\"],[1.0,\"#f0f921\"]],\"type\":\"histogram2dcontour\"}],\"mesh3d\":[{\"colorbar\":{\"outlinewidth\":0,\"ticks\":\"\"},\"type\":\"mesh3d\"}],\"parcoords\":[{\"line\":{\"colorbar\":{\"outlinewidth\":0,\"ticks\":\"\"}},\"type\":\"parcoords\"}],\"pie\":[{\"automargin\":true,\"type\":\"pie\"}],\"scatter\":[{\"marker\":{\"colorbar\":{\"outlinewidth\":0,\"ticks\":\"\"}},\"type\":\"scatter\"}],\"scatter3d\":[{\"line\":{\"colorbar\":{\"outlinewidth\":0,\"ticks\":\"\"}},\"marker\":{\"colorbar\":{\"outlinewidth\":0,\"ticks\":\"\"}},\"type\":\"scatter3d\"}],\"scattercarpet\":[{\"marker\":{\"colorbar\":{\"outlinewidth\":0,\"ticks\":\"\"}},\"type\":\"scattercarpet\"}],\"scattergeo\":[{\"marker\":{\"colorbar\":{\"outlinewidth\":0,\"ticks\":\"\"}},\"type\":\"scattergeo\"}],\"scattergl\":[{\"marker\":{\"colorbar\":{\"outlinewidth\":0,\"ticks\":\"\"}},\"type\":\"scattergl\"}],\"scattermapbox\":[{\"marker\":{\"colorbar\":{\"outlinewidth\":0,\"ticks\":\"\"}},\"type\":\"scattermapbox\"}],\"scatterpolar\":[{\"marker\":{\"colorbar\":{\"outlinewidth\":0,\"ticks\":\"\"}},\"type\":\"scatterpolar\"}],\"scatterpolargl\":[{\"marker\":{\"colorbar\":{\"outlinewidth\":0,\"ticks\":\"\"}},\"type\":\"scatterpolargl\"}],\"scatterternary\":[{\"marker\":{\"colorbar\":{\"outlinewidth\":0,\"ticks\":\"\"}},\"type\":\"scatterternary\"}],\"surface\":[{\"colorbar\":{\"outlinewidth\":0,\"ticks\":\"\"},\"colorscale\":[[0.0,\"#0d0887\"],[0.1111111111111111,\"#46039f\"],[0.2222222222222222,\"#7201a8\"],[0.3333333333333333,\"#9c179e\"],[0.4444444444444444,\"#bd3786\"],[0.5555555555555556,\"#d8576b\"],[0.6666666666666666,\"#ed7953\"],[0.7777777777777778,\"#fb9f3a\"],[0.8888888888888888,\"#fdca26\"],[1.0,\"#f0f921\"]],\"type\":\"surface\"}],\"table\":[{\"cells\":{\"fill\":{\"color\":\"#EBF0F8\"},\"line\":{\"color\":\"white\"}},\"header\":{\"fill\":{\"color\":\"#C8D4E3\"},\"line\":{\"color\":\"white\"}},\"type\":\"table\"}]},\"layout\":{\"annotationdefaults\":{\"arrowcolor\":\"#2a3f5f\",\"arrowhead\":0,\"arrowwidth\":1},\"autotypenumbers\":\"strict\",\"coloraxis\":{\"colorbar\":{\"outlinewidth\":0,\"ticks\":\"\"}},\"colorscale\":{\"diverging\":[[0,\"#8e0152\"],[0.1,\"#c51b7d\"],[0.2,\"#de77ae\"],[0.3,\"#f1b6da\"],[0.4,\"#fde0ef\"],[0.5,\"#f7f7f7\"],[0.6,\"#e6f5d0\"],[0.7,\"#b8e186\"],[0.8,\"#7fbc41\"],[0.9,\"#4d9221\"],[1,\"#276419\"]],\"sequential\":[[0.0,\"#0d0887\"],[0.1111111111111111,\"#46039f\"],[0.2222222222222222,\"#7201a8\"],[0.3333333333333333,\"#9c179e\"],[0.4444444444444444,\"#bd3786\"],[0.5555555555555556,\"#d8576b\"],[0.6666666666666666,\"#ed7953\"],[0.7777777777777778,\"#fb9f3a\"],[0.8888888888888888,\"#fdca26\"],[1.0,\"#f0f921\"]],\"sequentialminus\":[[0.0,\"#0d0887\"],[0.1111111111111111,\"#46039f\"],[0.2222222222222222,\"#7201a8\"],[0.3333333333333333,\"#9c179e\"],[0.4444444444444444,\"#bd3786\"],[0.5555555555555556,\"#d8576b\"],[0.6666666666666666,\"#ed7953\"],[0.7777777777777778,\"#fb9f3a\"],[0.8888888888888888,\"#fdca26\"],[1.0,\"#f0f921\"]]},\"colorway\":[\"#636efa\",\"#EF553B\",\"#00cc96\",\"#ab63fa\",\"#FFA15A\",\"#19d3f3\",\"#FF6692\",\"#B6E880\",\"#FF97FF\",\"#FECB52\"],\"font\":{\"color\":\"#2a3f5f\"},\"geo\":{\"bgcolor\":\"white\",\"lakecolor\":\"white\",\"landcolor\":\"#E5ECF6\",\"showlakes\":true,\"showland\":true,\"subunitcolor\":\"white\"},\"hoverlabel\":{\"align\":\"left\"},\"hovermode\":\"closest\",\"mapbox\":{\"style\":\"light\"},\"paper_bgcolor\":\"white\",\"plot_bgcolor\":\"#E5ECF6\",\"polar\":{\"angularaxis\":{\"gridcolor\":\"white\",\"linecolor\":\"white\",\"ticks\":\"\"},\"bgcolor\":\"#E5ECF6\",\"radialaxis\":{\"gridcolor\":\"white\",\"linecolor\":\"white\",\"ticks\":\"\"}},\"scene\":{\"xaxis\":{\"backgroundcolor\":\"#E5ECF6\",\"gridcolor\":\"white\",\"gridwidth\":2,\"linecolor\":\"white\",\"showbackground\":true,\"ticks\":\"\",\"zerolinecolor\":\"white\"},\"yaxis\":{\"backgroundcolor\":\"#E5ECF6\",\"gridcolor\":\"white\",\"gridwidth\":2,\"linecolor\":\"white\",\"showbackground\":true,\"ticks\":\"\",\"zerolinecolor\":\"white\"},\"zaxis\":{\"backgroundcolor\":\"#E5ECF6\",\"gridcolor\":\"white\",\"gridwidth\":2,\"linecolor\":\"white\",\"showbackground\":true,\"ticks\":\"\",\"zerolinecolor\":\"white\"}},\"shapedefaults\":{\"line\":{\"color\":\"#2a3f5f\"}},\"ternary\":{\"aaxis\":{\"gridcolor\":\"white\",\"linecolor\":\"white\",\"ticks\":\"\"},\"baxis\":{\"gridcolor\":\"white\",\"linecolor\":\"white\",\"ticks\":\"\"},\"bgcolor\":\"#E5ECF6\",\"caxis\":{\"gridcolor\":\"white\",\"linecolor\":\"white\",\"ticks\":\"\"}},\"title\":{\"x\":0.05},\"xaxis\":{\"automargin\":true,\"gridcolor\":\"white\",\"linecolor\":\"white\",\"ticks\":\"\",\"title\":{\"standoff\":15},\"zerolinecolor\":\"white\",\"zerolinewidth\":2},\"yaxis\":{\"automargin\":true,\"gridcolor\":\"white\",\"linecolor\":\"white\",\"ticks\":\"\",\"title\":{\"standoff\":15},\"zerolinecolor\":\"white\",\"zerolinewidth\":2}}},\"mapbox\":{\"domain\":{\"x\":[0.0,1.0],\"y\":[0.0,1.0]},\"center\":{\"lat\":-33.45,\"lon\":-70.73},\"zoom\":10,\"style\":\"open-street-map\"},\"legend\":{\"tracegroupgap\":0,\"itemsizing\":\"constant\"},\"margin\":{\"t\":0,\"l\":0,\"b\":0,\"r\":0},\"updatemenus\":[{\"buttons\":[{\"args\":[null,{\"frame\":{\"duration\":500,\"redraw\":true},\"mode\":\"immediate\",\"fromcurrent\":true,\"transition\":{\"duration\":500,\"easing\":\"linear\"}}],\"label\":\"&#9654;\",\"method\":\"animate\"},{\"args\":[[null],{\"frame\":{\"duration\":0,\"redraw\":true},\"mode\":\"immediate\",\"fromcurrent\":true,\"transition\":{\"duration\":0,\"easing\":\"linear\"}}],\"label\":\"&#9724;\",\"method\":\"animate\"}],\"direction\":\"left\",\"pad\":{\"r\":10,\"t\":70},\"showactive\":false,\"type\":\"buttons\",\"x\":0.1,\"xanchor\":\"right\",\"y\":0,\"yanchor\":\"top\"}],\"sliders\":[{\"active\":0,\"currentvalue\":{\"prefix\":\"a\\u00f1o=\"},\"len\":0.9,\"pad\":{\"b\":10,\"t\":60},\"steps\":[{\"args\":[[\"2000\"],{\"frame\":{\"duration\":0,\"redraw\":true},\"mode\":\"immediate\",\"fromcurrent\":true,\"transition\":{\"duration\":0,\"easing\":\"linear\"}}],\"label\":\"2000\",\"method\":\"animate\"},{\"args\":[[\"2001\"],{\"frame\":{\"duration\":0,\"redraw\":true},\"mode\":\"immediate\",\"fromcurrent\":true,\"transition\":{\"duration\":0,\"easing\":\"linear\"}}],\"label\":\"2001\",\"method\":\"animate\"},{\"args\":[[\"2002\"],{\"frame\":{\"duration\":0,\"redraw\":true},\"mode\":\"immediate\",\"fromcurrent\":true,\"transition\":{\"duration\":0,\"easing\":\"linear\"}}],\"label\":\"2002\",\"method\":\"animate\"},{\"args\":[[\"2003\"],{\"frame\":{\"duration\":0,\"redraw\":true},\"mode\":\"immediate\",\"fromcurrent\":true,\"transition\":{\"duration\":0,\"easing\":\"linear\"}}],\"label\":\"2003\",\"method\":\"animate\"},{\"args\":[[\"2004\"],{\"frame\":{\"duration\":0,\"redraw\":true},\"mode\":\"immediate\",\"fromcurrent\":true,\"transition\":{\"duration\":0,\"easing\":\"linear\"}}],\"label\":\"2004\",\"method\":\"animate\"},{\"args\":[[\"2005\"],{\"frame\":{\"duration\":0,\"redraw\":true},\"mode\":\"immediate\",\"fromcurrent\":true,\"transition\":{\"duration\":0,\"easing\":\"linear\"}}],\"label\":\"2005\",\"method\":\"animate\"},{\"args\":[[\"2006\"],{\"frame\":{\"duration\":0,\"redraw\":true},\"mode\":\"immediate\",\"fromcurrent\":true,\"transition\":{\"duration\":0,\"easing\":\"linear\"}}],\"label\":\"2006\",\"method\":\"animate\"},{\"args\":[[\"2007\"],{\"frame\":{\"duration\":0,\"redraw\":true},\"mode\":\"immediate\",\"fromcurrent\":true,\"transition\":{\"duration\":0,\"easing\":\"linear\"}}],\"label\":\"2007\",\"method\":\"animate\"},{\"args\":[[\"2008\"],{\"frame\":{\"duration\":0,\"redraw\":true},\"mode\":\"immediate\",\"fromcurrent\":true,\"transition\":{\"duration\":0,\"easing\":\"linear\"}}],\"label\":\"2008\",\"method\":\"animate\"},{\"args\":[[\"2009\"],{\"frame\":{\"duration\":0,\"redraw\":true},\"mode\":\"immediate\",\"fromcurrent\":true,\"transition\":{\"duration\":0,\"easing\":\"linear\"}}],\"label\":\"2009\",\"method\":\"animate\"},{\"args\":[[\"2010\"],{\"frame\":{\"duration\":0,\"redraw\":true},\"mode\":\"immediate\",\"fromcurrent\":true,\"transition\":{\"duration\":0,\"easing\":\"linear\"}}],\"label\":\"2010\",\"method\":\"animate\"},{\"args\":[[\"2011\"],{\"frame\":{\"duration\":0,\"redraw\":true},\"mode\":\"immediate\",\"fromcurrent\":true,\"transition\":{\"duration\":0,\"easing\":\"linear\"}}],\"label\":\"2011\",\"method\":\"animate\"},{\"args\":[[\"2012\"],{\"frame\":{\"duration\":0,\"redraw\":true},\"mode\":\"immediate\",\"fromcurrent\":true,\"transition\":{\"duration\":0,\"easing\":\"linear\"}}],\"label\":\"2012\",\"method\":\"animate\"},{\"args\":[[\"2013\"],{\"frame\":{\"duration\":0,\"redraw\":true},\"mode\":\"immediate\",\"fromcurrent\":true,\"transition\":{\"duration\":0,\"easing\":\"linear\"}}],\"label\":\"2013\",\"method\":\"animate\"},{\"args\":[[\"2014\"],{\"frame\":{\"duration\":0,\"redraw\":true},\"mode\":\"immediate\",\"fromcurrent\":true,\"transition\":{\"duration\":0,\"easing\":\"linear\"}}],\"label\":\"2014\",\"method\":\"animate\"},{\"args\":[[\"2015\"],{\"frame\":{\"duration\":0,\"redraw\":true},\"mode\":\"immediate\",\"fromcurrent\":true,\"transition\":{\"duration\":0,\"easing\":\"linear\"}}],\"label\":\"2015\",\"method\":\"animate\"},{\"args\":[[\"2016\"],{\"frame\":{\"duration\":0,\"redraw\":true},\"mode\":\"immediate\",\"fromcurrent\":true,\"transition\":{\"duration\":0,\"easing\":\"linear\"}}],\"label\":\"2016\",\"method\":\"animate\"}],\"x\":0.1,\"xanchor\":\"left\",\"y\":0,\"yanchor\":\"top\"}]},                        {\"responsive\": true}                    ).then(function(){\n",
       "                            Plotly.addFrames('3a2bb849-5c46-405b-9a36-78e815024027', [{\"data\":[{\"hovertemplate\":\"a\\u00f1o=2000<br>Proporci\\u00f3n=%{marker.size}<br>lat=%{lat}<br>lon=%{lon}<extra></extra>\",\"lat\":[-33.5,-33.4219,-33.1939,-33.38,-33.5669,-33.4589,-33.3678,-33.4128,-33.5289,-33.525,-33.5833,-33.5828,-33.4428,-33.4167,-33.35,-33.5219,-33.445,-33.4869,-33.5167,-33.4539,-33.4661,-33.4861,-33.435,-33.4333,-33.6158,-33.3608,-33.4269,-33.4058,-33.3978,-33.4908,-33.4858,-33.5428,-33.4372,-33.4],\"legendgroup\":\"\",\"lon\":[-70.7167,-70.735,-70.6678,-70.675,-70.675,-70.6989,-70.6339,-70.6658,-70.6628,-70.5378,-70.5833,-70.6339,-70.5319,-70.5833,-70.5167,-70.6869,-70.7258,-70.6039,-70.7667,-70.6039,-70.6336,-70.5333,-70.6158,-70.7167,-70.57,-70.7289,-70.6989,-70.64,-70.7228,-70.6278,-70.6494,-70.6439,-70.6572,-70.6],\"marker\":{\"color\":\"#636efa\",\"size\":[1e-05,1e-05,1e-05,1e-05,1e-05,1e-05,1e-05,0.028169014084507043,1e-05,0.028169014084507043,1e-05,1e-05,1e-05,0.36619718309859156,0.09859154929577464,1e-05,1e-05,0.014084507042253521,0.014084507042253521,0.028169014084507043,1e-05,0.04225352112676056,0.1267605633802817,1e-05,1e-05,1e-05,1e-05,0.014084507042253521,1e-05,1e-05,1e-05,1e-05,0.056338028169014086,0.18309859154929578],\"sizemode\":\"area\",\"sizeref\":0.0009154929577464789},\"mode\":\"markers\",\"name\":\"\",\"showlegend\":false,\"subplot\":\"mapbox\",\"type\":\"scattermapbox\"}],\"name\":\"2000\"},{\"data\":[{\"hovertemplate\":\"a\\u00f1o=2001<br>Proporci\\u00f3n=%{marker.size}<br>lat=%{lat}<br>lon=%{lon}<extra></extra>\",\"lat\":[-33.5,-33.4219,-33.1939,-33.38,-33.5669,-33.4589,-33.3678,-33.4128,-33.5289,-33.525,-33.5833,-33.5828,-33.4428,-33.4167,-33.35,-33.5219,-33.445,-33.4869,-33.5167,-33.4539,-33.4661,-33.4861,-33.435,-33.4333,-33.6158,-33.3608,-33.4269,-33.4058,-33.3978,-33.4908,-33.4858,-33.5428,-33.4372,-33.4],\"legendgroup\":\"\",\"lon\":[-70.7167,-70.735,-70.6678,-70.675,-70.675,-70.6989,-70.6339,-70.6658,-70.6628,-70.5378,-70.5833,-70.6339,-70.5319,-70.5833,-70.5167,-70.6869,-70.7258,-70.6039,-70.7667,-70.6039,-70.6336,-70.5333,-70.6158,-70.7167,-70.57,-70.7289,-70.6989,-70.64,-70.7228,-70.6278,-70.6494,-70.6439,-70.6572,-70.6],\"marker\":{\"color\":\"#636efa\",\"size\":[1e-05,1e-05,1e-05,1e-05,1e-05,1e-05,1e-05,1e-05,0.06060606060606061,1e-05,1e-05,1e-05,0.09090909090909091,0.25757575757575757,0.07575757575757576,1e-05,1e-05,0.015151515151515152,1e-05,0.045454545454545456,1e-05,1e-05,0.22727272727272727,1e-05,1e-05,1e-05,1e-05,0.015151515151515152,1e-05,1e-05,1e-05,1e-05,0.09090909090909091,0.12121212121212122],\"sizemode\":\"area\",\"sizeref\":0.0009154929577464789},\"mode\":\"markers\",\"name\":\"\",\"showlegend\":false,\"subplot\":\"mapbox\",\"type\":\"scattermapbox\"}],\"name\":\"2001\"},{\"data\":[{\"hovertemplate\":\"a\\u00f1o=2002<br>Proporci\\u00f3n=%{marker.size}<br>lat=%{lat}<br>lon=%{lon}<extra></extra>\",\"lat\":[-33.5,-33.4219,-33.1939,-33.38,-33.5669,-33.4589,-33.3678,-33.4128,-33.5289,-33.525,-33.5833,-33.5828,-33.4428,-33.4167,-33.35,-33.5219,-33.445,-33.4869,-33.5167,-33.4539,-33.4661,-33.4861,-33.435,-33.4333,-33.6158,-33.3608,-33.4269,-33.4058,-33.3978,-33.4908,-33.4858,-33.5428,-33.4372,-33.4],\"legendgroup\":\"\",\"lon\":[-70.7167,-70.735,-70.6678,-70.675,-70.675,-70.6989,-70.6339,-70.6658,-70.6628,-70.5378,-70.5833,-70.6339,-70.5319,-70.5833,-70.5167,-70.6869,-70.7258,-70.6039,-70.7667,-70.6039,-70.6336,-70.5333,-70.6158,-70.7167,-70.57,-70.7289,-70.6989,-70.64,-70.7228,-70.6278,-70.6494,-70.6439,-70.6572,-70.6],\"marker\":{\"color\":\"#636efa\",\"size\":[0.003676470588235294,1e-05,0.003676470588235294,1e-05,1e-05,0.003676470588235294,1e-05,1e-05,0.007352941176470588,0.058823529411764705,1e-05,1e-05,0.04411764705882353,0.28308823529411764,0.04411764705882353,1e-05,1e-05,0.051470588235294115,0.05514705882352941,0.058823529411764705,1e-05,0.03308823529411765,0.1213235294117647,1e-05,0.022058823529411766,1e-05,1e-05,0.03308823529411765,1e-05,0.003676470588235294,0.029411764705882353,1e-05,0.11397058823529412,0.029411764705882353],\"sizemode\":\"area\",\"sizeref\":0.0009154929577464789},\"mode\":\"markers\",\"name\":\"\",\"showlegend\":false,\"subplot\":\"mapbox\",\"type\":\"scattermapbox\"}],\"name\":\"2002\"},{\"data\":[{\"hovertemplate\":\"a\\u00f1o=2003<br>Proporci\\u00f3n=%{marker.size}<br>lat=%{lat}<br>lon=%{lon}<extra></extra>\",\"lat\":[-33.5,-33.4219,-33.1939,-33.38,-33.5669,-33.4589,-33.3678,-33.4128,-33.5289,-33.525,-33.5833,-33.5828,-33.4428,-33.4167,-33.35,-33.5219,-33.445,-33.4869,-33.5167,-33.4539,-33.4661,-33.4861,-33.435,-33.4333,-33.6158,-33.3608,-33.4269,-33.4058,-33.3978,-33.4908,-33.4858,-33.5428,-33.4372,-33.4],\"legendgroup\":\"\",\"lon\":[-70.7167,-70.735,-70.6678,-70.675,-70.675,-70.6989,-70.6339,-70.6658,-70.6628,-70.5378,-70.5833,-70.6339,-70.5319,-70.5833,-70.5167,-70.6869,-70.7258,-70.6039,-70.7667,-70.6039,-70.6336,-70.5333,-70.6158,-70.7167,-70.57,-70.7289,-70.6989,-70.64,-70.7228,-70.6278,-70.6494,-70.6439,-70.6572,-70.6],\"marker\":{\"color\":\"#636efa\",\"size\":[1e-05,1e-05,1e-05,1e-05,1e-05,0.003278688524590164,1e-05,0.003278688524590164,0.02622950819672131,0.07540983606557378,1e-05,1e-05,0.07540983606557378,0.25901639344262295,0.036065573770491806,1e-05,1e-05,0.003278688524590164,0.02622950819672131,0.04918032786885246,1e-05,0.006557377049180328,0.16393442622950818,1e-05,0.003278688524590164,0.009836065573770493,1e-05,0.036065573770491806,1e-05,1e-05,0.013114754098360656,1e-05,0.10491803278688525,0.10491803278688525],\"sizemode\":\"area\",\"sizeref\":0.0009154929577464789},\"mode\":\"markers\",\"name\":\"\",\"showlegend\":false,\"subplot\":\"mapbox\",\"type\":\"scattermapbox\"}],\"name\":\"2003\"},{\"data\":[{\"hovertemplate\":\"a\\u00f1o=2004<br>Proporci\\u00f3n=%{marker.size}<br>lat=%{lat}<br>lon=%{lon}<extra></extra>\",\"lat\":[-33.5,-33.4219,-33.1939,-33.38,-33.5669,-33.4589,-33.3678,-33.4128,-33.5289,-33.525,-33.5833,-33.5828,-33.4428,-33.4167,-33.35,-33.5219,-33.445,-33.4869,-33.5167,-33.4539,-33.4661,-33.4861,-33.435,-33.4333,-33.6158,-33.3608,-33.4269,-33.4058,-33.3978,-33.4908,-33.4858,-33.5428,-33.4372,-33.4],\"legendgroup\":\"\",\"lon\":[-70.7167,-70.735,-70.6678,-70.675,-70.675,-70.6989,-70.6339,-70.6658,-70.6628,-70.5378,-70.5833,-70.6339,-70.5319,-70.5833,-70.5167,-70.6869,-70.7258,-70.6039,-70.7667,-70.6039,-70.6336,-70.5333,-70.6158,-70.7167,-70.57,-70.7289,-70.6989,-70.64,-70.7228,-70.6278,-70.6494,-70.6439,-70.6572,-70.6],\"marker\":{\"color\":\"#636efa\",\"size\":[0.002421307506053269,1e-05,0.002421307506053269,1e-05,1e-05,0.009685230024213076,0.004842615012106538,0.01937046004842615,0.012106537530266344,0.0774818401937046,0.004842615012106538,1e-05,0.10411622276029056,0.14043583535108958,0.03389830508474576,1e-05,1e-05,0.029055690072639227,0.043583535108958835,0.07990314769975787,1e-05,0.029055690072639227,0.09685230024213075,1e-05,0.01937046004842615,1e-05,0.004842615012106538,0.026634382566585957,1e-05,0.004842615012106538,0.012106537530266344,1e-05,0.15012106537530268,0.09200968523002422],\"sizemode\":\"area\",\"sizeref\":0.0009154929577464789},\"mode\":\"markers\",\"name\":\"\",\"showlegend\":false,\"subplot\":\"mapbox\",\"type\":\"scattermapbox\"}],\"name\":\"2004\"},{\"data\":[{\"hovertemplate\":\"a\\u00f1o=2005<br>Proporci\\u00f3n=%{marker.size}<br>lat=%{lat}<br>lon=%{lon}<extra></extra>\",\"lat\":[-33.5,-33.4219,-33.1939,-33.38,-33.5669,-33.4589,-33.3678,-33.4128,-33.5289,-33.525,-33.5833,-33.5828,-33.4428,-33.4167,-33.35,-33.5219,-33.445,-33.4869,-33.5167,-33.4539,-33.4661,-33.4861,-33.435,-33.4333,-33.6158,-33.3608,-33.4269,-33.4058,-33.3978,-33.4908,-33.4858,-33.5428,-33.4372,-33.4],\"legendgroup\":\"\",\"lon\":[-70.7167,-70.735,-70.6678,-70.675,-70.675,-70.6989,-70.6339,-70.6658,-70.6628,-70.5378,-70.5833,-70.6339,-70.5319,-70.5833,-70.5167,-70.6869,-70.7258,-70.6039,-70.7667,-70.6039,-70.6336,-70.5333,-70.6158,-70.7167,-70.57,-70.7289,-70.6989,-70.64,-70.7228,-70.6278,-70.6494,-70.6439,-70.6572,-70.6],\"marker\":{\"color\":\"#636efa\",\"size\":[1e-05,1e-05,0.0034602076124567475,1e-05,0.010380622837370242,0.01384083044982699,1e-05,1e-05,0.01384083044982699,0.07958477508650519,1e-05,1e-05,0.06228373702422145,0.18685121107266436,0.020761245674740483,1e-05,1e-05,0.006920415224913495,0.058823529411764705,0.09688581314878893,1e-05,0.03460207612456748,0.07612456747404844,1e-05,0.01384083044982699,1e-05,0.006920415224913495,0.04498269896193772,1e-05,1e-05,0.01730103806228374,1e-05,0.18685121107266436,0.0657439446366782],\"sizemode\":\"area\",\"sizeref\":0.0009154929577464789},\"mode\":\"markers\",\"name\":\"\",\"showlegend\":false,\"subplot\":\"mapbox\",\"type\":\"scattermapbox\"}],\"name\":\"2005\"},{\"data\":[{\"hovertemplate\":\"a\\u00f1o=2006<br>Proporci\\u00f3n=%{marker.size}<br>lat=%{lat}<br>lon=%{lon}<extra></extra>\",\"lat\":[-33.5,-33.4219,-33.1939,-33.38,-33.5669,-33.4589,-33.3678,-33.4128,-33.5289,-33.525,-33.5833,-33.5828,-33.4428,-33.4167,-33.35,-33.5219,-33.445,-33.4869,-33.5167,-33.4539,-33.4661,-33.4861,-33.435,-33.4333,-33.6158,-33.3608,-33.4269,-33.4058,-33.3978,-33.4908,-33.4858,-33.5428,-33.4372,-33.4],\"legendgroup\":\"\",\"lon\":[-70.7167,-70.735,-70.6678,-70.675,-70.675,-70.6989,-70.6339,-70.6658,-70.6628,-70.5378,-70.5833,-70.6339,-70.5319,-70.5833,-70.5167,-70.6869,-70.7258,-70.6039,-70.7667,-70.6039,-70.6336,-70.5333,-70.6158,-70.7167,-70.57,-70.7289,-70.6989,-70.64,-70.7228,-70.6278,-70.6494,-70.6439,-70.6572,-70.6],\"marker\":{\"color\":\"#636efa\",\"size\":[1e-05,0.001834862385321101,0.003669724770642202,0.001834862385321101,0.005504587155963303,0.011009174311926606,1e-05,0.014678899082568808,0.029357798165137616,0.060550458715596334,0.001834862385321101,1e-05,0.05688073394495413,0.13027522935779817,0.01834862385321101,1e-05,1e-05,0.031192660550458717,0.05504587155963303,0.05137614678899083,1e-05,0.04954128440366973,0.11192660550458716,0.003669724770642202,0.03669724770642202,1e-05,0.011009174311926606,0.03302752293577982,0.005504587155963303,1e-05,0.031192660550458717,0.001834862385321101,0.1963302752293578,0.045871559633027525],\"sizemode\":\"area\",\"sizeref\":0.0009154929577464789},\"mode\":\"markers\",\"name\":\"\",\"showlegend\":false,\"subplot\":\"mapbox\",\"type\":\"scattermapbox\"}],\"name\":\"2006\"},{\"data\":[{\"hovertemplate\":\"a\\u00f1o=2007<br>Proporci\\u00f3n=%{marker.size}<br>lat=%{lat}<br>lon=%{lon}<extra></extra>\",\"lat\":[-33.5,-33.4219,-33.1939,-33.38,-33.5669,-33.4589,-33.3678,-33.4128,-33.5289,-33.525,-33.5833,-33.5828,-33.4428,-33.4167,-33.35,-33.5219,-33.445,-33.4869,-33.5167,-33.4539,-33.4661,-33.4861,-33.435,-33.4333,-33.6158,-33.3608,-33.4269,-33.4058,-33.3978,-33.4908,-33.4858,-33.5428,-33.4372,-33.4],\"legendgroup\":\"\",\"lon\":[-70.7167,-70.735,-70.6678,-70.675,-70.675,-70.6989,-70.6339,-70.6658,-70.6628,-70.5378,-70.5833,-70.6339,-70.5319,-70.5833,-70.5167,-70.6869,-70.7258,-70.6039,-70.7667,-70.6039,-70.6336,-70.5333,-70.6158,-70.7167,-70.57,-70.7289,-70.6989,-70.64,-70.7228,-70.6278,-70.6494,-70.6439,-70.6572,-70.6],\"marker\":{\"color\":\"#636efa\",\"size\":[0.003246753246753247,1e-05,0.006493506493506494,0.003246753246753247,0.01461038961038961,0.016233766233766232,1e-05,0.011363636363636364,0.03896103896103896,0.08603896103896104,0.0016233766233766235,1e-05,0.03896103896103896,0.10714285714285714,0.012987012987012988,1e-05,1e-05,0.030844155844155844,0.05032467532467533,0.08116883116883117,1e-05,0.027597402597402596,0.08766233766233766,0.0016233766233766235,0.045454545454545456,0.006493506493506494,0.008116883116883116,0.017857142857142856,0.006493506493506494,0.0016233766233766235,0.022727272727272728,1e-05,0.23376623376623376,0.037337662337662336],\"sizemode\":\"area\",\"sizeref\":0.0009154929577464789},\"mode\":\"markers\",\"name\":\"\",\"showlegend\":false,\"subplot\":\"mapbox\",\"type\":\"scattermapbox\"}],\"name\":\"2007\"},{\"data\":[{\"hovertemplate\":\"a\\u00f1o=2008<br>Proporci\\u00f3n=%{marker.size}<br>lat=%{lat}<br>lon=%{lon}<extra></extra>\",\"lat\":[-33.5,-33.4219,-33.1939,-33.38,-33.5669,-33.4589,-33.3678,-33.4128,-33.5289,-33.525,-33.5833,-33.5828,-33.4428,-33.4167,-33.35,-33.5219,-33.445,-33.4869,-33.5167,-33.4539,-33.4661,-33.4861,-33.435,-33.4333,-33.6158,-33.3608,-33.4269,-33.4058,-33.3978,-33.4908,-33.4858,-33.5428,-33.4372,-33.4],\"legendgroup\":\"\",\"lon\":[-70.7167,-70.735,-70.6678,-70.675,-70.675,-70.6989,-70.6339,-70.6658,-70.6628,-70.5378,-70.5833,-70.6339,-70.5319,-70.5833,-70.5167,-70.6869,-70.7258,-70.6039,-70.7667,-70.6039,-70.6336,-70.5333,-70.6158,-70.7167,-70.57,-70.7289,-70.6989,-70.64,-70.7228,-70.6278,-70.6494,-70.6439,-70.6572,-70.6],\"marker\":{\"color\":\"#636efa\",\"size\":[0.010273972602739725,1e-05,1e-05,1e-05,0.010273972602739725,0.025684931506849314,0.0017123287671232876,0.008561643835616438,0.017123287671232876,0.07191780821917808,1e-05,0.003424657534246575,0.0410958904109589,0.14554794520547945,0.02054794520547945,1e-05,1e-05,0.032534246575342464,0.0702054794520548,0.06506849315068493,0.0017123287671232876,0.059931506849315065,0.08047945205479452,0.003424657534246575,0.025684931506849314,0.0017123287671232876,0.00684931506849315,0.017123287671232876,0.005136986301369863,0.005136986301369863,0.015410958904109588,0.0017123287671232876,0.1934931506849315,0.05821917808219178],\"sizemode\":\"area\",\"sizeref\":0.0009154929577464789},\"mode\":\"markers\",\"name\":\"\",\"showlegend\":false,\"subplot\":\"mapbox\",\"type\":\"scattermapbox\"}],\"name\":\"2008\"},{\"data\":[{\"hovertemplate\":\"a\\u00f1o=2009<br>Proporci\\u00f3n=%{marker.size}<br>lat=%{lat}<br>lon=%{lon}<extra></extra>\",\"lat\":[-33.5,-33.4219,-33.1939,-33.38,-33.5669,-33.4589,-33.3678,-33.4128,-33.5289,-33.525,-33.5833,-33.5828,-33.4428,-33.4167,-33.35,-33.5219,-33.445,-33.4869,-33.5167,-33.4539,-33.4661,-33.4861,-33.435,-33.4333,-33.6158,-33.3608,-33.4269,-33.4058,-33.3978,-33.4908,-33.4858,-33.5428,-33.4372,-33.4],\"legendgroup\":\"\",\"lon\":[-70.7167,-70.735,-70.6678,-70.675,-70.675,-70.6989,-70.6339,-70.6658,-70.6628,-70.5378,-70.5833,-70.6339,-70.5319,-70.5833,-70.5167,-70.6869,-70.7258,-70.6039,-70.7667,-70.6039,-70.6336,-70.5333,-70.6158,-70.7167,-70.57,-70.7289,-70.6989,-70.64,-70.7228,-70.6278,-70.6494,-70.6439,-70.6572,-70.6],\"marker\":{\"color\":\"#636efa\",\"size\":[1e-05,1e-05,0.0021551724137931034,0.0021551724137931034,0.008620689655172414,0.017241379310344827,0.004310344827586207,0.00646551724137931,0.04310344827586207,0.07974137931034483,1e-05,1e-05,0.05172413793103448,0.1206896551724138,0.015086206896551725,1e-05,0.0021551724137931034,0.028017241379310345,0.0625,0.0668103448275862,0.0021551724137931034,0.032327586206896554,0.10775862068965517,0.0021551724137931034,0.02586206896551724,1e-05,0.008620689655172414,0.021551724137931036,1e-05,1e-05,0.04525862068965517,0.0021551724137931034,0.20043103448275862,0.040948275862068964],\"sizemode\":\"area\",\"sizeref\":0.0009154929577464789},\"mode\":\"markers\",\"name\":\"\",\"showlegend\":false,\"subplot\":\"mapbox\",\"type\":\"scattermapbox\"}],\"name\":\"2009\"},{\"data\":[{\"hovertemplate\":\"a\\u00f1o=2010<br>Proporci\\u00f3n=%{marker.size}<br>lat=%{lat}<br>lon=%{lon}<extra></extra>\",\"lat\":[-33.5,-33.4219,-33.1939,-33.38,-33.5669,-33.4589,-33.3678,-33.4128,-33.5289,-33.525,-33.5833,-33.5828,-33.4428,-33.4167,-33.35,-33.5219,-33.445,-33.4869,-33.5167,-33.4539,-33.4661,-33.4861,-33.435,-33.4333,-33.6158,-33.3608,-33.4269,-33.4058,-33.3978,-33.4908,-33.4858,-33.5428,-33.4372,-33.4],\"legendgroup\":\"\",\"lon\":[-70.7167,-70.735,-70.6678,-70.675,-70.675,-70.6989,-70.6339,-70.6658,-70.6628,-70.5378,-70.5833,-70.6339,-70.5319,-70.5833,-70.5167,-70.6869,-70.7258,-70.6039,-70.7667,-70.6039,-70.6336,-70.5333,-70.6158,-70.7167,-70.57,-70.7289,-70.6989,-70.64,-70.7228,-70.6278,-70.6494,-70.6439,-70.6572,-70.6],\"marker\":{\"color\":\"#636efa\",\"size\":[0.004329004329004329,1e-05,0.006493506493506494,1e-05,0.017316017316017316,0.03463203463203463,0.004329004329004329,0.010822510822510822,0.02813852813852814,0.11904761904761904,0.0021645021645021645,0.0021645021645021645,0.045454545454545456,0.11471861471861472,0.010822510822510822,1e-05,1e-05,0.02813852813852814,0.06277056277056277,0.0735930735930736,0.0021645021645021645,0.02813852813852814,0.08008658008658008,0.0021645021645021645,0.045454545454545456,0.004329004329004329,0.006493506493506494,0.02813852813852814,1e-05,0.004329004329004329,0.030303030303030304,1e-05,0.16666666666666666,0.0367965367965368],\"sizemode\":\"area\",\"sizeref\":0.0009154929577464789},\"mode\":\"markers\",\"name\":\"\",\"showlegend\":false,\"subplot\":\"mapbox\",\"type\":\"scattermapbox\"}],\"name\":\"2010\"},{\"data\":[{\"hovertemplate\":\"a\\u00f1o=2011<br>Proporci\\u00f3n=%{marker.size}<br>lat=%{lat}<br>lon=%{lon}<extra></extra>\",\"lat\":[-33.5,-33.4219,-33.1939,-33.38,-33.5669,-33.4589,-33.3678,-33.4128,-33.5289,-33.525,-33.5833,-33.5828,-33.4428,-33.4167,-33.35,-33.5219,-33.445,-33.4869,-33.5167,-33.4539,-33.4661,-33.4861,-33.435,-33.4333,-33.6158,-33.3608,-33.4269,-33.4058,-33.3978,-33.4908,-33.4858,-33.5428,-33.4372,-33.4],\"legendgroup\":\"\",\"lon\":[-70.7167,-70.735,-70.6678,-70.675,-70.675,-70.6989,-70.6339,-70.6658,-70.6628,-70.5378,-70.5833,-70.6339,-70.5319,-70.5833,-70.5167,-70.6869,-70.7258,-70.6039,-70.7667,-70.6039,-70.6336,-70.5333,-70.6158,-70.7167,-70.57,-70.7289,-70.6989,-70.64,-70.7228,-70.6278,-70.6494,-70.6439,-70.6572,-70.6],\"marker\":{\"color\":\"#636efa\",\"size\":[0.008032128514056224,1e-05,0.006024096385542169,0.002008032128514056,0.008032128514056224,0.014056224899598393,0.004016064257028112,0.01606425702811245,0.02208835341365462,0.13052208835341367,1e-05,0.002008032128514056,0.04216867469879518,0.10843373493975904,0.002008032128514056,0.002008032128514056,0.002008032128514056,0.01606425702811245,0.07028112449799197,0.05622489959839357,1e-05,0.028112449799196786,0.10040160642570281,0.002008032128514056,0.040160642570281124,0.010040160642570281,0.004016064257028112,0.01606425702811245,0.004016064257028112,0.002008032128514056,0.03413654618473896,0.004016064257028112,0.20883534136546184,0.03413654618473896],\"sizemode\":\"area\",\"sizeref\":0.0009154929577464789},\"mode\":\"markers\",\"name\":\"\",\"showlegend\":false,\"subplot\":\"mapbox\",\"type\":\"scattermapbox\"}],\"name\":\"2011\"},{\"data\":[{\"hovertemplate\":\"a\\u00f1o=2012<br>Proporci\\u00f3n=%{marker.size}<br>lat=%{lat}<br>lon=%{lon}<extra></extra>\",\"lat\":[-33.5,-33.4219,-33.1939,-33.38,-33.5669,-33.4589,-33.3678,-33.4128,-33.5289,-33.525,-33.5833,-33.5828,-33.4428,-33.4167,-33.35,-33.5219,-33.445,-33.4869,-33.5167,-33.4539,-33.4661,-33.4861,-33.435,-33.4333,-33.6158,-33.3608,-33.4269,-33.4058,-33.3978,-33.4908,-33.4858,-33.5428,-33.4372,-33.4],\"legendgroup\":\"\",\"lon\":[-70.7167,-70.735,-70.6678,-70.675,-70.675,-70.6989,-70.6339,-70.6658,-70.6628,-70.5378,-70.5833,-70.6339,-70.5319,-70.5833,-70.5167,-70.6869,-70.7258,-70.6039,-70.7667,-70.6039,-70.6336,-70.5333,-70.6158,-70.7167,-70.57,-70.7289,-70.6989,-70.64,-70.7228,-70.6278,-70.6494,-70.6439,-70.6572,-70.6],\"marker\":{\"color\":\"#636efa\",\"size\":[0.007792207792207792,1e-05,0.0025974025974025974,0.0025974025974025974,0.015584415584415584,0.01818181818181818,0.007792207792207792,0.01818181818181818,0.03896103896103896,0.11168831168831168,0.007792207792207792,0.005194805194805195,0.015584415584415584,0.07792207792207792,0.012987012987012988,1e-05,1e-05,0.023376623376623377,0.08311688311688312,0.08311688311688312,1e-05,0.04415584415584416,0.08051948051948052,0.01038961038961039,0.05454545454545454,0.012987012987012988,0.007792207792207792,0.02077922077922078,0.005194805194805195,1e-05,0.02857142857142857,0.007792207792207792,0.17402597402597403,0.02077922077922078],\"sizemode\":\"area\",\"sizeref\":0.0009154929577464789},\"mode\":\"markers\",\"name\":\"\",\"showlegend\":false,\"subplot\":\"mapbox\",\"type\":\"scattermapbox\"}],\"name\":\"2012\"},{\"data\":[{\"hovertemplate\":\"a\\u00f1o=2013<br>Proporci\\u00f3n=%{marker.size}<br>lat=%{lat}<br>lon=%{lon}<extra></extra>\",\"lat\":[-33.5,-33.4219,-33.1939,-33.38,-33.5669,-33.4589,-33.3678,-33.4128,-33.5289,-33.525,-33.5833,-33.5828,-33.4428,-33.4167,-33.35,-33.5219,-33.445,-33.4869,-33.5167,-33.4539,-33.4661,-33.4861,-33.435,-33.4333,-33.6158,-33.3608,-33.4269,-33.4058,-33.3978,-33.4908,-33.4858,-33.5428,-33.4372,-33.4],\"legendgroup\":\"\",\"lon\":[-70.7167,-70.735,-70.6678,-70.675,-70.675,-70.6989,-70.6339,-70.6658,-70.6628,-70.5378,-70.5833,-70.6339,-70.5319,-70.5833,-70.5167,-70.6869,-70.7258,-70.6039,-70.7667,-70.6039,-70.6336,-70.5333,-70.6158,-70.7167,-70.57,-70.7289,-70.6989,-70.64,-70.7228,-70.6278,-70.6494,-70.6439,-70.6572,-70.6],\"marker\":{\"color\":\"#636efa\",\"size\":[0.011467889908256881,1e-05,0.0045871559633027525,0.0022935779816513763,0.016055045871559634,0.022935779816513763,0.009174311926605505,0.016055045871559634,0.0389908256880734,0.08486238532110092,0.0045871559633027525,1e-05,0.022935779816513763,0.05963302752293578,0.011467889908256881,1e-05,1e-05,0.020642201834862386,0.10779816513761468,0.06192660550458716,0.0045871559633027525,0.045871559633027525,0.11009174311926606,0.006880733944954129,0.08027522935779817,0.01834862385321101,0.0045871559633027525,0.013761467889908258,0.0022935779816513763,1e-05,0.02522935779816514,0.006880733944954129,0.1628440366972477,0.022935779816513763],\"sizemode\":\"area\",\"sizeref\":0.0009154929577464789},\"mode\":\"markers\",\"name\":\"\",\"showlegend\":false,\"subplot\":\"mapbox\",\"type\":\"scattermapbox\"}],\"name\":\"2013\"},{\"data\":[{\"hovertemplate\":\"a\\u00f1o=2014<br>Proporci\\u00f3n=%{marker.size}<br>lat=%{lat}<br>lon=%{lon}<extra></extra>\",\"lat\":[-33.5,-33.4219,-33.1939,-33.38,-33.5669,-33.4589,-33.3678,-33.4128,-33.5289,-33.525,-33.5833,-33.5828,-33.4428,-33.4167,-33.35,-33.5219,-33.445,-33.4869,-33.5167,-33.4539,-33.4661,-33.4861,-33.435,-33.4333,-33.6158,-33.3608,-33.4269,-33.4058,-33.3978,-33.4908,-33.4858,-33.5428,-33.4372,-33.4],\"legendgroup\":\"\",\"lon\":[-70.7167,-70.735,-70.6678,-70.675,-70.675,-70.6989,-70.6339,-70.6658,-70.6628,-70.5378,-70.5833,-70.6339,-70.5319,-70.5833,-70.5167,-70.6869,-70.7258,-70.6039,-70.7667,-70.6039,-70.6336,-70.5333,-70.6158,-70.7167,-70.57,-70.7289,-70.6989,-70.64,-70.7228,-70.6278,-70.6494,-70.6439,-70.6572,-70.6],\"marker\":{\"color\":\"#636efa\",\"size\":[0.002257336343115124,1e-05,0.004514672686230248,1e-05,0.01580135440180587,0.01805869074492099,0.009029345372460496,0.006772009029345372,0.03837471783295711,0.07900677200902935,0.004514672686230248,0.002257336343115124,0.029345372460496615,0.04740406320541761,0.004514672686230248,1e-05,0.004514672686230248,0.013544018058690745,0.09255079006772009,0.07223476297968397,1e-05,0.024830699774266364,0.08803611738148984,0.011286681715575621,0.08577878103837472,0.029345372460496615,0.011286681715575621,0.022573363431151242,0.004514672686230248,0.002257336343115124,0.02708803611738149,0.002257336343115124,0.23024830699774265,0.01580135440180587],\"sizemode\":\"area\",\"sizeref\":0.0009154929577464789},\"mode\":\"markers\",\"name\":\"\",\"showlegend\":false,\"subplot\":\"mapbox\",\"type\":\"scattermapbox\"}],\"name\":\"2014\"},{\"data\":[{\"hovertemplate\":\"a\\u00f1o=2015<br>Proporci\\u00f3n=%{marker.size}<br>lat=%{lat}<br>lon=%{lon}<extra></extra>\",\"lat\":[-33.5,-33.4219,-33.1939,-33.38,-33.5669,-33.4589,-33.3678,-33.4128,-33.5289,-33.525,-33.5833,-33.5828,-33.4428,-33.4167,-33.35,-33.5219,-33.445,-33.4869,-33.5167,-33.4539,-33.4661,-33.4861,-33.435,-33.4333,-33.6158,-33.3608,-33.4269,-33.4058,-33.3978,-33.4908,-33.4858,-33.5428,-33.4372,-33.4],\"legendgroup\":\"\",\"lon\":[-70.7167,-70.735,-70.6678,-70.675,-70.675,-70.6989,-70.6339,-70.6658,-70.6628,-70.5378,-70.5833,-70.6339,-70.5319,-70.5833,-70.5167,-70.6869,-70.7258,-70.6039,-70.7667,-70.6039,-70.6336,-70.5333,-70.6158,-70.7167,-70.57,-70.7289,-70.6989,-70.64,-70.7228,-70.6278,-70.6494,-70.6439,-70.6572,-70.6],\"marker\":{\"color\":\"#636efa\",\"size\":[0.002380952380952381,1e-05,0.004761904761904762,0.002380952380952381,0.009523809523809525,0.01904761904761905,0.009523809523809525,0.007142857142857143,0.02619047619047619,0.0880952380952381,0.009523809523809525,0.002380952380952381,0.007142857142857143,0.05238095238095238,0.009523809523809525,1e-05,1e-05,0.016666666666666666,0.1,0.05714285714285714,0.002380952380952381,0.06190476190476191,0.12142857142857143,0.007142857142857143,0.05238095238095238,0.023809523809523808,0.009523809523809525,0.01904761904761905,0.004761904761904762,0.002380952380952381,0.0380952380952381,1e-05,0.2119047619047619,0.02142857142857143],\"sizemode\":\"area\",\"sizeref\":0.0009154929577464789},\"mode\":\"markers\",\"name\":\"\",\"showlegend\":false,\"subplot\":\"mapbox\",\"type\":\"scattermapbox\"}],\"name\":\"2015\"},{\"data\":[{\"hovertemplate\":\"a\\u00f1o=2016<br>Proporci\\u00f3n=%{marker.size}<br>lat=%{lat}<br>lon=%{lon}<extra></extra>\",\"lat\":[-33.5,-33.4219,-33.1939,-33.38,-33.5669,-33.4589,-33.3678,-33.4128,-33.5289,-33.525,-33.5833,-33.5828,-33.4428,-33.4167,-33.35,-33.5219,-33.445,-33.4869,-33.5167,-33.4539,-33.4661,-33.4861,-33.435,-33.4333,-33.6158,-33.3608,-33.4269,-33.4058,-33.3978,-33.4908,-33.4858,-33.5428,-33.4372,-33.4],\"legendgroup\":\"\",\"lon\":[-70.7167,-70.735,-70.6678,-70.675,-70.675,-70.6989,-70.6339,-70.6658,-70.6628,-70.5378,-70.5833,-70.6339,-70.5319,-70.5833,-70.5167,-70.6869,-70.7258,-70.6039,-70.7667,-70.6039,-70.6336,-70.5333,-70.6158,-70.7167,-70.57,-70.7289,-70.6989,-70.64,-70.7228,-70.6278,-70.6494,-70.6439,-70.6572,-70.6],\"marker\":{\"color\":\"#636efa\",\"size\":[0.01026694045174538,1e-05,0.006160164271047228,1e-05,0.022587268993839837,0.02053388090349076,0.018480492813141684,0.008213552361396304,0.02053388090349076,0.08418891170431211,0.012320328542094456,0.002053388090349076,0.01642710472279261,0.0513347022587269,0.002053388090349076,0.004106776180698152,1e-05,0.014373716632443531,0.08418891170431211,0.059548254620123205,0.004106776180698152,0.03490759753593429,0.08624229979466119,0.014373716632443531,0.0513347022587269,0.03285420944558522,0.012320328542094456,0.008213552361396304,0.008213552361396304,0.002053388090349076,0.03490759753593429,0.012320328542094456,0.2402464065708419,0.02053388090349076],\"sizemode\":\"area\",\"sizeref\":0.0009154929577464789},\"mode\":\"markers\",\"name\":\"\",\"showlegend\":false,\"subplot\":\"mapbox\",\"type\":\"scattermapbox\"}],\"name\":\"2016\"}]);\n",
       "                        }).then(function(){\n",
       "                            \n",
       "var gd = document.getElementById('3a2bb849-5c46-405b-9a36-78e815024027');\n",
       "var x = new MutationObserver(function (mutations, observer) {{\n",
       "        var display = window.getComputedStyle(gd).display;\n",
       "        if (!display || display === 'none') {{\n",
       "            console.log([gd, 'removed!']);\n",
       "            Plotly.purge(gd);\n",
       "            observer.disconnect();\n",
       "        }}\n",
       "}});\n",
       "\n",
       "// Listen for the removal of the full notebook cells\n",
       "var notebookContainer = gd.closest('#notebook-container');\n",
       "if (notebookContainer) {{\n",
       "    x.observe(notebookContainer, {childList: true});\n",
       "}}\n",
       "\n",
       "// Listen for the clearing of the current output cell\n",
       "var outputEl = gd.closest('.output');\n",
       "if (outputEl) {{\n",
       "    x.observe(outputEl, {childList: true});\n",
       "}}\n",
       "\n",
       "                        })                };                });            </script>        </div>"
      ]
     },
     "metadata": {},
     "output_type": "display_data"
    }
   ],
   "source": [
    "comunas_colegios_todos_anos[\"Proporción\"] = comunas_colegios_todos_anos[\"Proporción\"].replace({0.0:0.00001})\n",
    "\n",
    "fig = px.scatter_mapbox(comunas_colegios_todos_anos,\\\n",
    "                         lat=\"lat\", lon=\"lon\",  zoom=2, size = \"Proporción\",animation_frame = \"año\")\n",
    "fig.update_layout(\n",
    "    margin ={'l':0,'t':0,'b':0,'r':0},\n",
    "    mapbox = {\n",
    "        'center': {'lon': -70.73, 'lat': -33.45},\n",
    "        'style': \"open-street-map\",\n",
    "        'zoom': 10})\n",
    "\n",
    "fig.show()\n",
    " \n"
   ]
  },
  {
   "cell_type": "code",
   "execution_count": null,
   "id": "2e532886",
   "metadata": {},
   "outputs": [],
   "source": []
  }
 ],
 "metadata": {
  "kernelspec": {
   "display_name": "Python 3 (ipykernel)",
   "language": "python",
   "name": "python3"
  },
  "language_info": {
   "codemirror_mode": {
    "name": "ipython",
    "version": 3
   },
   "file_extension": ".py",
   "mimetype": "text/x-python",
   "name": "python",
   "nbconvert_exporter": "python",
   "pygments_lexer": "ipython3",
   "version": "3.9.12"
  }
 },
 "nbformat": 4,
 "nbformat_minor": 5
}
